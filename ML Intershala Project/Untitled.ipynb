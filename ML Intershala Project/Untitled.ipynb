{
 "cells": [
  {
   "cell_type": "code",
   "execution_count": 1,
   "id": "d1515964",
   "metadata": {},
   "outputs": [],
   "source": [
    "import numpy as np\n",
    "import pandas as pd\n",
    "import seaborn as sns"
   ]
  },
  {
   "cell_type": "code",
   "execution_count": 2,
   "id": "774c0ad2",
   "metadata": {},
   "outputs": [
    {
     "data": {
      "text/html": [
       "<div>\n",
       "<style scoped>\n",
       "    .dataframe tbody tr th:only-of-type {\n",
       "        vertical-align: middle;\n",
       "    }\n",
       "\n",
       "    .dataframe tbody tr th {\n",
       "        vertical-align: top;\n",
       "    }\n",
       "\n",
       "    .dataframe thead th {\n",
       "        text-align: right;\n",
       "    }\n",
       "</style>\n",
       "<table border=\"1\" class=\"dataframe\">\n",
       "  <thead>\n",
       "    <tr style=\"text-align: right;\">\n",
       "      <th></th>\n",
       "      <th>ID</th>\n",
       "      <th>Office_PIN</th>\n",
       "      <th>Application_Receipt_Date</th>\n",
       "      <th>Applicant_City_PIN</th>\n",
       "      <th>Applicant_Gender</th>\n",
       "      <th>Applicant_BirthDate</th>\n",
       "      <th>Applicant_Marital_Status</th>\n",
       "      <th>Applicant_Occupation</th>\n",
       "      <th>Applicant_Qualification</th>\n",
       "      <th>Manager_DOJ</th>\n",
       "      <th>...</th>\n",
       "      <th>Manager_Status</th>\n",
       "      <th>Manager_Gender</th>\n",
       "      <th>Manager_DoB</th>\n",
       "      <th>Manager_Num_Application</th>\n",
       "      <th>Manager_Num_Coded</th>\n",
       "      <th>Manager_Business</th>\n",
       "      <th>Manager_Num_Products</th>\n",
       "      <th>Manager_Business2</th>\n",
       "      <th>Manager_Num_Products2</th>\n",
       "      <th>Business_Sourced</th>\n",
       "    </tr>\n",
       "  </thead>\n",
       "  <tbody>\n",
       "    <tr>\n",
       "      <th>0</th>\n",
       "      <td>FIN1000001</td>\n",
       "      <td>842001</td>\n",
       "      <td>4/16/2007</td>\n",
       "      <td>844120.0</td>\n",
       "      <td>M</td>\n",
       "      <td>12/19/1971</td>\n",
       "      <td>M</td>\n",
       "      <td>Others</td>\n",
       "      <td>Graduate</td>\n",
       "      <td>11/10/2005</td>\n",
       "      <td>...</td>\n",
       "      <td>Confirmation</td>\n",
       "      <td>M</td>\n",
       "      <td>2/17/1978</td>\n",
       "      <td>2.0</td>\n",
       "      <td>1.0</td>\n",
       "      <td>335249.0</td>\n",
       "      <td>28.0</td>\n",
       "      <td>335249.0</td>\n",
       "      <td>28.0</td>\n",
       "      <td>0</td>\n",
       "    </tr>\n",
       "    <tr>\n",
       "      <th>1</th>\n",
       "      <td>FIN1000002</td>\n",
       "      <td>842001</td>\n",
       "      <td>4/16/2007</td>\n",
       "      <td>844111.0</td>\n",
       "      <td>M</td>\n",
       "      <td>2/17/1983</td>\n",
       "      <td>S</td>\n",
       "      <td>Others</td>\n",
       "      <td>Class XII</td>\n",
       "      <td>11/10/2005</td>\n",
       "      <td>...</td>\n",
       "      <td>Confirmation</td>\n",
       "      <td>M</td>\n",
       "      <td>2/17/1978</td>\n",
       "      <td>2.0</td>\n",
       "      <td>1.0</td>\n",
       "      <td>335249.0</td>\n",
       "      <td>28.0</td>\n",
       "      <td>335249.0</td>\n",
       "      <td>28.0</td>\n",
       "      <td>1</td>\n",
       "    </tr>\n",
       "    <tr>\n",
       "      <th>2</th>\n",
       "      <td>FIN1000003</td>\n",
       "      <td>800001</td>\n",
       "      <td>4/16/2007</td>\n",
       "      <td>844101.0</td>\n",
       "      <td>M</td>\n",
       "      <td>1/16/1966</td>\n",
       "      <td>M</td>\n",
       "      <td>Business</td>\n",
       "      <td>Class XII</td>\n",
       "      <td>5/27/2006</td>\n",
       "      <td>...</td>\n",
       "      <td>Confirmation</td>\n",
       "      <td>M</td>\n",
       "      <td>3/3/1969</td>\n",
       "      <td>0.0</td>\n",
       "      <td>0.0</td>\n",
       "      <td>357184.0</td>\n",
       "      <td>24.0</td>\n",
       "      <td>357184.0</td>\n",
       "      <td>24.0</td>\n",
       "      <td>0</td>\n",
       "    </tr>\n",
       "    <tr>\n",
       "      <th>3</th>\n",
       "      <td>FIN1000004</td>\n",
       "      <td>814112</td>\n",
       "      <td>4/16/2007</td>\n",
       "      <td>814112.0</td>\n",
       "      <td>M</td>\n",
       "      <td>2/3/1988</td>\n",
       "      <td>S</td>\n",
       "      <td>Salaried</td>\n",
       "      <td>Class XII</td>\n",
       "      <td>8/21/2003</td>\n",
       "      <td>...</td>\n",
       "      <td>Confirmation</td>\n",
       "      <td>F</td>\n",
       "      <td>8/14/1978</td>\n",
       "      <td>0.0</td>\n",
       "      <td>0.0</td>\n",
       "      <td>318356.0</td>\n",
       "      <td>22.0</td>\n",
       "      <td>318356.0</td>\n",
       "      <td>22.0</td>\n",
       "      <td>0</td>\n",
       "    </tr>\n",
       "    <tr>\n",
       "      <th>4</th>\n",
       "      <td>FIN1000005</td>\n",
       "      <td>814112</td>\n",
       "      <td>4/16/2007</td>\n",
       "      <td>815351.0</td>\n",
       "      <td>M</td>\n",
       "      <td>7/4/1985</td>\n",
       "      <td>M</td>\n",
       "      <td>Others</td>\n",
       "      <td>Class XII</td>\n",
       "      <td>5/8/2006</td>\n",
       "      <td>...</td>\n",
       "      <td>Confirmation</td>\n",
       "      <td>M</td>\n",
       "      <td>2/7/1971</td>\n",
       "      <td>2.0</td>\n",
       "      <td>1.0</td>\n",
       "      <td>230402.0</td>\n",
       "      <td>17.0</td>\n",
       "      <td>230402.0</td>\n",
       "      <td>17.0</td>\n",
       "      <td>0</td>\n",
       "    </tr>\n",
       "  </tbody>\n",
       "</table>\n",
       "<p>5 rows × 23 columns</p>\n",
       "</div>"
      ],
      "text/plain": [
       "           ID  Office_PIN Application_Receipt_Date  Applicant_City_PIN  \\\n",
       "0  FIN1000001      842001                4/16/2007            844120.0   \n",
       "1  FIN1000002      842001                4/16/2007            844111.0   \n",
       "2  FIN1000003      800001                4/16/2007            844101.0   \n",
       "3  FIN1000004      814112                4/16/2007            814112.0   \n",
       "4  FIN1000005      814112                4/16/2007            815351.0   \n",
       "\n",
       "  Applicant_Gender Applicant_BirthDate Applicant_Marital_Status  \\\n",
       "0                M          12/19/1971                        M   \n",
       "1                M           2/17/1983                        S   \n",
       "2                M           1/16/1966                        M   \n",
       "3                M            2/3/1988                        S   \n",
       "4                M            7/4/1985                        M   \n",
       "\n",
       "  Applicant_Occupation Applicant_Qualification Manager_DOJ  ...  \\\n",
       "0               Others                Graduate  11/10/2005  ...   \n",
       "1               Others               Class XII  11/10/2005  ...   \n",
       "2             Business               Class XII   5/27/2006  ...   \n",
       "3             Salaried               Class XII   8/21/2003  ...   \n",
       "4               Others               Class XII    5/8/2006  ...   \n",
       "\n",
       "  Manager_Status Manager_Gender  Manager_DoB Manager_Num_Application  \\\n",
       "0   Confirmation              M    2/17/1978                     2.0   \n",
       "1   Confirmation              M    2/17/1978                     2.0   \n",
       "2   Confirmation              M     3/3/1969                     0.0   \n",
       "3   Confirmation              F    8/14/1978                     0.0   \n",
       "4   Confirmation              M     2/7/1971                     2.0   \n",
       "\n",
       "  Manager_Num_Coded Manager_Business  Manager_Num_Products  Manager_Business2  \\\n",
       "0               1.0         335249.0                  28.0           335249.0   \n",
       "1               1.0         335249.0                  28.0           335249.0   \n",
       "2               0.0         357184.0                  24.0           357184.0   \n",
       "3               0.0         318356.0                  22.0           318356.0   \n",
       "4               1.0         230402.0                  17.0           230402.0   \n",
       "\n",
       "   Manager_Num_Products2  Business_Sourced  \n",
       "0                   28.0                 0  \n",
       "1                   28.0                 1  \n",
       "2                   24.0                 0  \n",
       "3                   22.0                 0  \n",
       "4                   17.0                 0  \n",
       "\n",
       "[5 rows x 23 columns]"
      ]
     },
     "execution_count": 2,
     "metadata": {},
     "output_type": "execute_result"
    }
   ],
   "source": [
    "train = pd.read_csv(\"Train_VWXNENq.csv\")\n",
    "train.head()"
   ]
  },
  {
   "cell_type": "code",
   "execution_count": 3,
   "id": "04a66f01",
   "metadata": {},
   "outputs": [
    {
     "name": "stdout",
     "output_type": "stream",
     "text": [
      "<class 'pandas.core.frame.DataFrame'>\n",
      "RangeIndex: 9527 entries, 0 to 9526\n",
      "Data columns (total 23 columns):\n",
      " #   Column                       Non-Null Count  Dtype  \n",
      "---  ------                       --------------  -----  \n",
      " 0   ID                           9527 non-null   object \n",
      " 1   Office_PIN                   9527 non-null   int64  \n",
      " 2   Application_Receipt_Date     9527 non-null   object \n",
      " 3   Applicant_City_PIN           9430 non-null   float64\n",
      " 4   Applicant_Gender             9460 non-null   object \n",
      " 5   Applicant_BirthDate          9454 non-null   object \n",
      " 6   Applicant_Marital_Status     9454 non-null   object \n",
      " 7   Applicant_Occupation         8306 non-null   object \n",
      " 8   Applicant_Qualification      9441 non-null   object \n",
      " 9   Manager_DOJ                  8844 non-null   object \n",
      " 10  Manager_Joining_Designation  8844 non-null   object \n",
      " 11  Manager_Current_Designation  8844 non-null   object \n",
      " 12  Manager_Grade                8844 non-null   float64\n",
      " 13  Manager_Status               8844 non-null   object \n",
      " 14  Manager_Gender               8844 non-null   object \n",
      " 15  Manager_DoB                  8844 non-null   object \n",
      " 16  Manager_Num_Application      8844 non-null   float64\n",
      " 17  Manager_Num_Coded            8844 non-null   float64\n",
      " 18  Manager_Business             8844 non-null   float64\n",
      " 19  Manager_Num_Products         8844 non-null   float64\n",
      " 20  Manager_Business2            8844 non-null   float64\n",
      " 21  Manager_Num_Products2        8844 non-null   float64\n",
      " 22  Business_Sourced             9527 non-null   int64  \n",
      "dtypes: float64(8), int64(2), object(13)\n",
      "memory usage: 1.7+ MB\n"
     ]
    }
   ],
   "source": [
    "train.info()"
   ]
  },
  {
   "cell_type": "code",
   "execution_count": 4,
   "id": "766196fe",
   "metadata": {},
   "outputs": [],
   "source": [
    "df = train.drop([\"ID\",\"Office_PIN\",\"Application_Receipt_Date\",\"Applicant_City_PIN\",\"Applicant_BirthDate\",\n",
    "                \"Manager_DOJ\",\"Manager_DoB\"],axis=1)"
   ]
  },
  {
   "cell_type": "code",
   "execution_count": 5,
   "id": "bfe9fbf4",
   "metadata": {},
   "outputs": [
    {
     "data": {
      "text/html": [
       "<div>\n",
       "<style scoped>\n",
       "    .dataframe tbody tr th:only-of-type {\n",
       "        vertical-align: middle;\n",
       "    }\n",
       "\n",
       "    .dataframe tbody tr th {\n",
       "        vertical-align: top;\n",
       "    }\n",
       "\n",
       "    .dataframe thead th {\n",
       "        text-align: right;\n",
       "    }\n",
       "</style>\n",
       "<table border=\"1\" class=\"dataframe\">\n",
       "  <thead>\n",
       "    <tr style=\"text-align: right;\">\n",
       "      <th></th>\n",
       "      <th>Applicant_Gender</th>\n",
       "      <th>Applicant_Marital_Status</th>\n",
       "      <th>Applicant_Occupation</th>\n",
       "      <th>Applicant_Qualification</th>\n",
       "      <th>Manager_Joining_Designation</th>\n",
       "      <th>Manager_Current_Designation</th>\n",
       "      <th>Manager_Grade</th>\n",
       "      <th>Manager_Status</th>\n",
       "      <th>Manager_Gender</th>\n",
       "      <th>Manager_Num_Application</th>\n",
       "      <th>Manager_Num_Coded</th>\n",
       "      <th>Manager_Business</th>\n",
       "      <th>Manager_Num_Products</th>\n",
       "      <th>Manager_Business2</th>\n",
       "      <th>Manager_Num_Products2</th>\n",
       "      <th>Business_Sourced</th>\n",
       "    </tr>\n",
       "  </thead>\n",
       "  <tbody>\n",
       "    <tr>\n",
       "      <th>0</th>\n",
       "      <td>M</td>\n",
       "      <td>M</td>\n",
       "      <td>Others</td>\n",
       "      <td>Graduate</td>\n",
       "      <td>Level 1</td>\n",
       "      <td>Level 2</td>\n",
       "      <td>3.0</td>\n",
       "      <td>Confirmation</td>\n",
       "      <td>M</td>\n",
       "      <td>2.0</td>\n",
       "      <td>1.0</td>\n",
       "      <td>335249.0</td>\n",
       "      <td>28.0</td>\n",
       "      <td>335249.0</td>\n",
       "      <td>28.0</td>\n",
       "      <td>0</td>\n",
       "    </tr>\n",
       "    <tr>\n",
       "      <th>1</th>\n",
       "      <td>M</td>\n",
       "      <td>S</td>\n",
       "      <td>Others</td>\n",
       "      <td>Class XII</td>\n",
       "      <td>Level 1</td>\n",
       "      <td>Level 2</td>\n",
       "      <td>3.0</td>\n",
       "      <td>Confirmation</td>\n",
       "      <td>M</td>\n",
       "      <td>2.0</td>\n",
       "      <td>1.0</td>\n",
       "      <td>335249.0</td>\n",
       "      <td>28.0</td>\n",
       "      <td>335249.0</td>\n",
       "      <td>28.0</td>\n",
       "      <td>1</td>\n",
       "    </tr>\n",
       "    <tr>\n",
       "      <th>2</th>\n",
       "      <td>M</td>\n",
       "      <td>M</td>\n",
       "      <td>Business</td>\n",
       "      <td>Class XII</td>\n",
       "      <td>Level 1</td>\n",
       "      <td>Level 1</td>\n",
       "      <td>2.0</td>\n",
       "      <td>Confirmation</td>\n",
       "      <td>M</td>\n",
       "      <td>0.0</td>\n",
       "      <td>0.0</td>\n",
       "      <td>357184.0</td>\n",
       "      <td>24.0</td>\n",
       "      <td>357184.0</td>\n",
       "      <td>24.0</td>\n",
       "      <td>0</td>\n",
       "    </tr>\n",
       "    <tr>\n",
       "      <th>3</th>\n",
       "      <td>M</td>\n",
       "      <td>S</td>\n",
       "      <td>Salaried</td>\n",
       "      <td>Class XII</td>\n",
       "      <td>Level 1</td>\n",
       "      <td>Level 3</td>\n",
       "      <td>4.0</td>\n",
       "      <td>Confirmation</td>\n",
       "      <td>F</td>\n",
       "      <td>0.0</td>\n",
       "      <td>0.0</td>\n",
       "      <td>318356.0</td>\n",
       "      <td>22.0</td>\n",
       "      <td>318356.0</td>\n",
       "      <td>22.0</td>\n",
       "      <td>0</td>\n",
       "    </tr>\n",
       "    <tr>\n",
       "      <th>4</th>\n",
       "      <td>M</td>\n",
       "      <td>M</td>\n",
       "      <td>Others</td>\n",
       "      <td>Class XII</td>\n",
       "      <td>Level 1</td>\n",
       "      <td>Level 1</td>\n",
       "      <td>2.0</td>\n",
       "      <td>Confirmation</td>\n",
       "      <td>M</td>\n",
       "      <td>2.0</td>\n",
       "      <td>1.0</td>\n",
       "      <td>230402.0</td>\n",
       "      <td>17.0</td>\n",
       "      <td>230402.0</td>\n",
       "      <td>17.0</td>\n",
       "      <td>0</td>\n",
       "    </tr>\n",
       "  </tbody>\n",
       "</table>\n",
       "</div>"
      ],
      "text/plain": [
       "  Applicant_Gender Applicant_Marital_Status Applicant_Occupation  \\\n",
       "0                M                        M               Others   \n",
       "1                M                        S               Others   \n",
       "2                M                        M             Business   \n",
       "3                M                        S             Salaried   \n",
       "4                M                        M               Others   \n",
       "\n",
       "  Applicant_Qualification Manager_Joining_Designation  \\\n",
       "0                Graduate                     Level 1   \n",
       "1               Class XII                     Level 1   \n",
       "2               Class XII                     Level 1   \n",
       "3               Class XII                     Level 1   \n",
       "4               Class XII                     Level 1   \n",
       "\n",
       "  Manager_Current_Designation  Manager_Grade Manager_Status Manager_Gender  \\\n",
       "0                     Level 2            3.0   Confirmation              M   \n",
       "1                     Level 2            3.0   Confirmation              M   \n",
       "2                     Level 1            2.0   Confirmation              M   \n",
       "3                     Level 3            4.0   Confirmation              F   \n",
       "4                     Level 1            2.0   Confirmation              M   \n",
       "\n",
       "   Manager_Num_Application  Manager_Num_Coded  Manager_Business  \\\n",
       "0                      2.0                1.0          335249.0   \n",
       "1                      2.0                1.0          335249.0   \n",
       "2                      0.0                0.0          357184.0   \n",
       "3                      0.0                0.0          318356.0   \n",
       "4                      2.0                1.0          230402.0   \n",
       "\n",
       "   Manager_Num_Products  Manager_Business2  Manager_Num_Products2  \\\n",
       "0                  28.0           335249.0                   28.0   \n",
       "1                  28.0           335249.0                   28.0   \n",
       "2                  24.0           357184.0                   24.0   \n",
       "3                  22.0           318356.0                   22.0   \n",
       "4                  17.0           230402.0                   17.0   \n",
       "\n",
       "   Business_Sourced  \n",
       "0                 0  \n",
       "1                 1  \n",
       "2                 0  \n",
       "3                 0  \n",
       "4                 0  "
      ]
     },
     "execution_count": 5,
     "metadata": {},
     "output_type": "execute_result"
    }
   ],
   "source": [
    "df.head()"
   ]
  },
  {
   "cell_type": "code",
   "execution_count": 6,
   "id": "fca68d32",
   "metadata": {},
   "outputs": [
    {
     "data": {
      "text/plain": [
       "(9527, 16)"
      ]
     },
     "execution_count": 6,
     "metadata": {},
     "output_type": "execute_result"
    }
   ],
   "source": [
    "df.shape"
   ]
  },
  {
   "cell_type": "code",
   "execution_count": 7,
   "id": "96672bf9",
   "metadata": {},
   "outputs": [
    {
     "name": "stdout",
     "output_type": "stream",
     "text": [
      "<class 'pandas.core.frame.DataFrame'>\n",
      "RangeIndex: 9527 entries, 0 to 9526\n",
      "Data columns (total 16 columns):\n",
      " #   Column                       Non-Null Count  Dtype  \n",
      "---  ------                       --------------  -----  \n",
      " 0   Applicant_Gender             9460 non-null   object \n",
      " 1   Applicant_Marital_Status     9454 non-null   object \n",
      " 2   Applicant_Occupation         8306 non-null   object \n",
      " 3   Applicant_Qualification      9441 non-null   object \n",
      " 4   Manager_Joining_Designation  8844 non-null   object \n",
      " 5   Manager_Current_Designation  8844 non-null   object \n",
      " 6   Manager_Grade                8844 non-null   float64\n",
      " 7   Manager_Status               8844 non-null   object \n",
      " 8   Manager_Gender               8844 non-null   object \n",
      " 9   Manager_Num_Application      8844 non-null   float64\n",
      " 10  Manager_Num_Coded            8844 non-null   float64\n",
      " 11  Manager_Business             8844 non-null   float64\n",
      " 12  Manager_Num_Products         8844 non-null   float64\n",
      " 13  Manager_Business2            8844 non-null   float64\n",
      " 14  Manager_Num_Products2        8844 non-null   float64\n",
      " 15  Business_Sourced             9527 non-null   int64  \n",
      "dtypes: float64(7), int64(1), object(8)\n",
      "memory usage: 1.2+ MB\n"
     ]
    }
   ],
   "source": [
    "df.info()"
   ]
  },
  {
   "cell_type": "code",
   "execution_count": 8,
   "id": "f760b09b",
   "metadata": {},
   "outputs": [],
   "source": [
    "df[\"Manager_Grade\"] = df[\"Manager_Grade\"].astype('object')"
   ]
  },
  {
   "cell_type": "code",
   "execution_count": 9,
   "id": "174d4459",
   "metadata": {},
   "outputs": [
    {
     "name": "stdout",
     "output_type": "stream",
     "text": [
      "<class 'pandas.core.frame.DataFrame'>\n",
      "RangeIndex: 9527 entries, 0 to 9526\n",
      "Data columns (total 16 columns):\n",
      " #   Column                       Non-Null Count  Dtype  \n",
      "---  ------                       --------------  -----  \n",
      " 0   Applicant_Gender             9460 non-null   object \n",
      " 1   Applicant_Marital_Status     9454 non-null   object \n",
      " 2   Applicant_Occupation         8306 non-null   object \n",
      " 3   Applicant_Qualification      9441 non-null   object \n",
      " 4   Manager_Joining_Designation  8844 non-null   object \n",
      " 5   Manager_Current_Designation  8844 non-null   object \n",
      " 6   Manager_Grade                8844 non-null   object \n",
      " 7   Manager_Status               8844 non-null   object \n",
      " 8   Manager_Gender               8844 non-null   object \n",
      " 9   Manager_Num_Application      8844 non-null   float64\n",
      " 10  Manager_Num_Coded            8844 non-null   float64\n",
      " 11  Manager_Business             8844 non-null   float64\n",
      " 12  Manager_Num_Products         8844 non-null   float64\n",
      " 13  Manager_Business2            8844 non-null   float64\n",
      " 14  Manager_Num_Products2        8844 non-null   float64\n",
      " 15  Business_Sourced             9527 non-null   int64  \n",
      "dtypes: float64(6), int64(1), object(9)\n",
      "memory usage: 1.2+ MB\n"
     ]
    }
   ],
   "source": [
    "df.info()"
   ]
  },
  {
   "cell_type": "code",
   "execution_count": 10,
   "id": "4eaf746e",
   "metadata": {},
   "outputs": [],
   "source": [
    "df[\"Business_Sourced\"] = df[\"Business_Sourced\"].astype('category')"
   ]
  },
  {
   "cell_type": "code",
   "execution_count": 11,
   "id": "989bccdb",
   "metadata": {},
   "outputs": [
    {
     "name": "stdout",
     "output_type": "stream",
     "text": [
      "<class 'pandas.core.frame.DataFrame'>\n",
      "RangeIndex: 9527 entries, 0 to 9526\n",
      "Data columns (total 16 columns):\n",
      " #   Column                       Non-Null Count  Dtype   \n",
      "---  ------                       --------------  -----   \n",
      " 0   Applicant_Gender             9460 non-null   object  \n",
      " 1   Applicant_Marital_Status     9454 non-null   object  \n",
      " 2   Applicant_Occupation         8306 non-null   object  \n",
      " 3   Applicant_Qualification      9441 non-null   object  \n",
      " 4   Manager_Joining_Designation  8844 non-null   object  \n",
      " 5   Manager_Current_Designation  8844 non-null   object  \n",
      " 6   Manager_Grade                8844 non-null   object  \n",
      " 7   Manager_Status               8844 non-null   object  \n",
      " 8   Manager_Gender               8844 non-null   object  \n",
      " 9   Manager_Num_Application      8844 non-null   float64 \n",
      " 10  Manager_Num_Coded            8844 non-null   float64 \n",
      " 11  Manager_Business             8844 non-null   float64 \n",
      " 12  Manager_Num_Products         8844 non-null   float64 \n",
      " 13  Manager_Business2            8844 non-null   float64 \n",
      " 14  Manager_Num_Products2        8844 non-null   float64 \n",
      " 15  Business_Sourced             9527 non-null   category\n",
      "dtypes: category(1), float64(6), object(9)\n",
      "memory usage: 1.1+ MB\n"
     ]
    }
   ],
   "source": [
    "df.info()"
   ]
  },
  {
   "cell_type": "code",
   "execution_count": 12,
   "id": "d8f76912",
   "metadata": {},
   "outputs": [
    {
     "data": {
      "text/plain": [
       "Applicant_Gender                0.703264\n",
       "Applicant_Marital_Status        0.766243\n",
       "Applicant_Occupation           12.816207\n",
       "Applicant_Qualification         0.902698\n",
       "Manager_Joining_Designation     7.169098\n",
       "Manager_Current_Designation     7.169098\n",
       "Manager_Grade                   7.169098\n",
       "Manager_Status                  7.169098\n",
       "Manager_Gender                  7.169098\n",
       "Manager_Num_Application         7.169098\n",
       "Manager_Num_Coded               7.169098\n",
       "Manager_Business                7.169098\n",
       "Manager_Num_Products            7.169098\n",
       "Manager_Business2               7.169098\n",
       "Manager_Num_Products2           7.169098\n",
       "Business_Sourced                0.000000\n",
       "dtype: float64"
      ]
     },
     "execution_count": 12,
     "metadata": {},
     "output_type": "execute_result"
    }
   ],
   "source": [
    "df.isnull().sum()/len(df)*100"
   ]
  },
  {
   "cell_type": "code",
   "execution_count": 13,
   "id": "7c94086e",
   "metadata": {},
   "outputs": [],
   "source": [
    "data = df.dropna(axis=0)"
   ]
  },
  {
   "cell_type": "code",
   "execution_count": 14,
   "id": "2f6344a6",
   "metadata": {},
   "outputs": [
    {
     "name": "stdout",
     "output_type": "stream",
     "text": [
      "<class 'pandas.core.frame.DataFrame'>\n",
      "Int64Index: 7745 entries, 0 to 9525\n",
      "Data columns (total 16 columns):\n",
      " #   Column                       Non-Null Count  Dtype   \n",
      "---  ------                       --------------  -----   \n",
      " 0   Applicant_Gender             7745 non-null   object  \n",
      " 1   Applicant_Marital_Status     7745 non-null   object  \n",
      " 2   Applicant_Occupation         7745 non-null   object  \n",
      " 3   Applicant_Qualification      7745 non-null   object  \n",
      " 4   Manager_Joining_Designation  7745 non-null   object  \n",
      " 5   Manager_Current_Designation  7745 non-null   object  \n",
      " 6   Manager_Grade                7745 non-null   object  \n",
      " 7   Manager_Status               7745 non-null   object  \n",
      " 8   Manager_Gender               7745 non-null   object  \n",
      " 9   Manager_Num_Application      7745 non-null   float64 \n",
      " 10  Manager_Num_Coded            7745 non-null   float64 \n",
      " 11  Manager_Business             7745 non-null   float64 \n",
      " 12  Manager_Num_Products         7745 non-null   float64 \n",
      " 13  Manager_Business2            7745 non-null   float64 \n",
      " 14  Manager_Num_Products2        7745 non-null   float64 \n",
      " 15  Business_Sourced             7745 non-null   category\n",
      "dtypes: category(1), float64(6), object(9)\n",
      "memory usage: 975.8+ KB\n"
     ]
    }
   ],
   "source": [
    "data.info()"
   ]
  },
  {
   "cell_type": "code",
   "execution_count": 15,
   "id": "2f826009",
   "metadata": {},
   "outputs": [],
   "source": [
    "d_cat = data.select_dtypes(include=\"object\")"
   ]
  },
  {
   "cell_type": "code",
   "execution_count": 16,
   "id": "8099de75",
   "metadata": {},
   "outputs": [
    {
     "data": {
      "text/html": [
       "<div>\n",
       "<style scoped>\n",
       "    .dataframe tbody tr th:only-of-type {\n",
       "        vertical-align: middle;\n",
       "    }\n",
       "\n",
       "    .dataframe tbody tr th {\n",
       "        vertical-align: top;\n",
       "    }\n",
       "\n",
       "    .dataframe thead th {\n",
       "        text-align: right;\n",
       "    }\n",
       "</style>\n",
       "<table border=\"1\" class=\"dataframe\">\n",
       "  <thead>\n",
       "    <tr style=\"text-align: right;\">\n",
       "      <th></th>\n",
       "      <th>Applicant_Gender</th>\n",
       "      <th>Applicant_Marital_Status</th>\n",
       "      <th>Applicant_Occupation</th>\n",
       "      <th>Applicant_Qualification</th>\n",
       "      <th>Manager_Joining_Designation</th>\n",
       "      <th>Manager_Current_Designation</th>\n",
       "      <th>Manager_Grade</th>\n",
       "      <th>Manager_Status</th>\n",
       "      <th>Manager_Gender</th>\n",
       "    </tr>\n",
       "  </thead>\n",
       "  <tbody>\n",
       "    <tr>\n",
       "      <th>0</th>\n",
       "      <td>M</td>\n",
       "      <td>M</td>\n",
       "      <td>Others</td>\n",
       "      <td>Graduate</td>\n",
       "      <td>Level 1</td>\n",
       "      <td>Level 2</td>\n",
       "      <td>3.0</td>\n",
       "      <td>Confirmation</td>\n",
       "      <td>M</td>\n",
       "    </tr>\n",
       "    <tr>\n",
       "      <th>1</th>\n",
       "      <td>M</td>\n",
       "      <td>S</td>\n",
       "      <td>Others</td>\n",
       "      <td>Class XII</td>\n",
       "      <td>Level 1</td>\n",
       "      <td>Level 2</td>\n",
       "      <td>3.0</td>\n",
       "      <td>Confirmation</td>\n",
       "      <td>M</td>\n",
       "    </tr>\n",
       "    <tr>\n",
       "      <th>2</th>\n",
       "      <td>M</td>\n",
       "      <td>M</td>\n",
       "      <td>Business</td>\n",
       "      <td>Class XII</td>\n",
       "      <td>Level 1</td>\n",
       "      <td>Level 1</td>\n",
       "      <td>2.0</td>\n",
       "      <td>Confirmation</td>\n",
       "      <td>M</td>\n",
       "    </tr>\n",
       "    <tr>\n",
       "      <th>3</th>\n",
       "      <td>M</td>\n",
       "      <td>S</td>\n",
       "      <td>Salaried</td>\n",
       "      <td>Class XII</td>\n",
       "      <td>Level 1</td>\n",
       "      <td>Level 3</td>\n",
       "      <td>4.0</td>\n",
       "      <td>Confirmation</td>\n",
       "      <td>F</td>\n",
       "    </tr>\n",
       "    <tr>\n",
       "      <th>4</th>\n",
       "      <td>M</td>\n",
       "      <td>M</td>\n",
       "      <td>Others</td>\n",
       "      <td>Class XII</td>\n",
       "      <td>Level 1</td>\n",
       "      <td>Level 1</td>\n",
       "      <td>2.0</td>\n",
       "      <td>Confirmation</td>\n",
       "      <td>M</td>\n",
       "    </tr>\n",
       "  </tbody>\n",
       "</table>\n",
       "</div>"
      ],
      "text/plain": [
       "  Applicant_Gender Applicant_Marital_Status Applicant_Occupation  \\\n",
       "0                M                        M               Others   \n",
       "1                M                        S               Others   \n",
       "2                M                        M             Business   \n",
       "3                M                        S             Salaried   \n",
       "4                M                        M               Others   \n",
       "\n",
       "  Applicant_Qualification Manager_Joining_Designation  \\\n",
       "0                Graduate                     Level 1   \n",
       "1               Class XII                     Level 1   \n",
       "2               Class XII                     Level 1   \n",
       "3               Class XII                     Level 1   \n",
       "4               Class XII                     Level 1   \n",
       "\n",
       "  Manager_Current_Designation Manager_Grade Manager_Status Manager_Gender  \n",
       "0                     Level 2           3.0   Confirmation              M  \n",
       "1                     Level 2           3.0   Confirmation              M  \n",
       "2                     Level 1           2.0   Confirmation              M  \n",
       "3                     Level 3           4.0   Confirmation              F  \n",
       "4                     Level 1           2.0   Confirmation              M  "
      ]
     },
     "execution_count": 16,
     "metadata": {},
     "output_type": "execute_result"
    }
   ],
   "source": [
    "d_cat.head()"
   ]
  },
  {
   "cell_type": "code",
   "execution_count": 17,
   "id": "10e82b1f",
   "metadata": {},
   "outputs": [
    {
     "name": "stdout",
     "output_type": "stream",
     "text": [
      "<class 'pandas.core.frame.DataFrame'>\n",
      "Int64Index: 7745 entries, 0 to 9525\n",
      "Data columns (total 9 columns):\n",
      " #   Column                       Non-Null Count  Dtype \n",
      "---  ------                       --------------  ----- \n",
      " 0   Applicant_Gender             7745 non-null   object\n",
      " 1   Applicant_Marital_Status     7745 non-null   object\n",
      " 2   Applicant_Occupation         7745 non-null   object\n",
      " 3   Applicant_Qualification      7745 non-null   object\n",
      " 4   Manager_Joining_Designation  7745 non-null   object\n",
      " 5   Manager_Current_Designation  7745 non-null   object\n",
      " 6   Manager_Grade                7745 non-null   object\n",
      " 7   Manager_Status               7745 non-null   object\n",
      " 8   Manager_Gender               7745 non-null   object\n",
      "dtypes: object(9)\n",
      "memory usage: 605.1+ KB\n"
     ]
    }
   ],
   "source": [
    "d_cat.info()"
   ]
  },
  {
   "cell_type": "code",
   "execution_count": 18,
   "id": "65d86fcc",
   "metadata": {},
   "outputs": [
    {
     "name": "stdout",
     "output_type": "stream",
     "text": [
      "M    7179\n",
      "F    2281\n",
      "Name: Applicant_Gender, dtype: int64\n",
      "M    6177\n",
      "S    3267\n",
      "W       6\n",
      "D       4\n",
      "Name: Applicant_Marital_Status, dtype: int64\n",
      "Salaried         3787\n",
      "Business         2303\n",
      "Others           1966\n",
      "Self Employed     149\n",
      "Student           101\n",
      "Name: Applicant_Occupation, dtype: int64\n",
      "Class XII                                                           5806\n",
      "Graduate                                                            3196\n",
      "Class X                                                              225\n",
      "Others                                                               132\n",
      "Masters of Business Administration                                    74\n",
      "Associate / Fellow of Institute of Chartered Accountans of India       3\n",
      "Associate/Fellow of Acturial Society of India                          1\n",
      "Associate/Fellow of Insurance Institute of India                       1\n",
      "Associate/Fellow of Institute of Company Secretories of India          1\n",
      "Certified Associateship of Indian Institute of Bankers                 1\n",
      "Professional Qualification in Marketing                                1\n",
      "Name: Applicant_Qualification, dtype: int64\n",
      "Level 1    4632\n",
      "Level 2    2787\n",
      "Level 3    1146\n",
      "Level 4     200\n",
      "Other        58\n",
      "Level 6      18\n",
      "Level 7       2\n",
      "Level 5       1\n",
      "Name: Manager_Joining_Designation, dtype: int64\n",
      "Level 2    3208\n",
      "Level 1    2479\n",
      "Level 3    2033\n",
      "Level 4    1031\n",
      "Level 5      93\n",
      "Name: Manager_Current_Designation, dtype: int64\n",
      "3.0     3207\n",
      "2.0     2471\n",
      "4.0     2038\n",
      "5.0      666\n",
      "6.0      406\n",
      "7.0       22\n",
      "8.0       14\n",
      "1.0        8\n",
      "9.0        7\n",
      "10.0       5\n",
      "Name: Manager_Grade, dtype: int64\n",
      "Confirmation    5277\n",
      "Probation       3567\n",
      "Name: Manager_Status, dtype: int64\n",
      "M    7627\n",
      "F    1217\n",
      "Name: Manager_Gender, dtype: int64\n"
     ]
    }
   ],
   "source": [
    "cols = d_cat.columns\n",
    "for col in cols:\n",
    "    print(df[col].value_counts())"
   ]
  },
  {
   "cell_type": "code",
   "execution_count": 19,
   "id": "7778ac2d",
   "metadata": {},
   "outputs": [],
   "source": [
    "data_cat = pd.get_dummies(d_cat)"
   ]
  },
  {
   "cell_type": "code",
   "execution_count": 20,
   "id": "94822b88",
   "metadata": {},
   "outputs": [
    {
     "data": {
      "text/plain": [
       "(7745, 48)"
      ]
     },
     "execution_count": 20,
     "metadata": {},
     "output_type": "execute_result"
    }
   ],
   "source": [
    "data_cat.shape"
   ]
  },
  {
   "cell_type": "code",
   "execution_count": 21,
   "id": "e7ee0738",
   "metadata": {},
   "outputs": [],
   "source": [
    "d_num = data.select_dtypes(exclude=\"object\")\n",
    "d_num = d_num.drop(\"Business_Sourced\",axis=1)"
   ]
  },
  {
   "cell_type": "code",
   "execution_count": 22,
   "id": "3b3e0423",
   "metadata": {
    "scrolled": true
   },
   "outputs": [
    {
     "data": {
      "text/html": [
       "<div>\n",
       "<style scoped>\n",
       "    .dataframe tbody tr th:only-of-type {\n",
       "        vertical-align: middle;\n",
       "    }\n",
       "\n",
       "    .dataframe tbody tr th {\n",
       "        vertical-align: top;\n",
       "    }\n",
       "\n",
       "    .dataframe thead th {\n",
       "        text-align: right;\n",
       "    }\n",
       "</style>\n",
       "<table border=\"1\" class=\"dataframe\">\n",
       "  <thead>\n",
       "    <tr style=\"text-align: right;\">\n",
       "      <th></th>\n",
       "      <th>Manager_Num_Application</th>\n",
       "      <th>Manager_Num_Coded</th>\n",
       "      <th>Manager_Business</th>\n",
       "      <th>Manager_Num_Products</th>\n",
       "      <th>Manager_Business2</th>\n",
       "      <th>Manager_Num_Products2</th>\n",
       "    </tr>\n",
       "  </thead>\n",
       "  <tbody>\n",
       "    <tr>\n",
       "      <th>0</th>\n",
       "      <td>2.0</td>\n",
       "      <td>1.0</td>\n",
       "      <td>335249.0</td>\n",
       "      <td>28.0</td>\n",
       "      <td>335249.0</td>\n",
       "      <td>28.0</td>\n",
       "    </tr>\n",
       "    <tr>\n",
       "      <th>1</th>\n",
       "      <td>2.0</td>\n",
       "      <td>1.0</td>\n",
       "      <td>335249.0</td>\n",
       "      <td>28.0</td>\n",
       "      <td>335249.0</td>\n",
       "      <td>28.0</td>\n",
       "    </tr>\n",
       "    <tr>\n",
       "      <th>2</th>\n",
       "      <td>0.0</td>\n",
       "      <td>0.0</td>\n",
       "      <td>357184.0</td>\n",
       "      <td>24.0</td>\n",
       "      <td>357184.0</td>\n",
       "      <td>24.0</td>\n",
       "    </tr>\n",
       "    <tr>\n",
       "      <th>3</th>\n",
       "      <td>0.0</td>\n",
       "      <td>0.0</td>\n",
       "      <td>318356.0</td>\n",
       "      <td>22.0</td>\n",
       "      <td>318356.0</td>\n",
       "      <td>22.0</td>\n",
       "    </tr>\n",
       "    <tr>\n",
       "      <th>4</th>\n",
       "      <td>2.0</td>\n",
       "      <td>1.0</td>\n",
       "      <td>230402.0</td>\n",
       "      <td>17.0</td>\n",
       "      <td>230402.0</td>\n",
       "      <td>17.0</td>\n",
       "    </tr>\n",
       "  </tbody>\n",
       "</table>\n",
       "</div>"
      ],
      "text/plain": [
       "   Manager_Num_Application  Manager_Num_Coded  Manager_Business  \\\n",
       "0                      2.0                1.0          335249.0   \n",
       "1                      2.0                1.0          335249.0   \n",
       "2                      0.0                0.0          357184.0   \n",
       "3                      0.0                0.0          318356.0   \n",
       "4                      2.0                1.0          230402.0   \n",
       "\n",
       "   Manager_Num_Products  Manager_Business2  Manager_Num_Products2  \n",
       "0                  28.0           335249.0                   28.0  \n",
       "1                  28.0           335249.0                   28.0  \n",
       "2                  24.0           357184.0                   24.0  \n",
       "3                  22.0           318356.0                   22.0  \n",
       "4                  17.0           230402.0                   17.0  "
      ]
     },
     "execution_count": 22,
     "metadata": {},
     "output_type": "execute_result"
    }
   ],
   "source": [
    "d_num.head()"
   ]
  },
  {
   "cell_type": "code",
   "execution_count": 23,
   "id": "5dd2c9b2",
   "metadata": {},
   "outputs": [
    {
     "name": "stderr",
     "output_type": "stream",
     "text": [
      "/Applications/anaconda3/lib/python3.8/site-packages/seaborn/distributions.py:2557: FutureWarning: `distplot` is a deprecated function and will be removed in a future version. Please adapt your code to use either `displot` (a figure-level function with similar flexibility) or `histplot` (an axes-level function for histograms).\n",
      "  warnings.warn(msg, FutureWarning)\n"
     ]
    },
    {
     "data": {
      "text/plain": [
       "<AxesSubplot:xlabel='Manager_Num_Coded', ylabel='Density'>"
      ]
     },
     "execution_count": 23,
     "metadata": {},
     "output_type": "execute_result"
    },
    {
     "data": {
      "image/png": "[encoded data removed]",
      "text/plain": [
       "<Figure size 432x288 with 1 Axes>"
      ]
     },
     "metadata": {
      "needs_background": "light"
     },
     "output_type": "display_data"
    }
   ],
   "source": [
    "sns.distplot(d_num[\"Manager_Num_Coded\"])"
   ]
  },
  {
   "cell_type": "code",
   "execution_count": 24,
   "id": "0a3ac3f3",
   "metadata": {},
   "outputs": [],
   "source": [
    "from sklearn.preprocessing import MinMaxScaler"
   ]
  },
  {
   "cell_type": "code",
   "execution_count": 25,
   "id": "d3a3c6a7",
   "metadata": {},
   "outputs": [],
   "source": [
    "sc = MinMaxScaler()"
   ]
  },
  {
   "cell_type": "code",
   "execution_count": 26,
   "id": "a247d6e2",
   "metadata": {},
   "outputs": [],
   "source": [
    "d_sc = sc.fit_transform(d_num)"
   ]
  },
  {
   "cell_type": "code",
   "execution_count": 27,
   "id": "53ce9ae7",
   "metadata": {},
   "outputs": [],
   "source": [
    "data_num = pd.DataFrame(d_sc, columns= d_num.columns, index=d_num.index)"
   ]
  },
  {
   "cell_type": "code",
   "execution_count": 28,
   "id": "0f130312",
   "metadata": {},
   "outputs": [
    {
     "data": {
      "text/html": [
       "<div>\n",
       "<style scoped>\n",
       "    .dataframe tbody tr th:only-of-type {\n",
       "        vertical-align: middle;\n",
       "    }\n",
       "\n",
       "    .dataframe tbody tr th {\n",
       "        vertical-align: top;\n",
       "    }\n",
       "\n",
       "    .dataframe thead th {\n",
       "        text-align: right;\n",
       "    }\n",
       "</style>\n",
       "<table border=\"1\" class=\"dataframe\">\n",
       "  <thead>\n",
       "    <tr style=\"text-align: right;\">\n",
       "      <th></th>\n",
       "      <th>Manager_Num_Application</th>\n",
       "      <th>Manager_Num_Coded</th>\n",
       "      <th>Manager_Business</th>\n",
       "      <th>Manager_Num_Products</th>\n",
       "      <th>Manager_Business2</th>\n",
       "      <th>Manager_Num_Products2</th>\n",
       "    </tr>\n",
       "  </thead>\n",
       "  <tbody>\n",
       "    <tr>\n",
       "      <th>0</th>\n",
       "      <td>0.125</td>\n",
       "      <td>0.111111</td>\n",
       "      <td>0.156245</td>\n",
       "      <td>0.277228</td>\n",
       "      <td>0.156245</td>\n",
       "      <td>0.277228</td>\n",
       "    </tr>\n",
       "    <tr>\n",
       "      <th>1</th>\n",
       "      <td>0.125</td>\n",
       "      <td>0.111111</td>\n",
       "      <td>0.156245</td>\n",
       "      <td>0.277228</td>\n",
       "      <td>0.156245</td>\n",
       "      <td>0.277228</td>\n",
       "    </tr>\n",
       "    <tr>\n",
       "      <th>2</th>\n",
       "      <td>0.000</td>\n",
       "      <td>0.000000</td>\n",
       "      <td>0.161952</td>\n",
       "      <td>0.237624</td>\n",
       "      <td>0.161952</td>\n",
       "      <td>0.237624</td>\n",
       "    </tr>\n",
       "    <tr>\n",
       "      <th>3</th>\n",
       "      <td>0.000</td>\n",
       "      <td>0.000000</td>\n",
       "      <td>0.151850</td>\n",
       "      <td>0.217822</td>\n",
       "      <td>0.151850</td>\n",
       "      <td>0.217822</td>\n",
       "    </tr>\n",
       "    <tr>\n",
       "      <th>4</th>\n",
       "      <td>0.125</td>\n",
       "      <td>0.111111</td>\n",
       "      <td>0.128967</td>\n",
       "      <td>0.168317</td>\n",
       "      <td>0.128967</td>\n",
       "      <td>0.168317</td>\n",
       "    </tr>\n",
       "  </tbody>\n",
       "</table>\n",
       "</div>"
      ],
      "text/plain": [
       "   Manager_Num_Application  Manager_Num_Coded  Manager_Business  \\\n",
       "0                    0.125           0.111111          0.156245   \n",
       "1                    0.125           0.111111          0.156245   \n",
       "2                    0.000           0.000000          0.161952   \n",
       "3                    0.000           0.000000          0.151850   \n",
       "4                    0.125           0.111111          0.128967   \n",
       "\n",
       "   Manager_Num_Products  Manager_Business2  Manager_Num_Products2  \n",
       "0              0.277228           0.156245               0.277228  \n",
       "1              0.277228           0.156245               0.277228  \n",
       "2              0.237624           0.161952               0.237624  \n",
       "3              0.217822           0.151850               0.217822  \n",
       "4              0.168317           0.128967               0.168317  "
      ]
     },
     "execution_count": 28,
     "metadata": {},
     "output_type": "execute_result"
    }
   ],
   "source": [
    "data_num.head()"
   ]
  },
  {
   "cell_type": "code",
   "execution_count": 29,
   "id": "f1c3875b",
   "metadata": {},
   "outputs": [],
   "source": [
    "final1 = pd.concat([data_num,data_cat,data[\"Business_Sourced\"]],axis=1)"
   ]
  },
  {
   "cell_type": "code",
   "execution_count": 30,
   "id": "b8f7a510",
   "metadata": {},
   "outputs": [
    {
     "data": {
      "text/html": [
       "<div>\n",
       "<style scoped>\n",
       "    .dataframe tbody tr th:only-of-type {\n",
       "        vertical-align: middle;\n",
       "    }\n",
       "\n",
       "    .dataframe tbody tr th {\n",
       "        vertical-align: top;\n",
       "    }\n",
       "\n",
       "    .dataframe thead th {\n",
       "        text-align: right;\n",
       "    }\n",
       "</style>\n",
       "<table border=\"1\" class=\"dataframe\">\n",
       "  <thead>\n",
       "    <tr style=\"text-align: right;\">\n",
       "      <th></th>\n",
       "      <th>Manager_Num_Application</th>\n",
       "      <th>Manager_Num_Coded</th>\n",
       "      <th>Manager_Business</th>\n",
       "      <th>Manager_Num_Products</th>\n",
       "      <th>Manager_Business2</th>\n",
       "      <th>Manager_Num_Products2</th>\n",
       "      <th>Applicant_Gender_F</th>\n",
       "      <th>Applicant_Gender_M</th>\n",
       "      <th>Applicant_Marital_Status_D</th>\n",
       "      <th>Applicant_Marital_Status_M</th>\n",
       "      <th>...</th>\n",
       "      <th>Manager_Grade_6.0</th>\n",
       "      <th>Manager_Grade_7.0</th>\n",
       "      <th>Manager_Grade_8.0</th>\n",
       "      <th>Manager_Grade_9.0</th>\n",
       "      <th>Manager_Grade_10.0</th>\n",
       "      <th>Manager_Status_Confirmation</th>\n",
       "      <th>Manager_Status_Probation</th>\n",
       "      <th>Manager_Gender_F</th>\n",
       "      <th>Manager_Gender_M</th>\n",
       "      <th>Business_Sourced</th>\n",
       "    </tr>\n",
       "  </thead>\n",
       "  <tbody>\n",
       "    <tr>\n",
       "      <th>0</th>\n",
       "      <td>0.125</td>\n",
       "      <td>0.111111</td>\n",
       "      <td>0.156245</td>\n",
       "      <td>0.277228</td>\n",
       "      <td>0.156245</td>\n",
       "      <td>0.277228</td>\n",
       "      <td>0</td>\n",
       "      <td>1</td>\n",
       "      <td>0</td>\n",
       "      <td>1</td>\n",
       "      <td>...</td>\n",
       "      <td>0</td>\n",
       "      <td>0</td>\n",
       "      <td>0</td>\n",
       "      <td>0</td>\n",
       "      <td>0</td>\n",
       "      <td>1</td>\n",
       "      <td>0</td>\n",
       "      <td>0</td>\n",
       "      <td>1</td>\n",
       "      <td>0</td>\n",
       "    </tr>\n",
       "    <tr>\n",
       "      <th>1</th>\n",
       "      <td>0.125</td>\n",
       "      <td>0.111111</td>\n",
       "      <td>0.156245</td>\n",
       "      <td>0.277228</td>\n",
       "      <td>0.156245</td>\n",
       "      <td>0.277228</td>\n",
       "      <td>0</td>\n",
       "      <td>1</td>\n",
       "      <td>0</td>\n",
       "      <td>0</td>\n",
       "      <td>...</td>\n",
       "      <td>0</td>\n",
       "      <td>0</td>\n",
       "      <td>0</td>\n",
       "      <td>0</td>\n",
       "      <td>0</td>\n",
       "      <td>1</td>\n",
       "      <td>0</td>\n",
       "      <td>0</td>\n",
       "      <td>1</td>\n",
       "      <td>1</td>\n",
       "    </tr>\n",
       "    <tr>\n",
       "      <th>2</th>\n",
       "      <td>0.000</td>\n",
       "      <td>0.000000</td>\n",
       "      <td>0.161952</td>\n",
       "      <td>0.237624</td>\n",
       "      <td>0.161952</td>\n",
       "      <td>0.237624</td>\n",
       "      <td>0</td>\n",
       "      <td>1</td>\n",
       "      <td>0</td>\n",
       "      <td>1</td>\n",
       "      <td>...</td>\n",
       "      <td>0</td>\n",
       "      <td>0</td>\n",
       "      <td>0</td>\n",
       "      <td>0</td>\n",
       "      <td>0</td>\n",
       "      <td>1</td>\n",
       "      <td>0</td>\n",
       "      <td>0</td>\n",
       "      <td>1</td>\n",
       "      <td>0</td>\n",
       "    </tr>\n",
       "    <tr>\n",
       "      <th>3</th>\n",
       "      <td>0.000</td>\n",
       "      <td>0.000000</td>\n",
       "      <td>0.151850</td>\n",
       "      <td>0.217822</td>\n",
       "      <td>0.151850</td>\n",
       "      <td>0.217822</td>\n",
       "      <td>0</td>\n",
       "      <td>1</td>\n",
       "      <td>0</td>\n",
       "      <td>0</td>\n",
       "      <td>...</td>\n",
       "      <td>0</td>\n",
       "      <td>0</td>\n",
       "      <td>0</td>\n",
       "      <td>0</td>\n",
       "      <td>0</td>\n",
       "      <td>1</td>\n",
       "      <td>0</td>\n",
       "      <td>1</td>\n",
       "      <td>0</td>\n",
       "      <td>0</td>\n",
       "    </tr>\n",
       "    <tr>\n",
       "      <th>4</th>\n",
       "      <td>0.125</td>\n",
       "      <td>0.111111</td>\n",
       "      <td>0.128967</td>\n",
       "      <td>0.168317</td>\n",
       "      <td>0.128967</td>\n",
       "      <td>0.168317</td>\n",
       "      <td>0</td>\n",
       "      <td>1</td>\n",
       "      <td>0</td>\n",
       "      <td>1</td>\n",
       "      <td>...</td>\n",
       "      <td>0</td>\n",
       "      <td>0</td>\n",
       "      <td>0</td>\n",
       "      <td>0</td>\n",
       "      <td>0</td>\n",
       "      <td>1</td>\n",
       "      <td>0</td>\n",
       "      <td>0</td>\n",
       "      <td>1</td>\n",
       "      <td>0</td>\n",
       "    </tr>\n",
       "  </tbody>\n",
       "</table>\n",
       "<p>5 rows × 55 columns</p>\n",
       "</div>"
      ],
      "text/plain": [
       "   Manager_Num_Application  Manager_Num_Coded  Manager_Business  \\\n",
       "0                    0.125           0.111111          0.156245   \n",
       "1                    0.125           0.111111          0.156245   \n",
       "2                    0.000           0.000000          0.161952   \n",
       "3                    0.000           0.000000          0.151850   \n",
       "4                    0.125           0.111111          0.128967   \n",
       "\n",
       "   Manager_Num_Products  Manager_Business2  Manager_Num_Products2  \\\n",
       "0              0.277228           0.156245               0.277228   \n",
       "1              0.277228           0.156245               0.277228   \n",
       "2              0.237624           0.161952               0.237624   \n",
       "3              0.217822           0.151850               0.217822   \n",
       "4              0.168317           0.128967               0.168317   \n",
       "\n",
       "   Applicant_Gender_F  Applicant_Gender_M  Applicant_Marital_Status_D  \\\n",
       "0                   0                   1                           0   \n",
       "1                   0                   1                           0   \n",
       "2                   0                   1                           0   \n",
       "3                   0                   1                           0   \n",
       "4                   0                   1                           0   \n",
       "\n",
       "   Applicant_Marital_Status_M  ...  Manager_Grade_6.0  Manager_Grade_7.0  \\\n",
       "0                           1  ...                  0                  0   \n",
       "1                           0  ...                  0                  0   \n",
       "2                           1  ...                  0                  0   \n",
       "3                           0  ...                  0                  0   \n",
       "4                           1  ...                  0                  0   \n",
       "\n",
       "   Manager_Grade_8.0  Manager_Grade_9.0  Manager_Grade_10.0  \\\n",
       "0                  0                  0                   0   \n",
       "1                  0                  0                   0   \n",
       "2                  0                  0                   0   \n",
       "3                  0                  0                   0   \n",
       "4                  0                  0                   0   \n",
       "\n",
       "   Manager_Status_Confirmation  Manager_Status_Probation  Manager_Gender_F  \\\n",
       "0                            1                         0                 0   \n",
       "1                            1                         0                 0   \n",
       "2                            1                         0                 0   \n",
       "3                            1                         0                 1   \n",
       "4                            1                         0                 0   \n",
       "\n",
       "   Manager_Gender_M  Business_Sourced  \n",
       "0                 1                 0  \n",
       "1                 1                 1  \n",
       "2                 1                 0  \n",
       "3                 0                 0  \n",
       "4                 1                 0  \n",
       "\n",
       "[5 rows x 55 columns]"
      ]
     },
     "execution_count": 30,
     "metadata": {},
     "output_type": "execute_result"
    }
   ],
   "source": [
    "final1.head()"
   ]
  },
  {
   "cell_type": "code",
   "execution_count": 31,
   "id": "49db6a59",
   "metadata": {},
   "outputs": [],
   "source": [
    "x= final1.drop(\"Business_Sourced\",axis=1)\n",
    "y = final1[\"Business_Sourced\"]"
   ]
  },
  {
   "cell_type": "code",
   "execution_count": 32,
   "id": "17912bec",
   "metadata": {},
   "outputs": [],
   "source": [
    "from sklearn.model_selection import train_test_split"
   ]
  },
  {
   "cell_type": "code",
   "execution_count": 33,
   "id": "45fdc8b7",
   "metadata": {},
   "outputs": [],
   "source": [
    "x_train,x_test,y_train,y_test = train_test_split(x,y,test_size=.3,random_state=22)"
   ]
  },
  {
   "cell_type": "code",
   "execution_count": 34,
   "id": "b0e83fe1",
   "metadata": {},
   "outputs": [],
   "source": [
    "from sklearn.linear_model import LogisticRegression\n",
    "from sklearn.tree import DecisionTreeClassifier\n",
    "from sklearn.ensemble import RandomForestClassifier\n",
    "from sklearn.metrics import accuracy_score,confusion_matrix"
   ]
  },
  {
   "cell_type": "code",
   "execution_count": 35,
   "id": "dbc80053",
   "metadata": {},
   "outputs": [],
   "source": [
    "lr = LogisticRegression()\n",
    "dt = DecisionTreeClassifier()\n",
    "rf = RandomForestClassifier()"
   ]
  },
  {
   "cell_type": "code",
   "execution_count": 36,
   "id": "856cc0e9",
   "metadata": {},
   "outputs": [
    {
     "name": "stderr",
     "output_type": "stream",
     "text": [
      "/Applications/anaconda3/lib/python3.8/site-packages/sklearn/linear_model/_logistic.py:763: ConvergenceWarning: lbfgs failed to converge (status=1):\n",
      "STOP: TOTAL NO. of ITERATIONS REACHED LIMIT.\n",
      "\n",
      "Increase the number of iterations (max_iter) or scale the data as shown in:\n",
      "    https://scikit-learn.org/stable/modules/preprocessing.html\n",
      "Please also refer to the documentation for alternative solver options:\n",
      "    https://scikit-learn.org/stable/modules/linear_model.html#logistic-regression\n",
      "  n_iter_i = _check_optimize_result(\n"
     ]
    }
   ],
   "source": [
    "model1 = lr.fit(x_train,y_train)"
   ]
  },
  {
   "cell_type": "code",
   "execution_count": 37,
   "id": "c91e93cf",
   "metadata": {},
   "outputs": [
    {
     "data": {
      "text/plain": [
       "0.6617900172117039"
      ]
     },
     "execution_count": 37,
     "metadata": {},
     "output_type": "execute_result"
    }
   ],
   "source": [
    "accuracy_score(y_test, model1.predict(x_test))"
   ]
  },
  {
   "cell_type": "code",
   "execution_count": 38,
   "id": "4c78183c",
   "metadata": {},
   "outputs": [],
   "source": [
    "from sklearn.ensemble import AdaBoostClassifier"
   ]
  },
  {
   "cell_type": "code",
   "execution_count": 39,
   "id": "cea10246",
   "metadata": {},
   "outputs": [
    {
     "data": {
      "text/plain": [
       "0.6613597246127366"
      ]
     },
     "execution_count": 39,
     "metadata": {},
     "output_type": "execute_result"
    }
   ],
   "source": [
    "ada = AdaBoostClassifier()\n",
    "model4 = ada.fit(x_train,y_train)\n",
    "accuracy_score(y_test, model4.predict(x_test))"
   ]
  },
  {
   "cell_type": "code",
   "execution_count": 40,
   "id": "958a27c6",
   "metadata": {},
   "outputs": [
    {
     "data": {
      "text/plain": [
       "0.6613597246127366"
      ]
     },
     "execution_count": 40,
     "metadata": {},
     "output_type": "execute_result"
    }
   ],
   "source": [
    "from sklearn.svm import SVC\n",
    "svm = SVC()\n",
    "model5 = svm.fit(x_train,y_train)\n",
    "accuracy_score(y_test, model5.predict(x_test))"
   ]
  },
  {
   "cell_type": "code",
   "execution_count": 41,
   "id": "2a906ce2",
   "metadata": {},
   "outputs": [],
   "source": [
    "from sklearn.feature_selection import RFE"
   ]
  },
  {
   "cell_type": "code",
   "execution_count": 42,
   "id": "ca740091",
   "metadata": {},
   "outputs": [],
   "source": [
    "rfe = RFE(dt, n_features_to_select=None)\n"
   ]
  },
  {
   "cell_type": "code",
   "execution_count": 43,
   "id": "1f33ea3d",
   "metadata": {},
   "outputs": [
    {
     "data": {
      "text/plain": [
       "RFE(estimator=DecisionTreeClassifier())"
      ]
     },
     "execution_count": 43,
     "metadata": {},
     "output_type": "execute_result"
    }
   ],
   "source": [
    "rfe.fit(x_train,y_train)"
   ]
  },
  {
   "cell_type": "code",
   "execution_count": 44,
   "id": "3cc13e3e",
   "metadata": {},
   "outputs": [
    {
     "data": {
      "text/plain": [
       "Index(['Manager_Num_Application', 'Manager_Num_Coded', 'Manager_Business',\n",
       "       'Manager_Num_Products', 'Manager_Business2', 'Manager_Num_Products2',\n",
       "       'Applicant_Gender_F', 'Applicant_Gender_M',\n",
       "       'Applicant_Marital_Status_M', 'Applicant_Marital_Status_S',\n",
       "       'Applicant_Occupation_Business', 'Applicant_Occupation_Others',\n",
       "       'Applicant_Occupation_Salaried', 'Applicant_Occupation_Self Employed',\n",
       "       'Applicant_Qualification_Class X', 'Applicant_Qualification_Class XII',\n",
       "       'Applicant_Qualification_Graduate', 'Applicant_Qualification_Others',\n",
       "       'Manager_Joining_Designation_Level 1',\n",
       "       'Manager_Joining_Designation_Level 2',\n",
       "       'Manager_Current_Designation_Level 2', 'Manager_Grade_2.0',\n",
       "       'Manager_Grade_3.0', 'Manager_Grade_4.0', 'Manager_Status_Probation',\n",
       "       'Manager_Gender_F', 'Manager_Gender_M'],\n",
       "      dtype='object')"
      ]
     },
     "execution_count": 44,
     "metadata": {},
     "output_type": "execute_result"
    }
   ],
   "source": [
    "x_train.columns[rfe.support_]"
   ]
  },
  {
   "cell_type": "code",
   "execution_count": 45,
   "id": "85bb5e2e",
   "metadata": {},
   "outputs": [
    {
     "data": {
      "text/html": [
       "<div>\n",
       "<style scoped>\n",
       "    .dataframe tbody tr th:only-of-type {\n",
       "        vertical-align: middle;\n",
       "    }\n",
       "\n",
       "    .dataframe tbody tr th {\n",
       "        vertical-align: top;\n",
       "    }\n",
       "\n",
       "    .dataframe thead th {\n",
       "        text-align: right;\n",
       "    }\n",
       "</style>\n",
       "<table border=\"1\" class=\"dataframe\">\n",
       "  <thead>\n",
       "    <tr style=\"text-align: right;\">\n",
       "      <th></th>\n",
       "      <th>Applicant_Gender</th>\n",
       "      <th>Applicant_Marital_Status</th>\n",
       "      <th>Applicant_Occupation</th>\n",
       "      <th>Applicant_Qualification</th>\n",
       "      <th>Manager_Joining_Designation</th>\n",
       "      <th>Manager_Current_Designation</th>\n",
       "      <th>Manager_Grade</th>\n",
       "      <th>Manager_Status</th>\n",
       "      <th>Manager_Gender</th>\n",
       "      <th>Manager_Num_Application</th>\n",
       "      <th>Manager_Num_Coded</th>\n",
       "      <th>Manager_Business</th>\n",
       "      <th>Manager_Num_Products</th>\n",
       "      <th>Manager_Business2</th>\n",
       "      <th>Manager_Num_Products2</th>\n",
       "      <th>Business_Sourced</th>\n",
       "    </tr>\n",
       "  </thead>\n",
       "  <tbody>\n",
       "    <tr>\n",
       "      <th>0</th>\n",
       "      <td>M</td>\n",
       "      <td>M</td>\n",
       "      <td>Others</td>\n",
       "      <td>Graduate</td>\n",
       "      <td>Level 1</td>\n",
       "      <td>Level 2</td>\n",
       "      <td>3.0</td>\n",
       "      <td>Confirmation</td>\n",
       "      <td>M</td>\n",
       "      <td>2.0</td>\n",
       "      <td>1.0</td>\n",
       "      <td>335249.0</td>\n",
       "      <td>28.0</td>\n",
       "      <td>335249.0</td>\n",
       "      <td>28.0</td>\n",
       "      <td>0</td>\n",
       "    </tr>\n",
       "    <tr>\n",
       "      <th>1</th>\n",
       "      <td>M</td>\n",
       "      <td>S</td>\n",
       "      <td>Others</td>\n",
       "      <td>Class XII</td>\n",
       "      <td>Level 1</td>\n",
       "      <td>Level 2</td>\n",
       "      <td>3.0</td>\n",
       "      <td>Confirmation</td>\n",
       "      <td>M</td>\n",
       "      <td>2.0</td>\n",
       "      <td>1.0</td>\n",
       "      <td>335249.0</td>\n",
       "      <td>28.0</td>\n",
       "      <td>335249.0</td>\n",
       "      <td>28.0</td>\n",
       "      <td>1</td>\n",
       "    </tr>\n",
       "    <tr>\n",
       "      <th>2</th>\n",
       "      <td>M</td>\n",
       "      <td>M</td>\n",
       "      <td>Business</td>\n",
       "      <td>Class XII</td>\n",
       "      <td>Level 1</td>\n",
       "      <td>Level 1</td>\n",
       "      <td>2.0</td>\n",
       "      <td>Confirmation</td>\n",
       "      <td>M</td>\n",
       "      <td>0.0</td>\n",
       "      <td>0.0</td>\n",
       "      <td>357184.0</td>\n",
       "      <td>24.0</td>\n",
       "      <td>357184.0</td>\n",
       "      <td>24.0</td>\n",
       "      <td>0</td>\n",
       "    </tr>\n",
       "    <tr>\n",
       "      <th>3</th>\n",
       "      <td>M</td>\n",
       "      <td>S</td>\n",
       "      <td>Salaried</td>\n",
       "      <td>Class XII</td>\n",
       "      <td>Level 1</td>\n",
       "      <td>Level 3</td>\n",
       "      <td>4.0</td>\n",
       "      <td>Confirmation</td>\n",
       "      <td>F</td>\n",
       "      <td>0.0</td>\n",
       "      <td>0.0</td>\n",
       "      <td>318356.0</td>\n",
       "      <td>22.0</td>\n",
       "      <td>318356.0</td>\n",
       "      <td>22.0</td>\n",
       "      <td>0</td>\n",
       "    </tr>\n",
       "    <tr>\n",
       "      <th>4</th>\n",
       "      <td>M</td>\n",
       "      <td>M</td>\n",
       "      <td>Others</td>\n",
       "      <td>Class XII</td>\n",
       "      <td>Level 1</td>\n",
       "      <td>Level 1</td>\n",
       "      <td>2.0</td>\n",
       "      <td>Confirmation</td>\n",
       "      <td>M</td>\n",
       "      <td>2.0</td>\n",
       "      <td>1.0</td>\n",
       "      <td>230402.0</td>\n",
       "      <td>17.0</td>\n",
       "      <td>230402.0</td>\n",
       "      <td>17.0</td>\n",
       "      <td>0</td>\n",
       "    </tr>\n",
       "  </tbody>\n",
       "</table>\n",
       "</div>"
      ],
      "text/plain": [
       "  Applicant_Gender Applicant_Marital_Status Applicant_Occupation  \\\n",
       "0                M                        M               Others   \n",
       "1                M                        S               Others   \n",
       "2                M                        M             Business   \n",
       "3                M                        S             Salaried   \n",
       "4                M                        M               Others   \n",
       "\n",
       "  Applicant_Qualification Manager_Joining_Designation  \\\n",
       "0                Graduate                     Level 1   \n",
       "1               Class XII                     Level 1   \n",
       "2               Class XII                     Level 1   \n",
       "3               Class XII                     Level 1   \n",
       "4               Class XII                     Level 1   \n",
       "\n",
       "  Manager_Current_Designation Manager_Grade Manager_Status Manager_Gender  \\\n",
       "0                     Level 2           3.0   Confirmation              M   \n",
       "1                     Level 2           3.0   Confirmation              M   \n",
       "2                     Level 1           2.0   Confirmation              M   \n",
       "3                     Level 3           4.0   Confirmation              F   \n",
       "4                     Level 1           2.0   Confirmation              M   \n",
       "\n",
       "   Manager_Num_Application  Manager_Num_Coded  Manager_Business  \\\n",
       "0                      2.0                1.0          335249.0   \n",
       "1                      2.0                1.0          335249.0   \n",
       "2                      0.0                0.0          357184.0   \n",
       "3                      0.0                0.0          318356.0   \n",
       "4                      2.0                1.0          230402.0   \n",
       "\n",
       "   Manager_Num_Products  Manager_Business2  Manager_Num_Products2  \\\n",
       "0                  28.0           335249.0                   28.0   \n",
       "1                  28.0           335249.0                   28.0   \n",
       "2                  24.0           357184.0                   24.0   \n",
       "3                  22.0           318356.0                   22.0   \n",
       "4                  17.0           230402.0                   17.0   \n",
       "\n",
       "  Business_Sourced  \n",
       "0                0  \n",
       "1                1  \n",
       "2                0  \n",
       "3                0  \n",
       "4                0  "
      ]
     },
     "execution_count": 45,
     "metadata": {},
     "output_type": "execute_result"
    }
   ],
   "source": [
    "data.head()"
   ]
  },
  {
   "cell_type": "code",
   "execution_count": 46,
   "id": "798eea7b",
   "metadata": {},
   "outputs": [],
   "source": [
    "df_num = d_cat = data.select_dtypes(exclude=\"object\")"
   ]
  },
  {
   "cell_type": "code",
   "execution_count": 47,
   "id": "fa685a55",
   "metadata": {},
   "outputs": [
    {
     "name": "stdout",
     "output_type": "stream",
     "text": [
      "<class 'pandas.core.frame.DataFrame'>\n",
      "Int64Index: 7745 entries, 0 to 9525\n",
      "Data columns (total 7 columns):\n",
      " #   Column                   Non-Null Count  Dtype   \n",
      "---  ------                   --------------  -----   \n",
      " 0   Manager_Num_Application  7745 non-null   float64 \n",
      " 1   Manager_Num_Coded        7745 non-null   float64 \n",
      " 2   Manager_Business         7745 non-null   float64 \n",
      " 3   Manager_Num_Products     7745 non-null   float64 \n",
      " 4   Manager_Business2        7745 non-null   float64 \n",
      " 5   Manager_Num_Products2    7745 non-null   float64 \n",
      " 6   Business_Sourced         7745 non-null   category\n",
      "dtypes: category(1), float64(6)\n",
      "memory usage: 431.2 KB\n"
     ]
    }
   ],
   "source": [
    "df_num.info()"
   ]
  },
  {
   "cell_type": "code",
   "execution_count": 48,
   "id": "b477abd1",
   "metadata": {},
   "outputs": [],
   "source": [
    "x = df_num.drop(\"Business_Sourced\",axis=1)\n",
    "y = df_num[\"Business_Sourced\"]"
   ]
  },
  {
   "cell_type": "code",
   "execution_count": 49,
   "id": "1a399550",
   "metadata": {},
   "outputs": [],
   "source": [
    "x_train,x_test,y_train,y_test = train_test_split(x,y,test_size=.3,random_state=2)"
   ]
  },
  {
   "cell_type": "code",
   "execution_count": 50,
   "id": "3431a486",
   "metadata": {},
   "outputs": [],
   "source": [
    "model6 = lr.fit(x_train,y_train)"
   ]
  },
  {
   "cell_type": "code",
   "execution_count": 51,
   "id": "00c7ba6f",
   "metadata": {},
   "outputs": [
    {
     "data": {
      "text/plain": [
       "0.6514629948364888"
      ]
     },
     "execution_count": 51,
     "metadata": {},
     "output_type": "execute_result"
    }
   ],
   "source": [
    "accuracy_score(y_test,model6.predict(x_test))"
   ]
  },
  {
   "cell_type": "code",
   "execution_count": 52,
   "id": "c8f2bb41",
   "metadata": {},
   "outputs": [],
   "source": [
    "model11 = lr.fit(x,y)"
   ]
  },
  {
   "cell_type": "code",
   "execution_count": 53,
   "id": "282c6ba6",
   "metadata": {},
   "outputs": [],
   "source": [
    "test = pd.read_csv(\"Test_wJpHOz2.csv\")"
   ]
  },
  {
   "cell_type": "code",
   "execution_count": 64,
   "id": "cbac3af0",
   "metadata": {},
   "outputs": [
    {
     "data": {
      "text/plain": [
       "ID                                0\n",
       "Office_PIN                        0\n",
       "Application_Receipt_Date          0\n",
       "Applicant_City_PIN               34\n",
       "Applicant_Gender                 22\n",
       "Applicant_BirthDate              23\n",
       "Applicant_Marital_Status         30\n",
       "Applicant_Occupation           1004\n",
       "Applicant_Qualification          44\n",
       "Manager_DOJ                     824\n",
       "Manager_Joining_Designation     824\n",
       "Manager_Current_Designation     824\n",
       "Manager_Grade                   824\n",
       "Manager_Status                  824\n",
       "Manager_Gender                  824\n",
       "Manager_DoB                     824\n",
       "Manager_Num_Application         824\n",
       "Manager_Num_Coded               824\n",
       "Manager_Business                824\n",
       "Manager_Num_Products            824\n",
       "Manager_Business2               824\n",
       "Manager_Num_Products2           824\n",
       "dtype: int64"
      ]
     },
     "execution_count": 64,
     "metadata": {},
     "output_type": "execute_result"
    }
   ],
   "source": [
    "test.isnull().sum()"
   ]
  },
  {
   "cell_type": "code",
   "execution_count": 55,
   "id": "a329b4e5",
   "metadata": {},
   "outputs": [],
   "source": [
    "df_test = test.drop([\"ID\",\"Office_PIN\",\"Application_Receipt_Date\",\"Applicant_City_PIN\",\"Applicant_BirthDate\",\n",
    "                \"Manager_DOJ\",\"Manager_DoB\"],axis=1)"
   ]
  },
  {
   "cell_type": "code",
   "execution_count": 59,
   "id": "f4c90091",
   "metadata": {},
   "outputs": [
    {
     "name": "stdout",
     "output_type": "stream",
     "text": [
      "<class 'pandas.core.frame.DataFrame'>\n",
      "RangeIndex: 5045 entries, 0 to 5044\n",
      "Data columns (total 15 columns):\n",
      " #   Column                       Non-Null Count  Dtype  \n",
      "---  ------                       --------------  -----  \n",
      " 0   Applicant_Gender             5023 non-null   object \n",
      " 1   Applicant_Marital_Status     5015 non-null   object \n",
      " 2   Applicant_Occupation         4041 non-null   object \n",
      " 3   Applicant_Qualification      5001 non-null   object \n",
      " 4   Manager_Joining_Designation  4221 non-null   object \n",
      " 5   Manager_Current_Designation  4221 non-null   object \n",
      " 6   Manager_Grade                4221 non-null   object \n",
      " 7   Manager_Status               4221 non-null   object \n",
      " 8   Manager_Gender               4221 non-null   object \n",
      " 9   Manager_Num_Application      4221 non-null   float64\n",
      " 10  Manager_Num_Coded            4221 non-null   float64\n",
      " 11  Manager_Business             4221 non-null   float64\n",
      " 12  Manager_Num_Products         4221 non-null   float64\n",
      " 13  Manager_Business2            4221 non-null   float64\n",
      " 14  Manager_Num_Products2        4221 non-null   float64\n",
      "dtypes: float64(6), object(9)\n",
      "memory usage: 591.3+ KB\n"
     ]
    }
   ],
   "source": [
    "df_test.info()"
   ]
  },
  {
   "cell_type": "code",
   "execution_count": 60,
   "id": "57111b88",
   "metadata": {},
   "outputs": [],
   "source": [
    "df_test[\"Manager_Grade\"] = df_test[\"Manager_Grade\"].astype('object')"
   ]
  },
  {
   "cell_type": "code",
   "execution_count": 61,
   "id": "ecb29d05",
   "metadata": {},
   "outputs": [],
   "source": [
    "x =  df_test.select_dtypes(exclude=\"object\")"
   ]
  },
  {
   "cell_type": "code",
   "execution_count": 63,
   "id": "22f9f147",
   "metadata": {},
   "outputs": [
    {
     "data": {
      "text/plain": [
       "Manager_Num_Application    824\n",
       "Manager_Num_Coded          824\n",
       "Manager_Business           824\n",
       "Manager_Num_Products       824\n",
       "Manager_Business2          824\n",
       "Manager_Num_Products2      824\n",
       "dtype: int64"
      ]
     },
     "execution_count": 63,
     "metadata": {},
     "output_type": "execute_result"
    }
   ],
   "source": [
    "x.isnull().sum()"
   ]
  },
  {
   "cell_type": "code",
   "execution_count": 66,
   "id": "7eeba246",
   "metadata": {},
   "outputs": [],
   "source": [
    "x = x.dropna()"
   ]
  },
  {
   "cell_type": "code",
   "execution_count": 67,
   "id": "5e74cb8d",
   "metadata": {},
   "outputs": [],
   "source": [
    "pred = model11.predict(x)"
   ]
  },
  {
   "cell_type": "code",
   "execution_count": null,
   "id": "8e9e7250",
   "metadata": {},
   "outputs": [],
   "source": []
  },
  {
   "cell_type": "code",
   "execution_count": null,
   "id": "c3e3171d",
   "metadata": {},
   "outputs": [],
   "source": []
  }
 ],
 "metadata": {
  "kernelspec": {
   "display_name": "Python 3",
   "language": "python",
   "name": "python3"
  },
  "language_info": {
   "codemirror_mode": {
    "name": "ipython",
    "version": 3
   },
   "file_extension": ".py",
   "mimetype": "text/x-python",
   "name": "python",
   "nbconvert_exporter": "python",
   "pygments_lexer": "ipython3",
   "version": "3.8.8"
  }
 },
 "nbformat": 4,
 "nbformat_minor": 5
}
