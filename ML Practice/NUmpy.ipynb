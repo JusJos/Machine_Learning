{
 "cells": [
  {
   "cell_type": "code",
   "execution_count": 70,
   "metadata": {},
   "outputs": [],
   "source": [
    "import numpy as np \n",
    "import pandas as pd\n",
    "import scipy.stats as stats\n",
    "import seaborn as sns"
   ]
  },
  {
   "cell_type": "code",
   "execution_count": 71,
   "metadata": {},
   "outputs": [],
   "source": [
    "df = stats.poisson.rvs(loc=10,mu=33,size=100)\n"
   ]
  },
  {
   "cell_type": "code",
   "execution_count": 72,
   "metadata": {
    "scrolled": true
   },
   "outputs": [
    {
     "data": {
      "text/plain": [
       "31.98"
      ]
     },
     "execution_count": 72,
     "metadata": {},
     "output_type": "execute_result"
    }
   ],
   "source": [
    "np.percentile(a=df,q=1)"
   ]
  },
  {
   "cell_type": "code",
   "execution_count": 73,
   "metadata": {},
   "outputs": [
    {
     "data": {
      "text/plain": [
       "34.0"
      ]
     },
     "execution_count": 73,
     "metadata": {},
     "output_type": "execute_result"
    }
   ],
   "source": [
    "np.percentile(a=df,q=5)"
   ]
  },
  {
   "cell_type": "code",
   "execution_count": 74,
   "metadata": {},
   "outputs": [],
   "source": [
    "df = np.append(df,32)"
   ]
  },
  {
   "cell_type": "code",
   "execution_count": 75,
   "metadata": {},
   "outputs": [
    {
     "data": {
      "text/plain": [
       "array([43, 38, 38, 41, 41, 50, 40, 44, 44, 52, 39, 45, 55, 42, 42, 50, 43,\n",
       "       39, 55, 38, 49, 48, 47, 42, 40, 34, 48, 30, 54, 51, 52, 49, 41, 40,\n",
       "       40, 42, 45, 56, 35, 58, 48, 37, 49, 45, 51, 45, 37, 56, 52, 35, 41,\n",
       "       45, 39, 51, 44, 57, 44, 32, 37, 55, 40, 42, 36, 49, 45, 41, 57, 34,\n",
       "       44, 51, 47, 53, 38, 40, 45, 33, 33, 37, 52, 46, 56, 49, 55, 41, 42,\n",
       "       40, 47, 40, 42, 39, 47, 60, 41, 38, 43, 44, 36, 37, 46, 47, 32])"
      ]
     },
     "execution_count": 75,
     "metadata": {},
     "output_type": "execute_result"
    }
   ],
   "source": [
    "df"
   ]
  },
  {
   "cell_type": "code",
   "execution_count": 78,
   "metadata": {},
   "outputs": [],
   "source": [
    "df = np.append(df,22)"
   ]
  },
  {
   "cell_type": "code",
   "execution_count": 79,
   "metadata": {},
   "outputs": [
    {
     "name": "stderr",
     "output_type": "stream",
     "text": [
      "/Applications/anaconda3/lib/python3.8/site-packages/seaborn/_decorators.py:36: FutureWarning: Pass the following variable as a keyword arg: x. From version 0.12, the only valid positional argument will be `data`, and passing other arguments without an explicit keyword will result in an error or misinterpretation.\n",
      "  warnings.warn(\n"
     ]
    },
    {
     "data": {
      "text/plain": [
       "<AxesSubplot:>"
      ]
     },
     "execution_count": 79,
     "metadata": {},
     "output_type": "execute_result"
    },
    {
     "data": {
      "image/png": "[encoded data removed]",
      "text/plain": [
       "<Figure size 432x288 with 1 Axes>"
      ]
     },
     "metadata": {
      "needs_background": "light"
     },
     "output_type": "display_data"
    }
   ],
   "source": [
    "sns.boxplot(df)"
   ]
  },
  {
   "cell_type": "code",
   "execution_count": null,
   "metadata": {},
   "outputs": [],
   "source": []
  },
  {
   "cell_type": "code",
   "execution_count": null,
   "metadata": {},
   "outputs": [],
   "source": []
  },
  {
   "cell_type": "code",
   "execution_count": null,
   "metadata": {},
   "outputs": [],
   "source": []
  },
  {
   "cell_type": "code",
   "execution_count": null,
   "metadata": {},
   "outputs": [],
   "source": []
  },
  {
   "cell_type": "code",
   "execution_count": 2,
   "metadata": {},
   "outputs": [],
   "source": [
    "x1 = np.random.randint(2,10,size=10)"
   ]
  },
  {
   "cell_type": "code",
   "execution_count": 3,
   "metadata": {},
   "outputs": [
    {
     "data": {
      "text/plain": [
       "array([8, 8, 8, 3, 5, 3, 2, 2, 9, 4])"
      ]
     },
     "execution_count": 3,
     "metadata": {},
     "output_type": "execute_result"
    }
   ],
   "source": [
    "x1  #size(gives dim)"
   ]
  },
  {
   "cell_type": "code",
   "execution_count": 4,
   "metadata": {},
   "outputs": [],
   "source": [
    "x2 = np.random.randint(1,10,size=(3,4))"
   ]
  },
  {
   "cell_type": "code",
   "execution_count": 5,
   "metadata": {
    "scrolled": true
   },
   "outputs": [
    {
     "data": {
      "text/plain": [
       "array([[8, 1, 3, 4],\n",
       "       [9, 4, 2, 5],\n",
       "       [1, 8, 5, 7]])"
      ]
     },
     "execution_count": 5,
     "metadata": {},
     "output_type": "execute_result"
    }
   ],
   "source": [
    "x2"
   ]
  },
  {
   "cell_type": "code",
   "execution_count": 70,
   "metadata": {},
   "outputs": [
    {
     "data": {
      "text/plain": [
       "array([[[0.38010198, 0.75198332, 0.77703685],\n",
       "        [0.56016342, 0.72187662, 0.82134719],\n",
       "        [0.21713387, 0.67463147, 0.02999028],\n",
       "        [0.15688026, 0.26110511, 0.6258372 ],\n",
       "        [0.60234076, 0.02262996, 0.53298575]],\n",
       "\n",
       "       [[0.75558737, 0.10701287, 0.43624919],\n",
       "        [0.22016505, 0.48182024, 0.7385493 ],\n",
       "        [0.07517305, 0.67113969, 0.59036818],\n",
       "        [0.54319712, 0.71298047, 0.1552433 ],\n",
       "        [0.36761912, 0.99831604, 0.95074832]],\n",
       "\n",
       "       [[0.69648084, 0.94910797, 0.52875658],\n",
       "        [0.34250251, 0.25466173, 0.66718171],\n",
       "        [0.80590591, 0.88266015, 0.66023868],\n",
       "        [0.33111338, 0.5566385 , 0.71140256],\n",
       "        [0.85293411, 0.98430262, 0.47301592]],\n",
       "\n",
       "       [[0.47222957, 0.85782033, 0.61332317],\n",
       "        [0.20187722, 0.29883658, 0.78792304],\n",
       "        [0.60166361, 0.02549025, 0.55571774],\n",
       "        [0.26797564, 0.69477556, 0.47903878],\n",
       "        [0.68805083, 0.83852154, 0.7961085 ]]])"
      ]
     },
     "execution_count": 70,
     "metadata": {},
     "output_type": "execute_result"
    }
   ],
   "source": [
    "a = np.random.rand(4,5,3)\n",
    "a"
   ]
  },
  {
   "cell_type": "code",
   "execution_count": 71,
   "metadata": {},
   "outputs": [
    {
     "data": {
      "text/plain": [
       "array([0.38010198, 0.75198332, 0.77703685, 0.56016342, 0.72187662,\n",
       "       0.82134719, 0.21713387, 0.67463147, 0.02999028, 0.15688026,\n",
       "       0.26110511, 0.6258372 , 0.60234076, 0.02262996, 0.53298575,\n",
       "       0.75558737, 0.10701287, 0.43624919, 0.22016505, 0.48182024,\n",
       "       0.7385493 , 0.07517305, 0.67113969, 0.59036818, 0.54319712,\n",
       "       0.71298047, 0.1552433 , 0.36761912, 0.99831604, 0.95074832,\n",
       "       0.69648084, 0.94910797, 0.52875658, 0.34250251, 0.25466173,\n",
       "       0.66718171, 0.80590591, 0.88266015, 0.66023868, 0.33111338,\n",
       "       0.5566385 , 0.71140256, 0.85293411, 0.98430262, 0.47301592,\n",
       "       0.47222957, 0.85782033, 0.61332317, 0.20187722, 0.29883658,\n",
       "       0.78792304, 0.60166361, 0.02549025, 0.55571774, 0.26797564,\n",
       "       0.69477556, 0.47903878, 0.68805083, 0.83852154, 0.7961085 ])"
      ]
     },
     "execution_count": 71,
     "metadata": {},
     "output_type": "execute_result"
    }
   ],
   "source": [
    "a.ravel()"
   ]
  },
  {
   "cell_type": "code",
   "execution_count": 14,
   "metadata": {},
   "outputs": [
    {
     "data": {
      "text/plain": [
       "array([[9, 4, 2, 5]])"
      ]
     },
     "execution_count": 14,
     "metadata": {},
     "output_type": "execute_result"
    }
   ],
   "source": [
    "x2[1:2:,0:4]"
   ]
  },
  {
   "cell_type": "code",
   "execution_count": 15,
   "metadata": {},
   "outputs": [
    {
     "data": {
      "text/plain": [
       "array([[8, 1, 3, 4],\n",
       "       [9, 4, 2, 5],\n",
       "       [1, 8, 5, 7]])"
      ]
     },
     "execution_count": 15,
     "metadata": {},
     "output_type": "execute_result"
    }
   ],
   "source": [
    "x2"
   ]
  },
  {
   "cell_type": "code",
   "execution_count": 16,
   "metadata": {},
   "outputs": [
    {
     "data": {
      "text/plain": [
       "array([8, 8, 8, 3, 5, 3, 2, 2, 9, 4])"
      ]
     },
     "execution_count": 16,
     "metadata": {},
     "output_type": "execute_result"
    }
   ],
   "source": [
    "x1"
   ]
  },
  {
   "cell_type": "code",
   "execution_count": 17,
   "metadata": {},
   "outputs": [
    {
     "data": {
      "text/plain": [
       "array([8, 8, 8, 3, 5, 3, 2, 2, 9, 4])"
      ]
     },
     "execution_count": 17,
     "metadata": {},
     "output_type": "execute_result"
    }
   ],
   "source": [
    "x1"
   ]
  },
  {
   "cell_type": "code",
   "execution_count": 18,
   "metadata": {},
   "outputs": [
    {
     "data": {
      "text/plain": [
       "array([8, 8, 5, 2, 9])"
      ]
     },
     "execution_count": 18,
     "metadata": {},
     "output_type": "execute_result"
    }
   ],
   "source": [
    "x1[::2]"
   ]
  },
  {
   "cell_type": "code",
   "execution_count": 19,
   "metadata": {},
   "outputs": [
    {
     "data": {
      "text/plain": [
       "array([8, 8, 8])"
      ]
     },
     "execution_count": 19,
     "metadata": {},
     "output_type": "execute_result"
    }
   ],
   "source": [
    "x1[:3]"
   ]
  },
  {
   "cell_type": "code",
   "execution_count": 20,
   "metadata": {},
   "outputs": [
    {
     "data": {
      "text/plain": [
       "array([8, 8, 5, 2, 9])"
      ]
     },
     "execution_count": 20,
     "metadata": {},
     "output_type": "execute_result"
    }
   ],
   "source": [
    "x1[::2]  #0 index se last every 2nd element\n"
   ]
  },
  {
   "cell_type": "code",
   "execution_count": 21,
   "metadata": {},
   "outputs": [
    {
     "data": {
      "text/plain": [
       "array([[8, 1, 3, 4],\n",
       "       [9, 4, 2, 5],\n",
       "       [1, 8, 5, 7]])"
      ]
     },
     "execution_count": 21,
     "metadata": {},
     "output_type": "execute_result"
    }
   ],
   "source": [
    "x2"
   ]
  },
  {
   "cell_type": "code",
   "execution_count": 22,
   "metadata": {},
   "outputs": [
    {
     "data": {
      "text/plain": [
       "5"
      ]
     },
     "execution_count": 22,
     "metadata": {},
     "output_type": "execute_result"
    }
   ],
   "source": [
    "x2[2,2]"
   ]
  },
  {
   "cell_type": "code",
   "execution_count": 23,
   "metadata": {},
   "outputs": [
    {
     "data": {
      "text/plain": [
       "array([[9, 4, 2, 5],\n",
       "       [1, 8, 5, 7]])"
      ]
     },
     "execution_count": 23,
     "metadata": {},
     "output_type": "execute_result"
    }
   ],
   "source": [
    "x2[1:]"
   ]
  },
  {
   "cell_type": "code",
   "execution_count": 24,
   "metadata": {},
   "outputs": [
    {
     "data": {
      "text/plain": [
       "array([[8, 1],\n",
       "       [9, 4],\n",
       "       [1, 8]])"
      ]
     },
     "execution_count": 24,
     "metadata": {},
     "output_type": "execute_result"
    }
   ],
   "source": [
    "x2[0:3,0:2]"
   ]
  },
  {
   "cell_type": "code",
   "execution_count": 25,
   "metadata": {},
   "outputs": [],
   "source": [
    "x3 = np.random.randint(1,20,size=(3,4,4))"
   ]
  },
  {
   "cell_type": "code",
   "execution_count": 26,
   "metadata": {},
   "outputs": [
    {
     "data": {
      "text/plain": [
       "array([[[ 5, 12, 15,  6],\n",
       "        [10, 17,  1, 14],\n",
       "        [19,  7, 17,  4],\n",
       "        [14, 14,  2, 12]],\n",
       "\n",
       "       [[ 8, 12,  5, 10],\n",
       "        [18,  2,  4,  3],\n",
       "        [14, 19, 18, 16],\n",
       "        [16,  1, 17, 11]],\n",
       "\n",
       "       [[12, 16,  7, 16],\n",
       "        [ 6,  2,  4, 11],\n",
       "        [16, 10, 10, 12],\n",
       "        [17, 16, 16, 13]]])"
      ]
     },
     "execution_count": 26,
     "metadata": {},
     "output_type": "execute_result"
    }
   ],
   "source": [
    "x3"
   ]
  },
  {
   "cell_type": "code",
   "execution_count": 33,
   "metadata": {},
   "outputs": [
    {
     "data": {
      "text/plain": [
       "array([[12, 16,  7, 16],\n",
       "       [ 6,  2,  4, 11],\n",
       "       [16, 10, 10, 12],\n",
       "       [17, 16, 16, 13]])"
      ]
     },
     "execution_count": 33,
     "metadata": {},
     "output_type": "execute_result"
    }
   ],
   "source": [
    "x3[2,0:,0:]"
   ]
  },
  {
   "cell_type": "code",
   "execution_count": 34,
   "metadata": {},
   "outputs": [
    {
     "data": {
      "text/plain": [
       "array([[[0., 0., 0., 0., 0.],\n",
       "        [0., 0., 0., 0., 0.],\n",
       "        [0., 0., 0., 0., 0.],\n",
       "        [0., 0., 0., 0., 0.]],\n",
       "\n",
       "       [[0., 0., 0., 0., 0.],\n",
       "        [0., 0., 0., 0., 0.],\n",
       "        [0., 0., 0., 0., 0.],\n",
       "        [0., 0., 0., 0., 0.]],\n",
       "\n",
       "       [[0., 0., 0., 0., 0.],\n",
       "        [0., 0., 0., 0., 0.],\n",
       "        [0., 0., 0., 0., 0.],\n",
       "        [0., 0., 0., 0., 0.]]])"
      ]
     },
     "execution_count": 34,
     "metadata": {},
     "output_type": "execute_result"
    }
   ],
   "source": [
    "np.zeros((3,4,5))"
   ]
  },
  {
   "cell_type": "code",
   "execution_count": 35,
   "metadata": {},
   "outputs": [
    {
     "data": {
      "text/plain": [
       "array([[1., 1., 1., 1.],\n",
       "       [1., 1., 1., 1.],\n",
       "       [1., 1., 1., 1.]])"
      ]
     },
     "execution_count": 35,
     "metadata": {},
     "output_type": "execute_result"
    }
   ],
   "source": [
    "np.ones((3,4))"
   ]
  },
  {
   "cell_type": "code",
   "execution_count": 36,
   "metadata": {},
   "outputs": [
    {
     "data": {
      "text/plain": [
       "array([[1., 0., 0., 0., 0., 0.],\n",
       "       [0., 1., 0., 0., 0., 0.],\n",
       "       [0., 0., 1., 0., 0., 0.],\n",
       "       [0., 0., 0., 1., 0., 0.],\n",
       "       [0., 0., 0., 0., 1., 0.],\n",
       "       [0., 0., 0., 0., 0., 1.]])"
      ]
     },
     "execution_count": 36,
     "metadata": {},
     "output_type": "execute_result"
    }
   ],
   "source": [
    "np.eye(6,6)"
   ]
  },
  {
   "cell_type": "code",
   "execution_count": 37,
   "metadata": {},
   "outputs": [
    {
     "data": {
      "text/plain": [
       "array([[1., 0., 0., 0.],\n",
       "       [0., 1., 0., 0.],\n",
       "       [0., 0., 1., 0.]])"
      ]
     },
     "execution_count": 37,
     "metadata": {},
     "output_type": "execute_result"
    }
   ],
   "source": [
    "np.eye(3,4)"
   ]
  },
  {
   "cell_type": "code",
   "execution_count": 40,
   "metadata": {},
   "outputs": [
    {
     "data": {
      "text/plain": [
       "array([[20, 20, 20, 20],\n",
       "       [20, 20, 20, 20],\n",
       "       [20, 20, 20, 20]])"
      ]
     },
     "execution_count": 40,
     "metadata": {},
     "output_type": "execute_result"
    }
   ],
   "source": [
    "np.full((3,4),20)"
   ]
  },
  {
   "cell_type": "code",
   "execution_count": 41,
   "metadata": {},
   "outputs": [],
   "source": [
    "n = np.arange(24).reshape(2,3,4)"
   ]
  },
  {
   "cell_type": "code",
   "execution_count": 42,
   "metadata": {},
   "outputs": [
    {
     "data": {
      "text/plain": [
       "array([[[ 0,  1,  2,  3],\n",
       "        [ 4,  5,  6,  7],\n",
       "        [ 8,  9, 10, 11]],\n",
       "\n",
       "       [[12, 13, 14, 15],\n",
       "        [16, 17, 18, 19],\n",
       "        [20, 21, 22, 23]]])"
      ]
     },
     "execution_count": 42,
     "metadata": {},
     "output_type": "execute_result"
    }
   ],
   "source": [
    "n"
   ]
  },
  {
   "cell_type": "code",
   "execution_count": 43,
   "metadata": {},
   "outputs": [],
   "source": [
    "n2 = np.arange(25).reshape(5,5)"
   ]
  },
  {
   "cell_type": "code",
   "execution_count": 44,
   "metadata": {},
   "outputs": [
    {
     "data": {
      "text/plain": [
       "array([[ 0,  1,  2,  3,  4],\n",
       "       [ 5,  6,  7,  8,  9],\n",
       "       [10, 11, 12, 13, 14],\n",
       "       [15, 16, 17, 18, 19],\n",
       "       [20, 21, 22, 23, 24]])"
      ]
     },
     "execution_count": 44,
     "metadata": {},
     "output_type": "execute_result"
    }
   ],
   "source": [
    "n2"
   ]
  },
  {
   "cell_type": "code",
   "execution_count": 45,
   "metadata": {},
   "outputs": [],
   "source": [
    "a = np.linspace(1,3,6)"
   ]
  },
  {
   "cell_type": "code",
   "execution_count": 46,
   "metadata": {},
   "outputs": [
    {
     "data": {
      "text/plain": [
       "array([1. , 1.4, 1.8, 2.2, 2.6, 3. ])"
      ]
     },
     "execution_count": 46,
     "metadata": {},
     "output_type": "execute_result"
    }
   ],
   "source": [
    "a"
   ]
  },
  {
   "cell_type": "code",
   "execution_count": 47,
   "metadata": {},
   "outputs": [
    {
     "data": {
      "text/plain": [
       "array([[1. , 1.4, 1.8],\n",
       "       [2.2, 2.6, 3. ]])"
      ]
     },
     "execution_count": 47,
     "metadata": {},
     "output_type": "execute_result"
    }
   ],
   "source": [
    "a.reshape(2,3)"
   ]
  },
  {
   "cell_type": "code",
   "execution_count": 56,
   "metadata": {},
   "outputs": [],
   "source": [
    "a.resize(2,3)"
   ]
  },
  {
   "cell_type": "code",
   "execution_count": 57,
   "metadata": {},
   "outputs": [
    {
     "data": {
      "text/plain": [
       "array([[1. , 1.4, 1.8],\n",
       "       [2.2, 2.6, 3. ]])"
      ]
     },
     "execution_count": 57,
     "metadata": {},
     "output_type": "execute_result"
    }
   ],
   "source": [
    "a"
   ]
  },
  {
   "cell_type": "code",
   "execution_count": 58,
   "metadata": {},
   "outputs": [
    {
     "data": {
      "text/plain": [
       "array([1. , 1.4, 1.8, 2.2, 2.6, 3. ])"
      ]
     },
     "execution_count": 58,
     "metadata": {},
     "output_type": "execute_result"
    }
   ],
   "source": [
    "a.ravel()"
   ]
  },
  {
   "cell_type": "code",
   "execution_count": 59,
   "metadata": {},
   "outputs": [
    {
     "data": {
      "text/plain": [
       "array([[1. , 1.4, 1.8],\n",
       "       [2.2, 2.6, 3. ]])"
      ]
     },
     "execution_count": 59,
     "metadata": {},
     "output_type": "execute_result"
    }
   ],
   "source": [
    "a"
   ]
  },
  {
   "cell_type": "code",
   "execution_count": 35,
   "metadata": {},
   "outputs": [
    {
     "data": {
      "text/plain": [
       "True"
      ]
     },
     "execution_count": 35,
     "metadata": {},
     "output_type": "execute_result"
    }
   ],
   "source": [
    "np.all([1,3,np.NaN],axis=0)"
   ]
  },
  {
   "cell_type": "code",
   "execution_count": 36,
   "metadata": {},
   "outputs": [],
   "source": [
    "arr = np.arange(25).reshape(5,5)"
   ]
  },
  {
   "cell_type": "code",
   "execution_count": 37,
   "metadata": {},
   "outputs": [
    {
     "data": {
      "text/plain": [
       "array([ True,  True,  True,  True,  True])"
      ]
     },
     "execution_count": 37,
     "metadata": {},
     "output_type": "execute_result"
    }
   ],
   "source": [
    "np.any(arr, axis=0)"
   ]
  },
  {
   "cell_type": "code",
   "execution_count": 38,
   "metadata": {},
   "outputs": [],
   "source": [
    "arr[0,0] = 2"
   ]
  },
  {
   "cell_type": "raw",
   "metadata": {},
   "source": [
    "arr"
   ]
  },
  {
   "cell_type": "raw",
   "metadata": {},
   "source": []
  },
  {
   "cell_type": "code",
   "execution_count": 39,
   "metadata": {},
   "outputs": [
    {
     "data": {
      "text/plain": [
       "array([[ 2,  1,  2,  3,  4],\n",
       "       [ 5,  6,  7,  8,  9],\n",
       "       [10, 11, 12, 13, 14],\n",
       "       [15, 16, 17, 18, 19],\n",
       "       [20, 21, 22, 23, 24]])"
      ]
     },
     "execution_count": 39,
     "metadata": {},
     "output_type": "execute_result"
    }
   ],
   "source": [
    "arr"
   ]
  },
  {
   "cell_type": "code",
   "execution_count": 40,
   "metadata": {},
   "outputs": [],
   "source": [
    "arr1 = np.zeros((4,4))"
   ]
  },
  {
   "cell_type": "code",
   "execution_count": 41,
   "metadata": {},
   "outputs": [
    {
     "data": {
      "text/plain": [
       "array([False, False, False, False])"
      ]
     },
     "execution_count": 41,
     "metadata": {},
     "output_type": "execute_result"
    }
   ],
   "source": [
    "arr1.all(axis=1)"
   ]
  },
  {
   "cell_type": "code",
   "execution_count": 42,
   "metadata": {},
   "outputs": [],
   "source": [
    "a = np.random.randint(2,100, size= (10,10))"
   ]
  },
  {
   "cell_type": "code",
   "execution_count": 43,
   "metadata": {},
   "outputs": [
    {
     "data": {
      "text/plain": [
       "array([[58, 39, 94, 36, 31, 35, 66, 45, 31, 33],\n",
       "       [42, 28, 65, 53, 24, 57, 10, 74, 51, 55],\n",
       "       [55, 96, 24, 79, 78, 52,  3, 75, 90, 70],\n",
       "       [20, 96, 85, 51, 22, 39, 52,  4, 18, 17],\n",
       "       [13, 86, 18, 11, 25, 39, 32, 17, 48, 55],\n",
       "       [86,  7,  4,  4, 78, 42, 89, 46, 27, 63],\n",
       "       [36,  4, 80, 94,  6, 88, 83, 98, 55, 56],\n",
       "       [48, 43, 81, 35, 11,  9, 92, 45,  6, 49],\n",
       "       [91, 63, 97, 58, 21, 60, 83, 94,  2, 84],\n",
       "       [80, 77, 37, 53, 55, 32, 66, 66, 98, 41]])"
      ]
     },
     "execution_count": 43,
     "metadata": {},
     "output_type": "execute_result"
    }
   ],
   "source": [
    "a"
   ]
  },
  {
   "cell_type": "code",
   "execution_count": 44,
   "metadata": {},
   "outputs": [
    {
     "data": {
      "text/plain": [
       "67"
      ]
     },
     "execution_count": 44,
     "metadata": {},
     "output_type": "execute_result"
    }
   ],
   "source": [
    "np.argmax(a)"
   ]
  },
  {
   "cell_type": "code",
   "execution_count": 45,
   "metadata": {},
   "outputs": [
    {
     "data": {
      "text/plain": [
       "array([[58, 39, 94, 36, 31, 35, 66, 45, 31, 33],\n",
       "       [42, 28, 65, 53, 24, 57, 10, 74, 51, 55],\n",
       "       [55, 96, 24, 79, 78, 52,  3, 75, 90, 70],\n",
       "       [20, 96, 85, 51, 22, 39, 52,  4, 18, 17],\n",
       "       [13, 86, 18, 11, 25, 39, 32, 17, 48, 55],\n",
       "       [86,  7,  4,  4, 78, 42, 89, 46, 27, 63],\n",
       "       [36,  4, 80, 94,  6, 88, 83, 98, 55, 56],\n",
       "       [48, 43, 81, 35, 11,  9, 92, 45,  6, 49],\n",
       "       [91, 63, 97, 58, 21, 60, 83, 94,  2, 84],\n",
       "       [80, 77, 37, 53, 55, 32, 66, 66, 98, 41]])"
      ]
     },
     "execution_count": 45,
     "metadata": {},
     "output_type": "execute_result"
    }
   ],
   "source": [
    "a"
   ]
  },
  {
   "cell_type": "code",
   "execution_count": 46,
   "metadata": {},
   "outputs": [
    {
     "data": {
      "text/plain": [
       "98"
      ]
     },
     "execution_count": 46,
     "metadata": {},
     "output_type": "execute_result"
    }
   ],
   "source": [
    "np.max(a)"
   ]
  },
  {
   "cell_type": "code",
   "execution_count": 47,
   "metadata": {},
   "outputs": [
    {
     "data": {
      "text/plain": [
       "50.2"
      ]
     },
     "execution_count": 47,
     "metadata": {},
     "output_type": "execute_result"
    }
   ],
   "source": [
    "a.mean()"
   ]
  },
  {
   "cell_type": "code",
   "execution_count": 48,
   "metadata": {},
   "outputs": [
    {
     "data": {
      "text/plain": [
       "array([[4, 8, 9, 5, 3, 1, 7, 0, 6, 2],\n",
       "       [6, 4, 1, 0, 8, 3, 9, 5, 2, 7],\n",
       "       [6, 2, 5, 0, 9, 7, 4, 3, 8, 1],\n",
       "       [7, 9, 8, 0, 4, 5, 3, 6, 2, 1],\n",
       "       [3, 0, 7, 2, 4, 6, 5, 8, 9, 1],\n",
       "       [2, 3, 1, 8, 5, 7, 9, 4, 0, 6],\n",
       "       [1, 4, 0, 8, 9, 2, 6, 5, 3, 7],\n",
       "       [8, 5, 4, 3, 1, 7, 0, 9, 2, 6],\n",
       "       [8, 4, 3, 5, 1, 6, 9, 0, 7, 2],\n",
       "       [5, 2, 9, 3, 4, 6, 7, 1, 0, 8]])"
      ]
     },
     "execution_count": 48,
     "metadata": {},
     "output_type": "execute_result"
    }
   ],
   "source": [
    "a.argsort()"
   ]
  },
  {
   "cell_type": "code",
   "execution_count": 49,
   "metadata": {},
   "outputs": [
    {
     "name": "stdout",
     "output_type": "stream",
     "text": [
      "2\n"
     ]
    }
   ],
   "source": [
    "print(a.ndim)"
   ]
  },
  {
   "cell_type": "code",
   "execution_count": 50,
   "metadata": {},
   "outputs": [
    {
     "data": {
      "text/plain": [
       "2"
      ]
     },
     "execution_count": 50,
     "metadata": {},
     "output_type": "execute_result"
    }
   ],
   "source": [
    "a.ndim"
   ]
  },
  {
   "cell_type": "code",
   "execution_count": 51,
   "metadata": {},
   "outputs": [
    {
     "data": {
      "text/plain": [
       "8"
      ]
     },
     "execution_count": 51,
     "metadata": {},
     "output_type": "execute_result"
    }
   ],
   "source": [
    "a.itemsize"
   ]
  },
  {
   "cell_type": "code",
   "execution_count": 52,
   "metadata": {},
   "outputs": [
    {
     "data": {
      "text/plain": [
       "array([[[58, 39, 94, 36, 31],\n",
       "        [35, 66, 45, 31, 33],\n",
       "        [42, 28, 65, 53, 24],\n",
       "        [57, 10, 74, 51, 55],\n",
       "        [55, 96, 24, 79, 78]],\n",
       "\n",
       "       [[52,  3, 75, 90, 70],\n",
       "        [20, 96, 85, 51, 22],\n",
       "        [39, 52,  4, 18, 17],\n",
       "        [13, 86, 18, 11, 25],\n",
       "        [39, 32, 17, 48, 55]],\n",
       "\n",
       "       [[86,  7,  4,  4, 78],\n",
       "        [42, 89, 46, 27, 63],\n",
       "        [36,  4, 80, 94,  6],\n",
       "        [88, 83, 98, 55, 56],\n",
       "        [48, 43, 81, 35, 11]],\n",
       "\n",
       "       [[ 9, 92, 45,  6, 49],\n",
       "        [91, 63, 97, 58, 21],\n",
       "        [60, 83, 94,  2, 84],\n",
       "        [80, 77, 37, 53, 55],\n",
       "        [32, 66, 66, 98, 41]]])"
      ]
     },
     "execution_count": 52,
     "metadata": {},
     "output_type": "execute_result"
    }
   ],
   "source": [
    "a.reshape(4,5,5)"
   ]
  },
  {
   "cell_type": "code",
   "execution_count": 57,
   "metadata": {},
   "outputs": [
    {
     "data": {
      "text/plain": [
       "array([58, 39, 94, 36, 31, 35, 66, 45, 31, 33, 42, 28, 65, 53, 24, 57, 10,\n",
       "       74, 51, 55, 55, 96, 24, 79, 78, 52,  3, 75, 90, 70, 20, 96, 85, 51,\n",
       "       22, 39, 52,  4, 18, 17, 13, 86, 18, 11, 25, 39, 32, 17, 48, 55, 86,\n",
       "        7,  4,  4, 78, 42, 89, 46, 27, 63, 36,  4, 80, 94,  6, 88, 83, 98,\n",
       "       55, 56, 48, 43, 81, 35, 11,  9, 92, 45,  6, 49, 91, 63, 97, 58, 21,\n",
       "       60, 83, 94,  2, 84, 80, 77, 37, 53, 55, 32, 66, 66, 98, 41])"
      ]
     },
     "execution_count": 57,
     "metadata": {},
     "output_type": "execute_result"
    }
   ],
   "source": [
    "a.ravel()"
   ]
  },
  {
   "cell_type": "code",
   "execution_count": 58,
   "metadata": {},
   "outputs": [
    {
     "data": {
      "text/plain": [
       "array([[58, 39, 94, 36, 31, 35, 66, 45, 31, 33],\n",
       "       [42, 28, 65, 53, 24, 57, 10, 74, 51, 55],\n",
       "       [55, 96, 24, 79, 78, 52,  3, 75, 90, 70],\n",
       "       [20, 96, 85, 51, 22, 39, 52,  4, 18, 17],\n",
       "       [13, 86, 18, 11, 25, 39, 32, 17, 48, 55],\n",
       "       [86,  7,  4,  4, 78, 42, 89, 46, 27, 63],\n",
       "       [36,  4, 80, 94,  6, 88, 83, 98, 55, 56],\n",
       "       [48, 43, 81, 35, 11,  9, 92, 45,  6, 49],\n",
       "       [91, 63, 97, 58, 21, 60, 83, 94,  2, 84],\n",
       "       [80, 77, 37, 53, 55, 32, 66, 66, 98, 41]])"
      ]
     },
     "execution_count": 58,
     "metadata": {},
     "output_type": "execute_result"
    }
   ],
   "source": [
    "a"
   ]
  },
  {
   "cell_type": "code",
   "execution_count": 64,
   "metadata": {},
   "outputs": [
    {
     "data": {
      "text/plain": [
       "array([[58, 39],\n",
       "       [94, 36],\n",
       "       [31, 35],\n",
       "       [66, 45],\n",
       "       [31, 33],\n",
       "       [42, 28],\n",
       "       [65, 53],\n",
       "       [24, 57],\n",
       "       [10, 74],\n",
       "       [51, 55],\n",
       "       [55, 96],\n",
       "       [24, 79],\n",
       "       [78, 52],\n",
       "       [ 3, 75],\n",
       "       [90, 70],\n",
       "       [20, 96],\n",
       "       [85, 51],\n",
       "       [22, 39],\n",
       "       [52,  4],\n",
       "       [18, 17],\n",
       "       [13, 86],\n",
       "       [18, 11],\n",
       "       [25, 39],\n",
       "       [32, 17],\n",
       "       [48, 55],\n",
       "       [86,  7],\n",
       "       [ 4,  4],\n",
       "       [78, 42],\n",
       "       [89, 46],\n",
       "       [27, 63],\n",
       "       [36,  4],\n",
       "       [80, 94],\n",
       "       [ 6, 88],\n",
       "       [83, 98],\n",
       "       [55, 56],\n",
       "       [48, 43],\n",
       "       [81, 35],\n",
       "       [11,  9],\n",
       "       [92, 45],\n",
       "       [ 6, 49],\n",
       "       [91, 63],\n",
       "       [97, 58],\n",
       "       [21, 60],\n",
       "       [83, 94],\n",
       "       [ 2, 84],\n",
       "       [80, 77],\n",
       "       [37, 53],\n",
       "       [55, 32],\n",
       "       [66, 66],\n",
       "       [98, 41]])"
      ]
     },
     "execution_count": 64,
     "metadata": {},
     "output_type": "execute_result"
    }
   ],
   "source": [
    "a.reshape(50,2)"
   ]
  },
  {
   "cell_type": "code",
   "execution_count": 73,
   "metadata": {},
   "outputs": [],
   "source": [
    "country = ['Algeria','Angola','Argentina','Australia','Austria','Bahamas','Bangladesh','Belarus','Belgium','Bhutan','Brazil','Bulgaria','Cambodia','Cameroon','Chile','China','Colombia','Cyprus','Denmark','El Salvador','Estonia','Ethiopia','Fiji','Finland','France','Georgia','Ghana','Grenada','Guinea','Haiti','Honduras','Hungary','India','Indonesia','Ireland','Italy','Japan','Kenya', 'South Korea','Liberia','Malaysia','Mexico', 'Morocco','Nepal','New Zealand','Norway','Pakistan', 'Peru','Qatar','Russia','Singapore','South Africa','Spain','Sweden','Switzerland','Thailand', 'United Arab Emirates','United Kingdom','United States','Uruguay','Venezuela','Vietnam','Zimbabwe']"
   ]
  },
  {
   "cell_type": "code",
   "execution_count": 75,
   "metadata": {},
   "outputs": [],
   "source": [
    "gdp = [2255.225482,629.9553062,11601.63022,25306.82494,27266.40335,19466.99052,588.3691778,2890.345675,24733.62696,1445.760002,4803.398244,2618.876037,590.4521124,665.7982328,7122.938458,2639.54156,3362.4656,15378.16704,30860.12808,2579.115607,6525.541272,229.6769525,2242.689259,27570.4852,23016.84778,1334.646773,402.6953275,6047.200797,394.1156638,385.5793827,1414.072488,5745.981529,837.7464011,1206.991065,27715.52837,18937.24998,39578.07441,478.2194906,16684.21278,279.2204061,5345.213415,6288.25324,1908.304416,274.8728621,14646.42094,40034.85063,672.1547506,3359.517402,36152.66676,3054.727742,33529.83052,3825.093781,15428.32098,33630.24604,39170.41371,2699.123242,21058.43643,28272.40661,37691.02733,9581.05659,5671.912202,757.4009286,347.7456605]"
   ]
  },
  {
   "cell_type": "code",
   "execution_count": 79,
   "metadata": {},
   "outputs": [],
   "source": [
    "array_gdp = np.array(gdp)\n",
    "array_country = np.array(country)"
   ]
  },
  {
   "cell_type": "code",
   "execution_count": 80,
   "metadata": {},
   "outputs": [],
   "source": [
    "max_gdp = array_country[array_gdp.argmax()]"
   ]
  },
  {
   "cell_type": "code",
   "execution_count": 83,
   "metadata": {},
   "outputs": [
    {
     "data": {
      "text/plain": [
       "40034.85063"
      ]
     },
     "execution_count": 83,
     "metadata": {},
     "output_type": "execute_result"
    }
   ],
   "source": [
    "array_gdp.max()"
   ]
  },
  {
   "cell_type": "code",
   "execution_count": 81,
   "metadata": {},
   "outputs": [
    {
     "data": {
      "text/plain": [
       "'Norway'"
      ]
     },
     "execution_count": 81,
     "metadata": {},
     "output_type": "execute_result"
    }
   ],
   "source": [
    "max_gdp"
   ]
  },
  {
   "cell_type": "code",
   "execution_count": 84,
   "metadata": {},
   "outputs": [],
   "source": [
    "min_gdp = array_country[array_gdp.argmin()]"
   ]
  },
  {
   "cell_type": "code",
   "execution_count": 85,
   "metadata": {},
   "outputs": [
    {
     "data": {
      "text/plain": [
       "'Ethiopia'"
      ]
     },
     "execution_count": 85,
     "metadata": {},
     "output_type": "execute_result"
    }
   ],
   "source": [
    "min_gdp"
   ]
  },
  {
   "cell_type": "code",
   "execution_count": 90,
   "metadata": {},
   "outputs": [
    {
     "data": {
      "text/plain": [
       "'Algeria'"
      ]
     },
     "execution_count": 90,
     "metadata": {},
     "output_type": "execute_result"
    }
   ],
   "source": [
    "array_country[0]"
   ]
  },
  {
   "cell_type": "code",
   "execution_count": 94,
   "metadata": {},
   "outputs": [
    {
     "name": "stdout",
     "output_type": "stream",
     "text": [
      " Algeria gdp is 2255.225482\n",
      " Angola gdp is 629.9553062\n",
      " Argentina gdp is 11601.63022\n",
      " Australia gdp is 25306.82494\n",
      " Austria gdp is 27266.40335\n",
      " Bahamas gdp is 19466.99052\n",
      " Bangladesh gdp is 588.3691778\n",
      " Belarus gdp is 2890.345675\n",
      " Belgium gdp is 24733.62696\n",
      " Bhutan gdp is 1445.760002\n",
      " Brazil gdp is 4803.398244\n",
      " Bulgaria gdp is 2618.876037\n",
      " Cambodia gdp is 590.4521124\n",
      " Cameroon gdp is 665.7982328\n",
      " Chile gdp is 7122.938458\n",
      " China gdp is 2639.54156\n",
      " Colombia gdp is 3362.4656\n",
      " Cyprus gdp is 15378.16704\n",
      " Denmark gdp is 30860.12808\n",
      " El Salvador gdp is 2579.115607\n",
      " Estonia gdp is 6525.541272\n",
      " Ethiopia gdp is 229.6769525\n",
      " Fiji gdp is 2242.689259\n",
      " Finland gdp is 27570.4852\n",
      " France gdp is 23016.84778\n",
      " Georgia gdp is 1334.646773\n",
      " Ghana gdp is 402.6953275\n",
      " Grenada gdp is 6047.200797\n",
      " Guinea gdp is 394.1156638\n",
      " Haiti gdp is 385.5793827\n",
      " Honduras gdp is 1414.072488\n",
      " Hungary gdp is 5745.981529\n",
      " India gdp is 837.7464011\n",
      " Indonesia gdp is 1206.991065\n",
      " Ireland gdp is 27715.52837\n",
      " Italy gdp is 18937.24998\n",
      " Japan gdp is 39578.07441\n",
      " Kenya gdp is 478.2194906\n",
      " South Korea gdp is 16684.21278\n",
      " Liberia gdp is 279.2204061\n",
      " Malaysia gdp is 5345.213415\n",
      " Mexico gdp is 6288.25324\n",
      " Morocco gdp is 1908.304416\n",
      " Nepal gdp is 274.8728621\n",
      " New Zealand gdp is 14646.42094\n",
      " Norway gdp is 40034.85063\n",
      " Pakistan gdp is 672.1547506\n",
      " Peru gdp is 3359.517402\n",
      " Qatar gdp is 36152.66676\n",
      " Russia gdp is 3054.727742\n",
      " Singapore gdp is 33529.83052\n",
      " South Africa gdp is 3825.093781\n",
      " Spain gdp is 15428.32098\n",
      " Sweden gdp is 33630.24604\n",
      " Switzerland gdp is 39170.41371\n",
      " Thailand gdp is 2699.123242\n",
      " United Arab Emirates gdp is 21058.43643\n",
      " United Kingdom gdp is 28272.40661\n",
      " United States gdp is 37691.02733\n",
      " Uruguay gdp is 9581.05659\n",
      " Venezuela gdp is 5671.912202\n",
      " Vietnam gdp is 757.4009286\n"
     ]
    }
   ],
   "source": [
    "for i in range (0,len(array_country)-1):\n",
    "    country = array_country[i]\n",
    "    gdp = array_gdp[i]\n",
    "    print(\" {} gdp is {}\".format(country,gdp))"
   ]
  },
  {
   "cell_type": "code",
   "execution_count": 97,
   "metadata": {},
   "outputs": [
    {
     "name": "stdout",
     "output_type": "stream",
     "text": [
      "Highest gdp: 40034.85063\n"
     ]
    }
   ],
   "source": [
    "print(\"Highest gdp:\", array_gdp.max())"
   ]
  },
  {
   "cell_type": "code",
   "execution_count": null,
   "metadata": {},
   "outputs": [],
   "source": [
    "print(array_country)"
   ]
  }
 ],
 "metadata": {
  "kernelspec": {
   "display_name": "Python 3",
   "language": "python",
   "name": "python3"
  },
  "language_info": {
   "codemirror_mode": {
    "name": "ipython",
    "version": 3
   },
   "file_extension": ".py",
   "mimetype": "text/x-python",
   "name": "python",
   "nbconvert_exporter": "python",
   "pygments_lexer": "ipython3",
   "version": "3.8.8"
  }
 },
 "nbformat": 4,
 "nbformat_minor": 4
}
