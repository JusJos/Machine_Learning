{
 "cells": [
  {
   "cell_type": "code",
   "execution_count": 51,
   "id": "f0509a55",
   "metadata": {},
   "outputs": [],
   "source": [
    "import numpy as np\n",
    "import pandas as pd\n",
    "from scipy import stats\n",
    "import math"
   ]
  },
  {
   "cell_type": "markdown",
   "id": "ca5045ab",
   "metadata": {},
   "source": [
    "T Test"
   ]
  },
  {
   "cell_type": "code",
   "execution_count": null,
   "id": "4b847495",
   "metadata": {},
   "outputs": [],
   "source": [
    "#possion distributiion random but important"
   ]
  },
  {
   "cell_type": "code",
   "execution_count": 57,
   "id": "aac10e40",
   "metadata": {},
   "outputs": [],
   "source": [
    "#THIS is for 1 sample test. (with population)\n",
    "#stats.ttest_1samp(sampledataset,popmean=population mean) gives t-value and p-value of the sample mean\n",
    "#stats.t.ppf(q=percentage of the bell curve u need lower or upper point ,df= number of observations -1)\n",
    "#stats.t.interval(confidence interval u want,df=uknow,scale=std of sample/len of sample,loc=mean of sample) gives confidence interval\n",
    "#stats.t.cdf(t_value,df=uknow) gives p-value of one tail."
   ]
  },
  {
   "cell_type": "code",
   "execution_count": 55,
   "id": "b6611ef0",
   "metadata": {},
   "outputs": [],
   "source": [
    "#p_value is the percentage level at which the point lie on the bell curve and used to say weather there is significant diffrence or not .\n",
    "#i.e if p_value is more than 5% it is by chnace so null is accepted(comes in confidance level)\n",
    "#if p_value is less than 5% than make it significant on the bell cureve and out of 95% therefore null is rejected"
   ]
  },
  {
   "cell_type": "code",
   "execution_count": 56,
   "id": "d3a5cf36",
   "metadata": {},
   "outputs": [],
   "source": [
    "#THIS is for 2 sample test. (with sample2)\n",
    "#if independent from each other\n",
    "#stats.ttest_ind(a=sample1,b=sample2,equal_var=false or ture baed on having equal variance)\n",
    "#gives p_VALUE and gives the percentage by chance they are different\n",
    "#if related (paired t-test)\n",
    "#stats.ttest_rel(a=sample1,b=sample2)"
   ]
  },
  {
   "cell_type": "code",
   "execution_count": 14,
   "id": "13e969d5",
   "metadata": {},
   "outputs": [],
   "source": [
    "data = np.random.randint(1,9000,size=(5,50))"
   ]
  },
  {
   "cell_type": "code",
   "execution_count": 15,
   "id": "99d07fff",
   "metadata": {},
   "outputs": [
    {
     "data": {
      "text/plain": [
       "array([[6654, 3880, 2436, 7118, 5268, 7135, 5508, 1256, 2931,  837, 2727,\n",
       "        7108, 8672, 6930, 8091,  147,  926, 5001, 5397, 1273, 3560,  278,\n",
       "        2258,  397, 6891, 8656, 6689, 3616, 8071,  217, 1730, 6324, 1510,\n",
       "        5276, 5372, 5898, 3483,   77,  988, 7976, 6897, 6264,  432,  175,\n",
       "        5828, 6846, 1048, 2143, 2280, 7439],\n",
       "       [5942, 6916, 2187, 4243, 8556, 2136, 6581, 6285, 8626, 7735, 1253,\n",
       "        2861, 5255, 4761,  900,  957, 1763, 2562, 4289, 3331, 4562,  483,\n",
       "        5418, 3577, 4431, 4318, 2046, 5285,  146,  545, 2277, 1632,  943,\n",
       "        4775, 3245, 1167, 5283, 7338, 2999,  467, 8047, 1688, 2734, 2289,\n",
       "        7044, 3941, 4308,  465,  167, 8623],\n",
       "       [3780, 7297, 3760, 4686, 4507,  105, 7160, 6231, 3373, 8162, 2595,\n",
       "        7136, 2956, 5576, 1840, 1554, 7147, 6627, 2789, 5292,  263, 5127,\n",
       "        1894, 8458, 3754,  154, 4337, 5799, 1926, 8952, 2370, 7476, 7430,\n",
       "        3118, 1859,  697, 8588, 6315, 3356, 6186, 7541, 8973, 4650, 2293,\n",
       "        1732, 3943, 5829, 4535, 4495, 5394],\n",
       "       [4834, 2462,  305, 3891, 4433, 3602, 2014, 6056, 8334, 3997, 1982,\n",
       "        7458,  441, 2366, 4898, 5366, 4741,  906,  465, 1595, 6335, 8526,\n",
       "        1073, 6600, 2436, 2174, 5208, 4112, 4902, 8479, 6974, 5872, 8153,\n",
       "        3005, 2205, 4944, 4802, 4919, 7955, 4822, 7925, 4109,  173, 6939,\n",
       "         559, 5656, 1614, 1557, 7894,  268],\n",
       "       [1175, 7095, 5491,  663, 6135, 1792, 5750, 6962,  972, 8812, 7465,\n",
       "        2856, 4062, 8476, 8021, 8146, 2146,  626, 2694, 8164, 3255, 6574,\n",
       "        6153, 8909, 4728, 1927, 6093,  494, 4441, 3058, 4694, 6468,  549,\n",
       "        6229, 3894, 8408, 2343, 6091, 3864,  679, 4179, 5166, 7321, 8530,\n",
       "        8274, 5971, 8804, 5331, 3522, 2749]])"
      ]
     },
     "execution_count": 15,
     "metadata": {},
     "output_type": "execute_result"
    }
   ],
   "source": [
    "data"
   ]
  },
  {
   "cell_type": "code",
   "execution_count": 22,
   "id": "f7a069ac",
   "metadata": {},
   "outputs": [],
   "source": [
    "df1 = data[1,:]"
   ]
  },
  {
   "cell_type": "code",
   "execution_count": 23,
   "id": "f82198e7",
   "metadata": {},
   "outputs": [
    {
     "data": {
      "text/plain": [
       "array([5942, 6916, 2187, 4243, 8556, 2136, 6581, 6285, 8626, 7735, 1253,\n",
       "       2861, 5255, 4761,  900,  957, 1763, 2562, 4289, 3331, 4562,  483,\n",
       "       5418, 3577, 4431, 4318, 2046, 5285,  146,  545, 2277, 1632,  943,\n",
       "       4775, 3245, 1167, 5283, 7338, 2999,  467, 8047, 1688, 2734, 2289,\n",
       "       7044, 3941, 4308,  465,  167, 8623])"
      ]
     },
     "execution_count": 23,
     "metadata": {},
     "output_type": "execute_result"
    }
   ],
   "source": [
    "df"
   ]
  },
  {
   "cell_type": "code",
   "execution_count": 24,
   "id": "fc5e6bf7",
   "metadata": {},
   "outputs": [
    {
     "data": {
      "text/plain": [
       "3747.64"
      ]
     },
     "execution_count": 24,
     "metadata": {},
     "output_type": "execute_result"
    }
   ],
   "source": [
    "df.mean()"
   ]
  },
  {
   "cell_type": "code",
   "execution_count": 25,
   "id": "ef573a99",
   "metadata": {},
   "outputs": [
    {
     "data": {
      "text/plain": [
       "4327.4"
      ]
     },
     "execution_count": 25,
     "metadata": {},
     "output_type": "execute_result"
    }
   ],
   "source": [
    "data.mean()"
   ]
  },
  {
   "cell_type": "code",
   "execution_count": 21,
   "id": "9a4a80ee",
   "metadata": {},
   "outputs": [
    {
     "data": {
      "text/plain": [
       "Ttest_1sampResult(statistic=-1.639511363469351, pvalue=0.10751226680766243)"
      ]
     },
     "execution_count": 21,
     "metadata": {},
     "output_type": "execute_result"
    }
   ],
   "source": [
    "stats.ttest_1samp(df1,popmean=data.mean())"
   ]
  },
  {
   "cell_type": "code",
   "execution_count": 26,
   "id": "5eab6883",
   "metadata": {},
   "outputs": [],
   "source": [
    "df2 = data[2,:]"
   ]
  },
  {
   "cell_type": "code",
   "execution_count": 54,
   "id": "c9d81925",
   "metadata": {},
   "outputs": [
    {
     "data": {
      "text/plain": [
       "4600.34"
      ]
     },
     "execution_count": 54,
     "metadata": {},
     "output_type": "execute_result"
    }
   ],
   "source": [
    "df2.mean()"
   ]
  },
  {
   "cell_type": "code",
   "execution_count": 29,
   "id": "a0b9d3cf",
   "metadata": {},
   "outputs": [
    {
     "data": {
      "text/plain": [
       "Ttest_1sampResult(statistic=0.7799582492510196, pvalue=0.4391668014976351)"
      ]
     },
     "execution_count": 29,
     "metadata": {},
     "output_type": "execute_result"
    }
   ],
   "source": [
    "stats.ttest_1samp(df2,popmean=data.mean())"
   ]
  },
  {
   "cell_type": "code",
   "execution_count": 32,
   "id": "919481fa",
   "metadata": {},
   "outputs": [
    {
     "data": {
      "text/plain": [
       "-1.9695368676395828"
      ]
     },
     "execution_count": 32,
     "metadata": {},
     "output_type": "execute_result"
    }
   ],
   "source": [
    "stats.t.ppf(q=0.025,df=249)"
   ]
  },
  {
   "cell_type": "code",
   "execution_count": 33,
   "id": "1d5bbe12",
   "metadata": {},
   "outputs": [
    {
     "data": {
      "text/plain": [
       "1.9695368676395824"
      ]
     },
     "execution_count": 33,
     "metadata": {},
     "output_type": "execute_result"
    }
   ],
   "source": [
    "stats.t.ppf(q=0.975,df=249)"
   ]
  },
  {
   "cell_type": "code",
   "execution_count": 50,
   "id": "4f99b0c0",
   "metadata": {},
   "outputs": [
    {
     "data": {
      "text/plain": [
       "0.047684575635756676"
      ]
     },
     "execution_count": 50,
     "metadata": {},
     "output_type": "execute_result"
    }
   ],
   "source": [
    " stats.t.cdf(x=-1.99,df=249) *2"
   ]
  },
  {
   "cell_type": "code",
   "execution_count": 52,
   "id": "e2d4223c",
   "metadata": {},
   "outputs": [
    {
     "data": {
      "text/plain": [
       "(3058.176991982301, 4437.103008017699)"
      ]
     },
     "execution_count": 52,
     "metadata": {},
     "output_type": "execute_result"
    }
   ],
   "source": [
    "stats.t.interval(0.95,df=249,loc=df1.mean(),scale=df1.std()/math.sqrt(50))"
   ]
  },
  {
   "cell_type": "code",
   "execution_count": 53,
   "id": "20da662f",
   "metadata": {},
   "outputs": [
    {
     "data": {
      "text/plain": [
       "3747.64"
      ]
     },
     "execution_count": 53,
     "metadata": {},
     "output_type": "execute_result"
    }
   ],
   "source": [
    "df1.mean()"
   ]
  },
  {
   "cell_type": "code",
   "execution_count": 58,
   "id": "308e7e98",
   "metadata": {},
   "outputs": [
    {
     "data": {
      "text/plain": [
       "0.4012936743170763"
      ]
     },
     "execution_count": 58,
     "metadata": {},
     "output_type": "execute_result"
    }
   ],
   "source": [
    "#used to show the probality of x<120; loc is mean and scale is std\n",
    "stats.norm.cdf(120, loc=130,scale=40)"
   ]
  },
  {
   "cell_type": "code",
   "execution_count": null,
   "id": "ec8b5de0",
   "metadata": {},
   "outputs": [],
   "source": []
  },
  {
   "cell_type": "markdown",
   "id": "b3c19359",
   "metadata": {},
   "source": [
    "Chi-squared"
   ]
  },
  {
   "cell_type": "code",
   "execution_count": 60,
   "id": "39dee855",
   "metadata": {},
   "outputs": [],
   "source": [
    "national = pd.DataFrame(['white']*100000 + ['hispanic']*60000 + ['black']*50000 +['asian']*15000 + ['other']*35000)"
   ]
  },
  {
   "cell_type": "code",
   "execution_count": 63,
   "id": "40c2ff4d",
   "metadata": {},
   "outputs": [],
   "source": [
    "national_table = pd.crosstab(index=national[0],columns='count')"
   ]
  },
  {
   "cell_type": "code",
   "execution_count": 65,
   "id": "ca25dff4",
   "metadata": {},
   "outputs": [],
   "source": [
    "minnesota = pd.DataFrame(['white']*600 + ['hispanic']*300 + ['black']*250 +['asian']*75 + ['other']*150)"
   ]
  },
  {
   "cell_type": "code",
   "execution_count": 67,
   "id": "1458e150",
   "metadata": {},
   "outputs": [],
   "source": [
    "minnesota_table = pd.crosstab(index=minnesota[0],columns='count')"
   ]
  },
  {
   "cell_type": "code",
   "execution_count": 69,
   "id": "56250209",
   "metadata": {},
   "outputs": [],
   "source": [
    "# sum[(0bserved-expected)**2/expected ].    chi-sq-statatic\n"
   ]
  },
  {
   "cell_type": "code",
   "execution_count": 70,
   "id": "85963cf6",
   "metadata": {},
   "outputs": [],
   "source": [
    "observed= minnesota_table\n",
    "n_ratio = national_table/len(national)\n",
    "expected = n_ratio*len(minnesota)\n"
   ]
  },
  {
   "cell_type": "code",
   "execution_count": 71,
   "id": "2c59fd12",
   "metadata": {},
   "outputs": [
    {
     "data": {
      "text/html": [
       "<div>\n",
       "<style scoped>\n",
       "    .dataframe tbody tr th:only-of-type {\n",
       "        vertical-align: middle;\n",
       "    }\n",
       "\n",
       "    .dataframe tbody tr th {\n",
       "        vertical-align: top;\n",
       "    }\n",
       "\n",
       "    .dataframe thead th {\n",
       "        text-align: right;\n",
       "    }\n",
       "</style>\n",
       "<table border=\"1\" class=\"dataframe\">\n",
       "  <thead>\n",
       "    <tr style=\"text-align: right;\">\n",
       "      <th>col_0</th>\n",
       "      <th>count</th>\n",
       "    </tr>\n",
       "    <tr>\n",
       "      <th>0</th>\n",
       "      <th></th>\n",
       "    </tr>\n",
       "  </thead>\n",
       "  <tbody>\n",
       "    <tr>\n",
       "      <th>asian</th>\n",
       "      <td>75</td>\n",
       "    </tr>\n",
       "    <tr>\n",
       "      <th>black</th>\n",
       "      <td>250</td>\n",
       "    </tr>\n",
       "    <tr>\n",
       "      <th>hispanic</th>\n",
       "      <td>300</td>\n",
       "    </tr>\n",
       "    <tr>\n",
       "      <th>other</th>\n",
       "      <td>150</td>\n",
       "    </tr>\n",
       "    <tr>\n",
       "      <th>white</th>\n",
       "      <td>600</td>\n",
       "    </tr>\n",
       "  </tbody>\n",
       "</table>\n",
       "</div>"
      ],
      "text/plain": [
       "col_0     count\n",
       "0              \n",
       "asian        75\n",
       "black       250\n",
       "hispanic    300\n",
       "other       150\n",
       "white       600"
      ]
     },
     "execution_count": 71,
     "metadata": {},
     "output_type": "execute_result"
    }
   ],
   "source": [
    "observed"
   ]
  },
  {
   "cell_type": "code",
   "execution_count": 72,
   "id": "fa3fb4dd",
   "metadata": {},
   "outputs": [
    {
     "data": {
      "text/html": [
       "<div>\n",
       "<style scoped>\n",
       "    .dataframe tbody tr th:only-of-type {\n",
       "        vertical-align: middle;\n",
       "    }\n",
       "\n",
       "    .dataframe tbody tr th {\n",
       "        vertical-align: top;\n",
       "    }\n",
       "\n",
       "    .dataframe thead th {\n",
       "        text-align: right;\n",
       "    }\n",
       "</style>\n",
       "<table border=\"1\" class=\"dataframe\">\n",
       "  <thead>\n",
       "    <tr style=\"text-align: right;\">\n",
       "      <th>col_0</th>\n",
       "      <th>count</th>\n",
       "    </tr>\n",
       "    <tr>\n",
       "      <th>0</th>\n",
       "      <th></th>\n",
       "    </tr>\n",
       "  </thead>\n",
       "  <tbody>\n",
       "    <tr>\n",
       "      <th>asian</th>\n",
       "      <td>79.326923</td>\n",
       "    </tr>\n",
       "    <tr>\n",
       "      <th>black</th>\n",
       "      <td>264.423077</td>\n",
       "    </tr>\n",
       "    <tr>\n",
       "      <th>hispanic</th>\n",
       "      <td>317.307692</td>\n",
       "    </tr>\n",
       "    <tr>\n",
       "      <th>other</th>\n",
       "      <td>185.096154</td>\n",
       "    </tr>\n",
       "    <tr>\n",
       "      <th>white</th>\n",
       "      <td>528.846154</td>\n",
       "    </tr>\n",
       "  </tbody>\n",
       "</table>\n",
       "</div>"
      ],
      "text/plain": [
       "col_0          count\n",
       "0                   \n",
       "asian      79.326923\n",
       "black     264.423077\n",
       "hispanic  317.307692\n",
       "other     185.096154\n",
       "white     528.846154"
      ]
     },
     "execution_count": 72,
     "metadata": {},
     "output_type": "execute_result"
    }
   ],
   "source": [
    "expected"
   ]
  },
  {
   "cell_type": "code",
   "execution_count": 73,
   "id": "a0d708ca",
   "metadata": {},
   "outputs": [],
   "source": [
    "chi_sq_stat = (((observed-expected)**2)/expected).sum()"
   ]
  },
  {
   "cell_type": "code",
   "execution_count": 74,
   "id": "25e2a31a",
   "metadata": {},
   "outputs": [
    {
     "data": {
      "text/plain": [
       "col_0\n",
       "count    18.194805\n",
       "dtype: float64"
      ]
     },
     "execution_count": 74,
     "metadata": {},
     "output_type": "execute_result"
    }
   ],
   "source": [
    "chi_sq_stat"
   ]
  },
  {
   "cell_type": "code",
   "execution_count": 75,
   "id": "ff650f0a",
   "metadata": {},
   "outputs": [],
   "source": [
    "crit_value = stats.chi2.ppf(q=0.95,df=4)  #0.95 as one tail.....df=n-1 n is categories"
   ]
  },
  {
   "cell_type": "code",
   "execution_count": 81,
   "id": "b5bade7e",
   "metadata": {},
   "outputs": [
    {
     "name": "stdout",
     "output_type": "stream",
     "text": [
      "9.487729036781154\n"
     ]
    }
   ],
   "source": [
    "print(crit_value)  #ref chi-sq-static value"
   ]
  },
  {
   "cell_type": "code",
   "execution_count": 82,
   "id": "14fa9f69",
   "metadata": {},
   "outputs": [],
   "source": [
    "p_value = 1- stats.chi2.cdf(x=chi_sq_stat,df=4)"
   ]
  },
  {
   "cell_type": "code",
   "execution_count": 83,
   "id": "9a76241b",
   "metadata": {},
   "outputs": [
    {
     "name": "stdout",
     "output_type": "stream",
     "text": [
      "[0.00113047]\n"
     ]
    }
   ],
   "source": [
    "print(p_value)"
   ]
  },
  {
   "cell_type": "code",
   "execution_count": 84,
   "id": "4fa42d50",
   "metadata": {},
   "outputs": [
    {
     "data": {
      "text/plain": [
       "0.050000000000000044"
      ]
     },
     "execution_count": 84,
     "metadata": {},
     "output_type": "execute_result"
    }
   ],
   "source": [
    "1- stats.chi2.cdf(x=crit_value,df=4)"
   ]
  },
  {
   "cell_type": "code",
   "execution_count": 86,
   "id": "430d5ab8",
   "metadata": {},
   "outputs": [
    {
     "data": {
      "text/plain": [
       "Power_divergenceResult(statistic=array([18.19480519]), pvalue=array([0.00113047]))"
      ]
     },
     "execution_count": 86,
     "metadata": {},
     "output_type": "execute_result"
    }
   ],
   "source": [
    "stats.chisquare(f_obs=observed,f_exp=expected)  #direct method"
   ]
  },
  {
   "cell_type": "code",
   "execution_count": 87,
   "id": "b8f215b5",
   "metadata": {},
   "outputs": [],
   "source": [
    "#stats.chi2_contingency(observed) used with 2d array of 2 samples how 2 category is realated"
   ]
  },
  {
   "cell_type": "markdown",
   "id": "9c4b05c9",
   "metadata": {},
   "source": [
    "ANOVA"
   ]
  },
  {
   "cell_type": "code",
   "execution_count": 103,
   "id": "45b33027",
   "metadata": {},
   "outputs": [],
   "source": [
    "np.random.seed(12)\n",
    "races = [\"Asian\",\"Black\",\"hispanic\",\"other\",\"White\"]\n",
    "\n",
    "voter_race = np.random.choice(a=races,p=[0.05,0.15,0.25,0.05,0.5],size=1000)\n",
    "voter_age= stats.poisson.rvs(loc=18,mu=30,size=1000)\n",
    "\n",
    "data = pd.DataFrame({\"Age\":voter_age,\"Race\":voter_race})\n",
    "data.head()\n",
    "groups = data.groupby(\"Race\").groups"
   ]
  },
  {
   "cell_type": "code",
   "execution_count": 105,
   "id": "7ad98916",
   "metadata": {},
   "outputs": [
    {
     "data": {
      "text/plain": [
       "F_onewayResult(statistic=1.7744689357329695, pvalue=0.13173183201930463)"
      ]
     },
     "execution_count": 105,
     "metadata": {},
     "output_type": "execute_result"
    }
   ],
   "source": [
    "asian = voter_age[groups[\"Asian\"]]\n",
    "black = voter_age[groups[\"Black\"]]\n",
    "hispanic = voter_age[groups[\"hispanic\"]]\n",
    "other = voter_age[groups[\"other\"]]\n",
    "white = voter_age[groups[\"White\"]]\n",
    "\n",
    "\n",
    "#ANOVA\n",
    "stats.f_oneway(asian,black,hispanic,other,white)\n"
   ]
  },
  {
   "cell_type": "code",
   "execution_count": 107,
   "id": "b7b20d79",
   "metadata": {},
   "outputs": [],
   "source": [
    "import statsmodels.api as sm\n",
    "from statsmodels.formula.api import ols\n",
    "\n",
    "model = ols('Age~Race',data=data).fit()\n"
   ]
  },
  {
   "cell_type": "code",
   "execution_count": 108,
   "id": "f09e5d1f",
   "metadata": {},
   "outputs": [],
   "source": [
    "anova_result = sm.stats.anova_lm(model,typ=2)"
   ]
  },
  {
   "cell_type": "code",
   "execution_count": 109,
   "id": "bcfb94d3",
   "metadata": {},
   "outputs": [
    {
     "data": {
      "text/html": [
       "<div>\n",
       "<style scoped>\n",
       "    .dataframe tbody tr th:only-of-type {\n",
       "        vertical-align: middle;\n",
       "    }\n",
       "\n",
       "    .dataframe tbody tr th {\n",
       "        vertical-align: top;\n",
       "    }\n",
       "\n",
       "    .dataframe thead th {\n",
       "        text-align: right;\n",
       "    }\n",
       "</style>\n",
       "<table border=\"1\" class=\"dataframe\">\n",
       "  <thead>\n",
       "    <tr style=\"text-align: right;\">\n",
       "      <th></th>\n",
       "      <th>sum_sq</th>\n",
       "      <th>df</th>\n",
       "      <th>F</th>\n",
       "      <th>PR(&gt;F)</th>\n",
       "    </tr>\n",
       "  </thead>\n",
       "  <tbody>\n",
       "    <tr>\n",
       "      <th>Race</th>\n",
       "      <td>199.369</td>\n",
       "      <td>4.0</td>\n",
       "      <td>1.774469</td>\n",
       "      <td>0.131732</td>\n",
       "    </tr>\n",
       "    <tr>\n",
       "      <th>Residual</th>\n",
       "      <td>27948.102</td>\n",
       "      <td>995.0</td>\n",
       "      <td>NaN</td>\n",
       "      <td>NaN</td>\n",
       "    </tr>\n",
       "  </tbody>\n",
       "</table>\n",
       "</div>"
      ],
      "text/plain": [
       "             sum_sq     df         F    PR(>F)\n",
       "Race        199.369    4.0  1.774469  0.131732\n",
       "Residual  27948.102  995.0       NaN       NaN"
      ]
     },
     "execution_count": 109,
     "metadata": {},
     "output_type": "execute_result"
    }
   ],
   "source": [
    "anova_result"
   ]
  },
  {
   "cell_type": "code",
   "execution_count": null,
   "id": "38a9e384",
   "metadata": {},
   "outputs": [],
   "source": []
  }
 ],
 "metadata": {
  "kernelspec": {
   "display_name": "Python 3",
   "language": "python",
   "name": "python3"
  },
  "language_info": {
   "codemirror_mode": {
    "name": "ipython",
    "version": 3
   },
   "file_extension": ".py",
   "mimetype": "text/x-python",
   "name": "python",
   "nbconvert_exporter": "python",
   "pygments_lexer": "ipython3",
   "version": "3.8.8"
  }
 },
 "nbformat": 4,
 "nbformat_minor": 5
}
