{
 "cells": [
  {
   "cell_type": "code",
   "execution_count": 53,
   "metadata": {},
   "outputs": [],
   "source": [
    "import pandas as pd"
   ]
  },
  {
   "cell_type": "code",
   "execution_count": 54,
   "metadata": {},
   "outputs": [],
   "source": [
    "import numpy as np"
   ]
  },
  {
   "cell_type": "code",
   "execution_count": 55,
   "metadata": {},
   "outputs": [],
   "source": [
    "df = pd.read_csv(\"horse.csv\")"
   ]
  },
  {
   "cell_type": "code",
   "execution_count": 56,
   "metadata": {},
   "outputs": [
    {
     "data": {
      "text/html": [
       "<div>\n",
       "<style scoped>\n",
       "    .dataframe tbody tr th:only-of-type {\n",
       "        vertical-align: middle;\n",
       "    }\n",
       "\n",
       "    .dataframe tbody tr th {\n",
       "        vertical-align: top;\n",
       "    }\n",
       "\n",
       "    .dataframe thead th {\n",
       "        text-align: right;\n",
       "    }\n",
       "</style>\n",
       "<table border=\"1\" class=\"dataframe\">\n",
       "  <thead>\n",
       "    <tr style=\"text-align: right;\">\n",
       "      <th></th>\n",
       "      <th>surgery</th>\n",
       "      <th>age</th>\n",
       "      <th>hospital_number</th>\n",
       "      <th>rectal_temp</th>\n",
       "      <th>pulse</th>\n",
       "      <th>respiratory_rate</th>\n",
       "      <th>temp_of_extremities</th>\n",
       "      <th>peripheral_pulse</th>\n",
       "      <th>mucous_membrane</th>\n",
       "      <th>capillary_refill_time</th>\n",
       "      <th>...</th>\n",
       "      <th>packed_cell_volume</th>\n",
       "      <th>total_protein</th>\n",
       "      <th>abdomo_appearance</th>\n",
       "      <th>abdomo_protein</th>\n",
       "      <th>outcome</th>\n",
       "      <th>surgical_lesion</th>\n",
       "      <th>lesion_1</th>\n",
       "      <th>lesion_2</th>\n",
       "      <th>lesion_3</th>\n",
       "      <th>cp_data</th>\n",
       "    </tr>\n",
       "  </thead>\n",
       "  <tbody>\n",
       "    <tr>\n",
       "      <th>0</th>\n",
       "      <td>no</td>\n",
       "      <td>adult</td>\n",
       "      <td>530101</td>\n",
       "      <td>38.5</td>\n",
       "      <td>66.0</td>\n",
       "      <td>28.0</td>\n",
       "      <td>cool</td>\n",
       "      <td>reduced</td>\n",
       "      <td>NaN</td>\n",
       "      <td>more_3_sec</td>\n",
       "      <td>...</td>\n",
       "      <td>45.0</td>\n",
       "      <td>8.4</td>\n",
       "      <td>NaN</td>\n",
       "      <td>NaN</td>\n",
       "      <td>died</td>\n",
       "      <td>no</td>\n",
       "      <td>11300</td>\n",
       "      <td>0</td>\n",
       "      <td>0</td>\n",
       "      <td>no</td>\n",
       "    </tr>\n",
       "    <tr>\n",
       "      <th>1</th>\n",
       "      <td>yes</td>\n",
       "      <td>adult</td>\n",
       "      <td>534817</td>\n",
       "      <td>39.2</td>\n",
       "      <td>88.0</td>\n",
       "      <td>20.0</td>\n",
       "      <td>NaN</td>\n",
       "      <td>NaN</td>\n",
       "      <td>pale_cyanotic</td>\n",
       "      <td>less_3_sec</td>\n",
       "      <td>...</td>\n",
       "      <td>50.0</td>\n",
       "      <td>85.0</td>\n",
       "      <td>cloudy</td>\n",
       "      <td>2.0</td>\n",
       "      <td>euthanized</td>\n",
       "      <td>no</td>\n",
       "      <td>2208</td>\n",
       "      <td>0</td>\n",
       "      <td>0</td>\n",
       "      <td>no</td>\n",
       "    </tr>\n",
       "    <tr>\n",
       "      <th>2</th>\n",
       "      <td>no</td>\n",
       "      <td>adult</td>\n",
       "      <td>530334</td>\n",
       "      <td>38.3</td>\n",
       "      <td>40.0</td>\n",
       "      <td>24.0</td>\n",
       "      <td>normal</td>\n",
       "      <td>normal</td>\n",
       "      <td>pale_pink</td>\n",
       "      <td>less_3_sec</td>\n",
       "      <td>...</td>\n",
       "      <td>33.0</td>\n",
       "      <td>6.7</td>\n",
       "      <td>NaN</td>\n",
       "      <td>NaN</td>\n",
       "      <td>lived</td>\n",
       "      <td>no</td>\n",
       "      <td>0</td>\n",
       "      <td>0</td>\n",
       "      <td>0</td>\n",
       "      <td>yes</td>\n",
       "    </tr>\n",
       "    <tr>\n",
       "      <th>3</th>\n",
       "      <td>yes</td>\n",
       "      <td>young</td>\n",
       "      <td>5290409</td>\n",
       "      <td>39.1</td>\n",
       "      <td>164.0</td>\n",
       "      <td>84.0</td>\n",
       "      <td>cold</td>\n",
       "      <td>normal</td>\n",
       "      <td>dark_cyanotic</td>\n",
       "      <td>more_3_sec</td>\n",
       "      <td>...</td>\n",
       "      <td>48.0</td>\n",
       "      <td>7.2</td>\n",
       "      <td>serosanguious</td>\n",
       "      <td>5.3</td>\n",
       "      <td>died</td>\n",
       "      <td>yes</td>\n",
       "      <td>2208</td>\n",
       "      <td>0</td>\n",
       "      <td>0</td>\n",
       "      <td>yes</td>\n",
       "    </tr>\n",
       "    <tr>\n",
       "      <th>4</th>\n",
       "      <td>no</td>\n",
       "      <td>adult</td>\n",
       "      <td>530255</td>\n",
       "      <td>37.3</td>\n",
       "      <td>104.0</td>\n",
       "      <td>35.0</td>\n",
       "      <td>NaN</td>\n",
       "      <td>NaN</td>\n",
       "      <td>dark_cyanotic</td>\n",
       "      <td>more_3_sec</td>\n",
       "      <td>...</td>\n",
       "      <td>74.0</td>\n",
       "      <td>7.4</td>\n",
       "      <td>NaN</td>\n",
       "      <td>NaN</td>\n",
       "      <td>died</td>\n",
       "      <td>no</td>\n",
       "      <td>4300</td>\n",
       "      <td>0</td>\n",
       "      <td>0</td>\n",
       "      <td>no</td>\n",
       "    </tr>\n",
       "  </tbody>\n",
       "</table>\n",
       "<p>5 rows × 28 columns</p>\n",
       "</div>"
      ],
      "text/plain": [
       "  surgery    age  hospital_number  rectal_temp  pulse  respiratory_rate  \\\n",
       "0      no  adult           530101         38.5   66.0              28.0   \n",
       "1     yes  adult           534817         39.2   88.0              20.0   \n",
       "2      no  adult           530334         38.3   40.0              24.0   \n",
       "3     yes  young          5290409         39.1  164.0              84.0   \n",
       "4      no  adult           530255         37.3  104.0              35.0   \n",
       "\n",
       "  temp_of_extremities peripheral_pulse mucous_membrane capillary_refill_time  \\\n",
       "0                cool          reduced             NaN            more_3_sec   \n",
       "1                 NaN              NaN   pale_cyanotic            less_3_sec   \n",
       "2              normal           normal       pale_pink            less_3_sec   \n",
       "3                cold           normal   dark_cyanotic            more_3_sec   \n",
       "4                 NaN              NaN   dark_cyanotic            more_3_sec   \n",
       "\n",
       "   ... packed_cell_volume total_protein abdomo_appearance abdomo_protein  \\\n",
       "0  ...               45.0           8.4               NaN            NaN   \n",
       "1  ...               50.0          85.0            cloudy            2.0   \n",
       "2  ...               33.0           6.7               NaN            NaN   \n",
       "3  ...               48.0           7.2     serosanguious            5.3   \n",
       "4  ...               74.0           7.4               NaN            NaN   \n",
       "\n",
       "      outcome  surgical_lesion lesion_1 lesion_2  lesion_3  cp_data  \n",
       "0        died               no    11300        0         0       no  \n",
       "1  euthanized               no     2208        0         0       no  \n",
       "2       lived               no        0        0         0      yes  \n",
       "3        died              yes     2208        0         0      yes  \n",
       "4        died               no     4300        0         0       no  \n",
       "\n",
       "[5 rows x 28 columns]"
      ]
     },
     "execution_count": 56,
     "metadata": {},
     "output_type": "execute_result"
    }
   ],
   "source": [
    "df.head()"
   ]
  },
  {
   "cell_type": "code",
   "execution_count": 57,
   "metadata": {},
   "outputs": [
    {
     "data": {
      "text/plain": [
       "surgery                    0\n",
       "age                        0\n",
       "hospital_number            0\n",
       "rectal_temp               60\n",
       "pulse                     24\n",
       "respiratory_rate          58\n",
       "temp_of_extremities       56\n",
       "peripheral_pulse          69\n",
       "mucous_membrane           47\n",
       "capillary_refill_time     32\n",
       "pain                      55\n",
       "peristalsis               44\n",
       "abdominal_distention      56\n",
       "nasogastric_tube         104\n",
       "nasogastric_reflux       106\n",
       "nasogastric_reflux_ph    246\n",
       "rectal_exam_feces        102\n",
       "abdomen                  118\n",
       "packed_cell_volume        29\n",
       "total_protein             33\n",
       "abdomo_appearance        165\n",
       "abdomo_protein           198\n",
       "outcome                    0\n",
       "surgical_lesion            0\n",
       "lesion_1                   0\n",
       "lesion_2                   0\n",
       "lesion_3                   0\n",
       "cp_data                    0\n",
       "dtype: int64"
      ]
     },
     "execution_count": 57,
     "metadata": {},
     "output_type": "execute_result"
    }
   ],
   "source": [
    "df.isnull().sum()"
   ]
  },
  {
   "cell_type": "code",
   "execution_count": 58,
   "metadata": {},
   "outputs": [
    {
     "data": {
      "text/plain": [
       "surgery                   0.000000\n",
       "age                       0.000000\n",
       "hospital_number           0.000000\n",
       "rectal_temp              20.066890\n",
       "pulse                     8.026756\n",
       "respiratory_rate         19.397993\n",
       "temp_of_extremities      18.729097\n",
       "peripheral_pulse         23.076923\n",
       "mucous_membrane          15.719064\n",
       "capillary_refill_time    10.702341\n",
       "pain                     18.394649\n",
       "peristalsis              14.715719\n",
       "abdominal_distention     18.729097\n",
       "nasogastric_tube         34.782609\n",
       "nasogastric_reflux       35.451505\n",
       "nasogastric_reflux_ph    82.274247\n",
       "rectal_exam_feces        34.113712\n",
       "abdomen                  39.464883\n",
       "packed_cell_volume        9.698997\n",
       "total_protein            11.036789\n",
       "abdomo_appearance        55.183946\n",
       "abdomo_protein           66.220736\n",
       "outcome                   0.000000\n",
       "surgical_lesion           0.000000\n",
       "lesion_1                  0.000000\n",
       "lesion_2                  0.000000\n",
       "lesion_3                  0.000000\n",
       "cp_data                   0.000000\n",
       "dtype: float64"
      ]
     },
     "execution_count": 58,
     "metadata": {},
     "output_type": "execute_result"
    }
   ],
   "source": [
    "df.isnull().sum()/len(df)*100"
   ]
  },
  {
   "cell_type": "code",
   "execution_count": 59,
   "metadata": {},
   "outputs": [],
   "source": [
    "df = df.drop([\"nasogastric_reflux_ph\", \"abdomo_appearance\", \"abdomo_protein\"],axis=1)"
   ]
  },
  {
   "cell_type": "code",
   "execution_count": 60,
   "metadata": {},
   "outputs": [
    {
     "data": {
      "text/plain": [
       "surgery                   0.000000\n",
       "age                       0.000000\n",
       "hospital_number           0.000000\n",
       "rectal_temp              20.066890\n",
       "pulse                     8.026756\n",
       "respiratory_rate         19.397993\n",
       "temp_of_extremities      18.729097\n",
       "peripheral_pulse         23.076923\n",
       "mucous_membrane          15.719064\n",
       "capillary_refill_time    10.702341\n",
       "pain                     18.394649\n",
       "peristalsis              14.715719\n",
       "abdominal_distention     18.729097\n",
       "nasogastric_tube         34.782609\n",
       "nasogastric_reflux       35.451505\n",
       "rectal_exam_feces        34.113712\n",
       "abdomen                  39.464883\n",
       "packed_cell_volume        9.698997\n",
       "total_protein            11.036789\n",
       "outcome                   0.000000\n",
       "surgical_lesion           0.000000\n",
       "lesion_1                  0.000000\n",
       "lesion_2                  0.000000\n",
       "lesion_3                  0.000000\n",
       "cp_data                   0.000000\n",
       "dtype: float64"
      ]
     },
     "execution_count": 60,
     "metadata": {},
     "output_type": "execute_result"
    }
   ],
   "source": [
    "df.isnull().sum()/len(df)*100"
   ]
  },
  {
   "cell_type": "code",
   "execution_count": 61,
   "metadata": {},
   "outputs": [
    {
     "data": {
      "text/html": [
       "<div>\n",
       "<style scoped>\n",
       "    .dataframe tbody tr th:only-of-type {\n",
       "        vertical-align: middle;\n",
       "    }\n",
       "\n",
       "    .dataframe tbody tr th {\n",
       "        vertical-align: top;\n",
       "    }\n",
       "\n",
       "    .dataframe thead th {\n",
       "        text-align: right;\n",
       "    }\n",
       "</style>\n",
       "<table border=\"1\" class=\"dataframe\">\n",
       "  <thead>\n",
       "    <tr style=\"text-align: right;\">\n",
       "      <th></th>\n",
       "      <th>hospital_number</th>\n",
       "      <th>rectal_temp</th>\n",
       "      <th>pulse</th>\n",
       "      <th>respiratory_rate</th>\n",
       "      <th>packed_cell_volume</th>\n",
       "      <th>total_protein</th>\n",
       "      <th>lesion_1</th>\n",
       "      <th>lesion_2</th>\n",
       "      <th>lesion_3</th>\n",
       "    </tr>\n",
       "  </thead>\n",
       "  <tbody>\n",
       "    <tr>\n",
       "      <th>count</th>\n",
       "      <td>2.990000e+02</td>\n",
       "      <td>239.000000</td>\n",
       "      <td>275.000000</td>\n",
       "      <td>241.000000</td>\n",
       "      <td>270.000000</td>\n",
       "      <td>266.000000</td>\n",
       "      <td>299.000000</td>\n",
       "      <td>299.000000</td>\n",
       "      <td>299.000000</td>\n",
       "    </tr>\n",
       "    <tr>\n",
       "      <th>mean</th>\n",
       "      <td>1.087733e+06</td>\n",
       "      <td>38.168619</td>\n",
       "      <td>72.000000</td>\n",
       "      <td>30.460581</td>\n",
       "      <td>46.307407</td>\n",
       "      <td>24.274436</td>\n",
       "      <td>3659.709030</td>\n",
       "      <td>90.528428</td>\n",
       "      <td>7.387960</td>\n",
       "    </tr>\n",
       "    <tr>\n",
       "      <th>std</th>\n",
       "      <td>1.532032e+06</td>\n",
       "      <td>0.733744</td>\n",
       "      <td>28.646219</td>\n",
       "      <td>17.666102</td>\n",
       "      <td>10.436743</td>\n",
       "      <td>27.364194</td>\n",
       "      <td>5408.472421</td>\n",
       "      <td>650.637139</td>\n",
       "      <td>127.749768</td>\n",
       "    </tr>\n",
       "    <tr>\n",
       "      <th>min</th>\n",
       "      <td>5.184760e+05</td>\n",
       "      <td>35.400000</td>\n",
       "      <td>30.000000</td>\n",
       "      <td>8.000000</td>\n",
       "      <td>23.000000</td>\n",
       "      <td>3.300000</td>\n",
       "      <td>0.000000</td>\n",
       "      <td>0.000000</td>\n",
       "      <td>0.000000</td>\n",
       "    </tr>\n",
       "    <tr>\n",
       "      <th>25%</th>\n",
       "      <td>5.289040e+05</td>\n",
       "      <td>37.800000</td>\n",
       "      <td>48.000000</td>\n",
       "      <td>18.000000</td>\n",
       "      <td>38.000000</td>\n",
       "      <td>6.500000</td>\n",
       "      <td>2111.500000</td>\n",
       "      <td>0.000000</td>\n",
       "      <td>0.000000</td>\n",
       "    </tr>\n",
       "    <tr>\n",
       "      <th>50%</th>\n",
       "      <td>5.303010e+05</td>\n",
       "      <td>38.200000</td>\n",
       "      <td>64.000000</td>\n",
       "      <td>25.000000</td>\n",
       "      <td>45.000000</td>\n",
       "      <td>7.500000</td>\n",
       "      <td>2322.000000</td>\n",
       "      <td>0.000000</td>\n",
       "      <td>0.000000</td>\n",
       "    </tr>\n",
       "    <tr>\n",
       "      <th>75%</th>\n",
       "      <td>5.347360e+05</td>\n",
       "      <td>38.500000</td>\n",
       "      <td>88.000000</td>\n",
       "      <td>36.000000</td>\n",
       "      <td>52.000000</td>\n",
       "      <td>56.750000</td>\n",
       "      <td>3209.000000</td>\n",
       "      <td>0.000000</td>\n",
       "      <td>0.000000</td>\n",
       "    </tr>\n",
       "    <tr>\n",
       "      <th>max</th>\n",
       "      <td>5.305629e+06</td>\n",
       "      <td>40.800000</td>\n",
       "      <td>184.000000</td>\n",
       "      <td>96.000000</td>\n",
       "      <td>75.000000</td>\n",
       "      <td>89.000000</td>\n",
       "      <td>41110.000000</td>\n",
       "      <td>7111.000000</td>\n",
       "      <td>2209.000000</td>\n",
       "    </tr>\n",
       "  </tbody>\n",
       "</table>\n",
       "</div>"
      ],
      "text/plain": [
       "       hospital_number  rectal_temp       pulse  respiratory_rate  \\\n",
       "count     2.990000e+02   239.000000  275.000000        241.000000   \n",
       "mean      1.087733e+06    38.168619   72.000000         30.460581   \n",
       "std       1.532032e+06     0.733744   28.646219         17.666102   \n",
       "min       5.184760e+05    35.400000   30.000000          8.000000   \n",
       "25%       5.289040e+05    37.800000   48.000000         18.000000   \n",
       "50%       5.303010e+05    38.200000   64.000000         25.000000   \n",
       "75%       5.347360e+05    38.500000   88.000000         36.000000   \n",
       "max       5.305629e+06    40.800000  184.000000         96.000000   \n",
       "\n",
       "       packed_cell_volume  total_protein      lesion_1     lesion_2  \\\n",
       "count          270.000000     266.000000    299.000000   299.000000   \n",
       "mean            46.307407      24.274436   3659.709030    90.528428   \n",
       "std             10.436743      27.364194   5408.472421   650.637139   \n",
       "min             23.000000       3.300000      0.000000     0.000000   \n",
       "25%             38.000000       6.500000   2111.500000     0.000000   \n",
       "50%             45.000000       7.500000   2322.000000     0.000000   \n",
       "75%             52.000000      56.750000   3209.000000     0.000000   \n",
       "max             75.000000      89.000000  41110.000000  7111.000000   \n",
       "\n",
       "          lesion_3  \n",
       "count   299.000000  \n",
       "mean      7.387960  \n",
       "std     127.749768  \n",
       "min       0.000000  \n",
       "25%       0.000000  \n",
       "50%       0.000000  \n",
       "75%       0.000000  \n",
       "max    2209.000000  "
      ]
     },
     "execution_count": 61,
     "metadata": {},
     "output_type": "execute_result"
    }
   ],
   "source": [
    "df.describe()"
   ]
  },
  {
   "cell_type": "code",
   "execution_count": 62,
   "metadata": {},
   "outputs": [],
   "source": [
    "df[\"rectal_temp\"] = df[\"rectal_temp\"].fillna(38.2)"
   ]
  },
  {
   "cell_type": "code",
   "execution_count": 63,
   "metadata": {},
   "outputs": [],
   "source": [
    "df[\"pulse\"] = df[\"pulse\"].fillna(64.0)"
   ]
  },
  {
   "cell_type": "code",
   "execution_count": 64,
   "metadata": {},
   "outputs": [],
   "source": [
    "df[\"respiratory_rate\"] = df[\"respiratory_rate\"].fillna(25.0)"
   ]
  },
  {
   "cell_type": "code",
   "execution_count": 65,
   "metadata": {},
   "outputs": [
    {
     "data": {
      "text/plain": [
       "cool      108\n",
       "normal     78\n",
       "warm       30\n",
       "cold       27\n",
       "Name: temp_of_extremities, dtype: int64"
      ]
     },
     "execution_count": 65,
     "metadata": {},
     "output_type": "execute_result"
    }
   ],
   "source": [
    "df[\"temp_of_extremities\"].value_counts()"
   ]
  },
  {
   "cell_type": "code",
   "execution_count": 66,
   "metadata": {},
   "outputs": [],
   "source": [
    "df[\"temp_of_extremities\"]  = df[\"temp_of_extremities\"].fillna(\"cool\")"
   ]
  },
  {
   "cell_type": "code",
   "execution_count": 67,
   "metadata": {},
   "outputs": [
    {
     "data": {
      "text/plain": [
       "normal       114\n",
       "reduced      103\n",
       "absent         8\n",
       "increased      5\n",
       "Name: peripheral_pulse, dtype: int64"
      ]
     },
     "execution_count": 67,
     "metadata": {},
     "output_type": "execute_result"
    }
   ],
   "source": [
    "df[\"peripheral_pulse\"].value_counts()"
   ]
  },
  {
   "cell_type": "code",
   "execution_count": 68,
   "metadata": {},
   "outputs": [],
   "source": [
    "df[\"peripheral_pulse\"] = df[\"peripheral_pulse\"].fillna(\"normal\")"
   ]
  },
  {
   "cell_type": "code",
   "execution_count": 69,
   "metadata": {},
   "outputs": [
    {
     "data": {
      "text/plain": [
       "normal_pink      79\n",
       "pale_pink        57\n",
       "pale_cyanotic    41\n",
       "bright_pink      30\n",
       "bright_red       25\n",
       "dark_cyanotic    20\n",
       "Name: mucous_membrane, dtype: int64"
      ]
     },
     "execution_count": 69,
     "metadata": {},
     "output_type": "execute_result"
    }
   ],
   "source": [
    "df[\"mucous_membrane\"].value_counts()"
   ]
  },
  {
   "cell_type": "code",
   "execution_count": 70,
   "metadata": {},
   "outputs": [],
   "source": [
    "df[\"mucous_membrane\"] = df[\"mucous_membrane\"].fillna(\"normal_pink\")"
   ]
  },
  {
   "cell_type": "code",
   "execution_count": 71,
   "metadata": {},
   "outputs": [
    {
     "data": {
      "text/plain": [
       "less_3_sec    187\n",
       "more_3_sec     78\n",
       "3               2\n",
       "Name: capillary_refill_time, dtype: int64"
      ]
     },
     "execution_count": 71,
     "metadata": {},
     "output_type": "execute_result"
    }
   ],
   "source": [
    "df[\"capillary_refill_time\"].value_counts()"
   ]
  },
  {
   "cell_type": "code",
   "execution_count": 72,
   "metadata": {},
   "outputs": [],
   "source": [
    "df[\"capillary_refill_time\"] = df[\"capillary_refill_time\"].fillna(\"less_3_sec\")"
   ]
  },
  {
   "cell_type": "code",
   "execution_count": 73,
   "metadata": {},
   "outputs": [
    {
     "data": {
      "text/plain": [
       "mild_pain       67\n",
       "depressed       59\n",
       "extreme_pain    42\n",
       "severe_pain     38\n",
       "alert           38\n",
       "Name: pain, dtype: int64"
      ]
     },
     "execution_count": 73,
     "metadata": {},
     "output_type": "execute_result"
    }
   ],
   "source": [
    "df[\"pain\"].value_counts()"
   ]
  },
  {
   "cell_type": "code",
   "execution_count": 74,
   "metadata": {},
   "outputs": [],
   "source": [
    "df[\"pain\"] = df[\"pain\"].fillna(\"mild_pain\")"
   ]
  },
  {
   "cell_type": "code",
   "execution_count": 75,
   "metadata": {},
   "outputs": [
    {
     "data": {
      "text/plain": [
       "hypomotile     127\n",
       "absent          73\n",
       "hypermotile     39\n",
       "normal          16\n",
       "Name: peristalsis, dtype: int64"
      ]
     },
     "execution_count": 75,
     "metadata": {},
     "output_type": "execute_result"
    }
   ],
   "source": [
    "df[\"peristalsis\"].value_counts()"
   ]
  },
  {
   "cell_type": "code",
   "execution_count": 76,
   "metadata": {},
   "outputs": [],
   "source": [
    "df[\"peristalsis\"] = df[\"peristalsis\"].fillna(\"hypomotile\")"
   ]
  },
  {
   "cell_type": "code",
   "execution_count": 77,
   "metadata": {},
   "outputs": [
    {
     "data": {
      "text/plain": [
       "none        75\n",
       "slight      65\n",
       "moderate    65\n",
       "severe      38\n",
       "Name: abdominal_distention, dtype: int64"
      ]
     },
     "execution_count": 77,
     "metadata": {},
     "output_type": "execute_result"
    }
   ],
   "source": [
    "df[\"abdominal_distention\"].value_counts()"
   ]
  },
  {
   "cell_type": "code",
   "execution_count": 78,
   "metadata": {},
   "outputs": [],
   "source": [
    "df[\"abdominal_distention\"] = df[\"abdominal_distention\"].fillna(\"none\")"
   ]
  },
  {
   "cell_type": "code",
   "execution_count": 79,
   "metadata": {},
   "outputs": [
    {
     "data": {
      "text/plain": [
       "surgery                   0.000000\n",
       "age                       0.000000\n",
       "hospital_number           0.000000\n",
       "rectal_temp               0.000000\n",
       "pulse                     0.000000\n",
       "respiratory_rate          0.000000\n",
       "temp_of_extremities       0.000000\n",
       "peripheral_pulse          0.000000\n",
       "mucous_membrane           0.000000\n",
       "capillary_refill_time     0.000000\n",
       "pain                      0.000000\n",
       "peristalsis               0.000000\n",
       "abdominal_distention      0.000000\n",
       "nasogastric_tube         34.782609\n",
       "nasogastric_reflux       35.451505\n",
       "rectal_exam_feces        34.113712\n",
       "abdomen                  39.464883\n",
       "packed_cell_volume        9.698997\n",
       "total_protein            11.036789\n",
       "outcome                   0.000000\n",
       "surgical_lesion           0.000000\n",
       "lesion_1                  0.000000\n",
       "lesion_2                  0.000000\n",
       "lesion_3                  0.000000\n",
       "cp_data                   0.000000\n",
       "dtype: float64"
      ]
     },
     "execution_count": 79,
     "metadata": {},
     "output_type": "execute_result"
    }
   ],
   "source": [
    "df.isnull().sum()/len(df)*100"
   ]
  },
  {
   "cell_type": "code",
   "execution_count": 80,
   "metadata": {},
   "outputs": [],
   "source": [
    "df[\"packed_cell_volume\"] = df[\"packed_cell_volume\"].fillna(46.3)"
   ]
  },
  {
   "cell_type": "code",
   "execution_count": 81,
   "metadata": {},
   "outputs": [],
   "source": [
    "df[\"total_protein\"] = df[\"total_protein\"].fillna(7.5)"
   ]
  },
  {
   "cell_type": "code",
   "execution_count": 82,
   "metadata": {},
   "outputs": [],
   "source": [
    "df = df.drop([\"nasogastric_tube\", \"nasogastric_reflux\", \"rectal_exam_feces\", \"abdomen\"],axis=1)"
   ]
  },
  {
   "cell_type": "code",
   "execution_count": 83,
   "metadata": {},
   "outputs": [
    {
     "data": {
      "text/html": [
       "<div>\n",
       "<style scoped>\n",
       "    .dataframe tbody tr th:only-of-type {\n",
       "        vertical-align: middle;\n",
       "    }\n",
       "\n",
       "    .dataframe tbody tr th {\n",
       "        vertical-align: top;\n",
       "    }\n",
       "\n",
       "    .dataframe thead th {\n",
       "        text-align: right;\n",
       "    }\n",
       "</style>\n",
       "<table border=\"1\" class=\"dataframe\">\n",
       "  <thead>\n",
       "    <tr style=\"text-align: right;\">\n",
       "      <th></th>\n",
       "      <th>surgery</th>\n",
       "      <th>age</th>\n",
       "      <th>hospital_number</th>\n",
       "      <th>rectal_temp</th>\n",
       "      <th>pulse</th>\n",
       "      <th>respiratory_rate</th>\n",
       "      <th>temp_of_extremities</th>\n",
       "      <th>peripheral_pulse</th>\n",
       "      <th>mucous_membrane</th>\n",
       "      <th>capillary_refill_time</th>\n",
       "      <th>...</th>\n",
       "      <th>peristalsis</th>\n",
       "      <th>abdominal_distention</th>\n",
       "      <th>packed_cell_volume</th>\n",
       "      <th>total_protein</th>\n",
       "      <th>outcome</th>\n",
       "      <th>surgical_lesion</th>\n",
       "      <th>lesion_1</th>\n",
       "      <th>lesion_2</th>\n",
       "      <th>lesion_3</th>\n",
       "      <th>cp_data</th>\n",
       "    </tr>\n",
       "  </thead>\n",
       "  <tbody>\n",
       "    <tr>\n",
       "      <th>0</th>\n",
       "      <td>no</td>\n",
       "      <td>adult</td>\n",
       "      <td>530101</td>\n",
       "      <td>38.5</td>\n",
       "      <td>66.0</td>\n",
       "      <td>28.0</td>\n",
       "      <td>cool</td>\n",
       "      <td>reduced</td>\n",
       "      <td>normal_pink</td>\n",
       "      <td>more_3_sec</td>\n",
       "      <td>...</td>\n",
       "      <td>absent</td>\n",
       "      <td>severe</td>\n",
       "      <td>45.0</td>\n",
       "      <td>8.4</td>\n",
       "      <td>died</td>\n",
       "      <td>no</td>\n",
       "      <td>11300</td>\n",
       "      <td>0</td>\n",
       "      <td>0</td>\n",
       "      <td>no</td>\n",
       "    </tr>\n",
       "    <tr>\n",
       "      <th>1</th>\n",
       "      <td>yes</td>\n",
       "      <td>adult</td>\n",
       "      <td>534817</td>\n",
       "      <td>39.2</td>\n",
       "      <td>88.0</td>\n",
       "      <td>20.0</td>\n",
       "      <td>cool</td>\n",
       "      <td>normal</td>\n",
       "      <td>pale_cyanotic</td>\n",
       "      <td>less_3_sec</td>\n",
       "      <td>...</td>\n",
       "      <td>absent</td>\n",
       "      <td>slight</td>\n",
       "      <td>50.0</td>\n",
       "      <td>85.0</td>\n",
       "      <td>euthanized</td>\n",
       "      <td>no</td>\n",
       "      <td>2208</td>\n",
       "      <td>0</td>\n",
       "      <td>0</td>\n",
       "      <td>no</td>\n",
       "    </tr>\n",
       "    <tr>\n",
       "      <th>2</th>\n",
       "      <td>no</td>\n",
       "      <td>adult</td>\n",
       "      <td>530334</td>\n",
       "      <td>38.3</td>\n",
       "      <td>40.0</td>\n",
       "      <td>24.0</td>\n",
       "      <td>normal</td>\n",
       "      <td>normal</td>\n",
       "      <td>pale_pink</td>\n",
       "      <td>less_3_sec</td>\n",
       "      <td>...</td>\n",
       "      <td>hypomotile</td>\n",
       "      <td>none</td>\n",
       "      <td>33.0</td>\n",
       "      <td>6.7</td>\n",
       "      <td>lived</td>\n",
       "      <td>no</td>\n",
       "      <td>0</td>\n",
       "      <td>0</td>\n",
       "      <td>0</td>\n",
       "      <td>yes</td>\n",
       "    </tr>\n",
       "    <tr>\n",
       "      <th>3</th>\n",
       "      <td>yes</td>\n",
       "      <td>young</td>\n",
       "      <td>5290409</td>\n",
       "      <td>39.1</td>\n",
       "      <td>164.0</td>\n",
       "      <td>84.0</td>\n",
       "      <td>cold</td>\n",
       "      <td>normal</td>\n",
       "      <td>dark_cyanotic</td>\n",
       "      <td>more_3_sec</td>\n",
       "      <td>...</td>\n",
       "      <td>absent</td>\n",
       "      <td>severe</td>\n",
       "      <td>48.0</td>\n",
       "      <td>7.2</td>\n",
       "      <td>died</td>\n",
       "      <td>yes</td>\n",
       "      <td>2208</td>\n",
       "      <td>0</td>\n",
       "      <td>0</td>\n",
       "      <td>yes</td>\n",
       "    </tr>\n",
       "    <tr>\n",
       "      <th>4</th>\n",
       "      <td>no</td>\n",
       "      <td>adult</td>\n",
       "      <td>530255</td>\n",
       "      <td>37.3</td>\n",
       "      <td>104.0</td>\n",
       "      <td>35.0</td>\n",
       "      <td>cool</td>\n",
       "      <td>normal</td>\n",
       "      <td>dark_cyanotic</td>\n",
       "      <td>more_3_sec</td>\n",
       "      <td>...</td>\n",
       "      <td>hypomotile</td>\n",
       "      <td>none</td>\n",
       "      <td>74.0</td>\n",
       "      <td>7.4</td>\n",
       "      <td>died</td>\n",
       "      <td>no</td>\n",
       "      <td>4300</td>\n",
       "      <td>0</td>\n",
       "      <td>0</td>\n",
       "      <td>no</td>\n",
       "    </tr>\n",
       "  </tbody>\n",
       "</table>\n",
       "<p>5 rows × 21 columns</p>\n",
       "</div>"
      ],
      "text/plain": [
       "  surgery    age  hospital_number  rectal_temp  pulse  respiratory_rate  \\\n",
       "0      no  adult           530101         38.5   66.0              28.0   \n",
       "1     yes  adult           534817         39.2   88.0              20.0   \n",
       "2      no  adult           530334         38.3   40.0              24.0   \n",
       "3     yes  young          5290409         39.1  164.0              84.0   \n",
       "4      no  adult           530255         37.3  104.0              35.0   \n",
       "\n",
       "  temp_of_extremities peripheral_pulse mucous_membrane capillary_refill_time  \\\n",
       "0                cool          reduced     normal_pink            more_3_sec   \n",
       "1                cool           normal   pale_cyanotic            less_3_sec   \n",
       "2              normal           normal       pale_pink            less_3_sec   \n",
       "3                cold           normal   dark_cyanotic            more_3_sec   \n",
       "4                cool           normal   dark_cyanotic            more_3_sec   \n",
       "\n",
       "   ... peristalsis abdominal_distention packed_cell_volume  total_protein  \\\n",
       "0  ...      absent               severe               45.0            8.4   \n",
       "1  ...      absent               slight               50.0           85.0   \n",
       "2  ...  hypomotile                 none               33.0            6.7   \n",
       "3  ...      absent               severe               48.0            7.2   \n",
       "4  ...  hypomotile                 none               74.0            7.4   \n",
       "\n",
       "      outcome surgical_lesion lesion_1  lesion_2  lesion_3  cp_data  \n",
       "0        died              no    11300         0         0       no  \n",
       "1  euthanized              no     2208         0         0       no  \n",
       "2       lived              no        0         0         0      yes  \n",
       "3        died             yes     2208         0         0      yes  \n",
       "4        died              no     4300         0         0       no  \n",
       "\n",
       "[5 rows x 21 columns]"
      ]
     },
     "execution_count": 83,
     "metadata": {},
     "output_type": "execute_result"
    }
   ],
   "source": [
    "df.head()"
   ]
  },
  {
   "cell_type": "code",
   "execution_count": 84,
   "metadata": {},
   "outputs": [
    {
     "data": {
      "text/html": [
       "<div>\n",
       "<style scoped>\n",
       "    .dataframe tbody tr th:only-of-type {\n",
       "        vertical-align: middle;\n",
       "    }\n",
       "\n",
       "    .dataframe tbody tr th {\n",
       "        vertical-align: top;\n",
       "    }\n",
       "\n",
       "    .dataframe thead th {\n",
       "        text-align: right;\n",
       "    }\n",
       "</style>\n",
       "<table border=\"1\" class=\"dataframe\">\n",
       "  <thead>\n",
       "    <tr style=\"text-align: right;\">\n",
       "      <th></th>\n",
       "      <th>hospital_number</th>\n",
       "      <th>rectal_temp</th>\n",
       "      <th>pulse</th>\n",
       "      <th>respiratory_rate</th>\n",
       "      <th>packed_cell_volume</th>\n",
       "      <th>total_protein</th>\n",
       "      <th>lesion_1</th>\n",
       "      <th>lesion_2</th>\n",
       "      <th>lesion_3</th>\n",
       "    </tr>\n",
       "  </thead>\n",
       "  <tbody>\n",
       "    <tr>\n",
       "      <th>count</th>\n",
       "      <td>2.990000e+02</td>\n",
       "      <td>299.000000</td>\n",
       "      <td>299.000000</td>\n",
       "      <td>299.000000</td>\n",
       "      <td>299.000000</td>\n",
       "      <td>299.000000</td>\n",
       "      <td>299.000000</td>\n",
       "      <td>299.000000</td>\n",
       "      <td>299.000000</td>\n",
       "    </tr>\n",
       "    <tr>\n",
       "      <th>mean</th>\n",
       "      <td>1.087733e+06</td>\n",
       "      <td>38.174916</td>\n",
       "      <td>71.357860</td>\n",
       "      <td>29.401338</td>\n",
       "      <td>46.306689</td>\n",
       "      <td>22.423077</td>\n",
       "      <td>3659.709030</td>\n",
       "      <td>90.528428</td>\n",
       "      <td>7.387960</td>\n",
       "    </tr>\n",
       "    <tr>\n",
       "      <th>std</th>\n",
       "      <td>1.532032e+06</td>\n",
       "      <td>0.655851</td>\n",
       "      <td>27.554626</td>\n",
       "      <td>16.000822</td>\n",
       "      <td>9.915919</td>\n",
       "      <td>26.336270</td>\n",
       "      <td>5408.472421</td>\n",
       "      <td>650.637139</td>\n",
       "      <td>127.749768</td>\n",
       "    </tr>\n",
       "    <tr>\n",
       "      <th>min</th>\n",
       "      <td>5.184760e+05</td>\n",
       "      <td>35.400000</td>\n",
       "      <td>30.000000</td>\n",
       "      <td>8.000000</td>\n",
       "      <td>23.000000</td>\n",
       "      <td>3.300000</td>\n",
       "      <td>0.000000</td>\n",
       "      <td>0.000000</td>\n",
       "      <td>0.000000</td>\n",
       "    </tr>\n",
       "    <tr>\n",
       "      <th>25%</th>\n",
       "      <td>5.289040e+05</td>\n",
       "      <td>37.900000</td>\n",
       "      <td>48.500000</td>\n",
       "      <td>20.000000</td>\n",
       "      <td>39.000000</td>\n",
       "      <td>6.600000</td>\n",
       "      <td>2111.500000</td>\n",
       "      <td>0.000000</td>\n",
       "      <td>0.000000</td>\n",
       "    </tr>\n",
       "    <tr>\n",
       "      <th>50%</th>\n",
       "      <td>5.303010e+05</td>\n",
       "      <td>38.200000</td>\n",
       "      <td>64.000000</td>\n",
       "      <td>25.000000</td>\n",
       "      <td>46.000000</td>\n",
       "      <td>7.500000</td>\n",
       "      <td>2322.000000</td>\n",
       "      <td>0.000000</td>\n",
       "      <td>0.000000</td>\n",
       "    </tr>\n",
       "    <tr>\n",
       "      <th>75%</th>\n",
       "      <td>5.347360e+05</td>\n",
       "      <td>38.500000</td>\n",
       "      <td>88.000000</td>\n",
       "      <td>34.500000</td>\n",
       "      <td>50.000000</td>\n",
       "      <td>52.000000</td>\n",
       "      <td>3209.000000</td>\n",
       "      <td>0.000000</td>\n",
       "      <td>0.000000</td>\n",
       "    </tr>\n",
       "    <tr>\n",
       "      <th>max</th>\n",
       "      <td>5.305629e+06</td>\n",
       "      <td>40.800000</td>\n",
       "      <td>184.000000</td>\n",
       "      <td>96.000000</td>\n",
       "      <td>75.000000</td>\n",
       "      <td>89.000000</td>\n",
       "      <td>41110.000000</td>\n",
       "      <td>7111.000000</td>\n",
       "      <td>2209.000000</td>\n",
       "    </tr>\n",
       "  </tbody>\n",
       "</table>\n",
       "</div>"
      ],
      "text/plain": [
       "       hospital_number  rectal_temp       pulse  respiratory_rate  \\\n",
       "count     2.990000e+02   299.000000  299.000000        299.000000   \n",
       "mean      1.087733e+06    38.174916   71.357860         29.401338   \n",
       "std       1.532032e+06     0.655851   27.554626         16.000822   \n",
       "min       5.184760e+05    35.400000   30.000000          8.000000   \n",
       "25%       5.289040e+05    37.900000   48.500000         20.000000   \n",
       "50%       5.303010e+05    38.200000   64.000000         25.000000   \n",
       "75%       5.347360e+05    38.500000   88.000000         34.500000   \n",
       "max       5.305629e+06    40.800000  184.000000         96.000000   \n",
       "\n",
       "       packed_cell_volume  total_protein      lesion_1     lesion_2  \\\n",
       "count          299.000000     299.000000    299.000000   299.000000   \n",
       "mean            46.306689      22.423077   3659.709030    90.528428   \n",
       "std              9.915919      26.336270   5408.472421   650.637139   \n",
       "min             23.000000       3.300000      0.000000     0.000000   \n",
       "25%             39.000000       6.600000   2111.500000     0.000000   \n",
       "50%             46.000000       7.500000   2322.000000     0.000000   \n",
       "75%             50.000000      52.000000   3209.000000     0.000000   \n",
       "max             75.000000      89.000000  41110.000000  7111.000000   \n",
       "\n",
       "          lesion_3  \n",
       "count   299.000000  \n",
       "mean      7.387960  \n",
       "std     127.749768  \n",
       "min       0.000000  \n",
       "25%       0.000000  \n",
       "50%       0.000000  \n",
       "75%       0.000000  \n",
       "max    2209.000000  "
      ]
     },
     "execution_count": 84,
     "metadata": {},
     "output_type": "execute_result"
    }
   ],
   "source": [
    "df.describe()"
   ]
  },
  {
   "cell_type": "code",
   "execution_count": 85,
   "metadata": {},
   "outputs": [
    {
     "data": {
      "text/plain": [
       "Index(['surgery', 'age', 'hospital_number', 'rectal_temp', 'pulse',\n",
       "       'respiratory_rate', 'temp_of_extremities', 'peripheral_pulse',\n",
       "       'mucous_membrane', 'capillary_refill_time', 'pain', 'peristalsis',\n",
       "       'abdominal_distention', 'packed_cell_volume', 'total_protein',\n",
       "       'outcome', 'surgical_lesion', 'lesion_1', 'lesion_2', 'lesion_3',\n",
       "       'cp_data'],\n",
       "      dtype='object')"
      ]
     },
     "execution_count": 85,
     "metadata": {},
     "output_type": "execute_result"
    }
   ],
   "source": [
    "df.columns"
   ]
  },
  {
   "cell_type": "code",
   "execution_count": 86,
   "metadata": {},
   "outputs": [],
   "source": [
    "df = df.drop(\"hospital_number\",axis=1)"
   ]
  },
  {
   "cell_type": "code",
   "execution_count": 87,
   "metadata": {},
   "outputs": [
    {
     "data": {
      "text/html": [
       "<div>\n",
       "<style scoped>\n",
       "    .dataframe tbody tr th:only-of-type {\n",
       "        vertical-align: middle;\n",
       "    }\n",
       "\n",
       "    .dataframe tbody tr th {\n",
       "        vertical-align: top;\n",
       "    }\n",
       "\n",
       "    .dataframe thead th {\n",
       "        text-align: right;\n",
       "    }\n",
       "</style>\n",
       "<table border=\"1\" class=\"dataframe\">\n",
       "  <thead>\n",
       "    <tr style=\"text-align: right;\">\n",
       "      <th></th>\n",
       "      <th>surgery</th>\n",
       "      <th>age</th>\n",
       "      <th>rectal_temp</th>\n",
       "      <th>pulse</th>\n",
       "      <th>respiratory_rate</th>\n",
       "      <th>temp_of_extremities</th>\n",
       "      <th>peripheral_pulse</th>\n",
       "      <th>mucous_membrane</th>\n",
       "      <th>capillary_refill_time</th>\n",
       "      <th>pain</th>\n",
       "      <th>peristalsis</th>\n",
       "      <th>abdominal_distention</th>\n",
       "      <th>packed_cell_volume</th>\n",
       "      <th>total_protein</th>\n",
       "      <th>outcome</th>\n",
       "      <th>surgical_lesion</th>\n",
       "      <th>lesion_1</th>\n",
       "      <th>lesion_2</th>\n",
       "      <th>lesion_3</th>\n",
       "      <th>cp_data</th>\n",
       "    </tr>\n",
       "  </thead>\n",
       "  <tbody>\n",
       "    <tr>\n",
       "      <th>0</th>\n",
       "      <td>no</td>\n",
       "      <td>adult</td>\n",
       "      <td>38.5</td>\n",
       "      <td>66.0</td>\n",
       "      <td>28.0</td>\n",
       "      <td>cool</td>\n",
       "      <td>reduced</td>\n",
       "      <td>normal_pink</td>\n",
       "      <td>more_3_sec</td>\n",
       "      <td>extreme_pain</td>\n",
       "      <td>absent</td>\n",
       "      <td>severe</td>\n",
       "      <td>45.0</td>\n",
       "      <td>8.4</td>\n",
       "      <td>died</td>\n",
       "      <td>no</td>\n",
       "      <td>11300</td>\n",
       "      <td>0</td>\n",
       "      <td>0</td>\n",
       "      <td>no</td>\n",
       "    </tr>\n",
       "    <tr>\n",
       "      <th>1</th>\n",
       "      <td>yes</td>\n",
       "      <td>adult</td>\n",
       "      <td>39.2</td>\n",
       "      <td>88.0</td>\n",
       "      <td>20.0</td>\n",
       "      <td>cool</td>\n",
       "      <td>normal</td>\n",
       "      <td>pale_cyanotic</td>\n",
       "      <td>less_3_sec</td>\n",
       "      <td>mild_pain</td>\n",
       "      <td>absent</td>\n",
       "      <td>slight</td>\n",
       "      <td>50.0</td>\n",
       "      <td>85.0</td>\n",
       "      <td>euthanized</td>\n",
       "      <td>no</td>\n",
       "      <td>2208</td>\n",
       "      <td>0</td>\n",
       "      <td>0</td>\n",
       "      <td>no</td>\n",
       "    </tr>\n",
       "    <tr>\n",
       "      <th>2</th>\n",
       "      <td>no</td>\n",
       "      <td>adult</td>\n",
       "      <td>38.3</td>\n",
       "      <td>40.0</td>\n",
       "      <td>24.0</td>\n",
       "      <td>normal</td>\n",
       "      <td>normal</td>\n",
       "      <td>pale_pink</td>\n",
       "      <td>less_3_sec</td>\n",
       "      <td>mild_pain</td>\n",
       "      <td>hypomotile</td>\n",
       "      <td>none</td>\n",
       "      <td>33.0</td>\n",
       "      <td>6.7</td>\n",
       "      <td>lived</td>\n",
       "      <td>no</td>\n",
       "      <td>0</td>\n",
       "      <td>0</td>\n",
       "      <td>0</td>\n",
       "      <td>yes</td>\n",
       "    </tr>\n",
       "    <tr>\n",
       "      <th>3</th>\n",
       "      <td>yes</td>\n",
       "      <td>young</td>\n",
       "      <td>39.1</td>\n",
       "      <td>164.0</td>\n",
       "      <td>84.0</td>\n",
       "      <td>cold</td>\n",
       "      <td>normal</td>\n",
       "      <td>dark_cyanotic</td>\n",
       "      <td>more_3_sec</td>\n",
       "      <td>depressed</td>\n",
       "      <td>absent</td>\n",
       "      <td>severe</td>\n",
       "      <td>48.0</td>\n",
       "      <td>7.2</td>\n",
       "      <td>died</td>\n",
       "      <td>yes</td>\n",
       "      <td>2208</td>\n",
       "      <td>0</td>\n",
       "      <td>0</td>\n",
       "      <td>yes</td>\n",
       "    </tr>\n",
       "    <tr>\n",
       "      <th>4</th>\n",
       "      <td>no</td>\n",
       "      <td>adult</td>\n",
       "      <td>37.3</td>\n",
       "      <td>104.0</td>\n",
       "      <td>35.0</td>\n",
       "      <td>cool</td>\n",
       "      <td>normal</td>\n",
       "      <td>dark_cyanotic</td>\n",
       "      <td>more_3_sec</td>\n",
       "      <td>mild_pain</td>\n",
       "      <td>hypomotile</td>\n",
       "      <td>none</td>\n",
       "      <td>74.0</td>\n",
       "      <td>7.4</td>\n",
       "      <td>died</td>\n",
       "      <td>no</td>\n",
       "      <td>4300</td>\n",
       "      <td>0</td>\n",
       "      <td>0</td>\n",
       "      <td>no</td>\n",
       "    </tr>\n",
       "  </tbody>\n",
       "</table>\n",
       "</div>"
      ],
      "text/plain": [
       "  surgery    age  rectal_temp  pulse  respiratory_rate temp_of_extremities  \\\n",
       "0      no  adult         38.5   66.0              28.0                cool   \n",
       "1     yes  adult         39.2   88.0              20.0                cool   \n",
       "2      no  adult         38.3   40.0              24.0              normal   \n",
       "3     yes  young         39.1  164.0              84.0                cold   \n",
       "4      no  adult         37.3  104.0              35.0                cool   \n",
       "\n",
       "  peripheral_pulse mucous_membrane capillary_refill_time          pain  \\\n",
       "0          reduced     normal_pink            more_3_sec  extreme_pain   \n",
       "1           normal   pale_cyanotic            less_3_sec     mild_pain   \n",
       "2           normal       pale_pink            less_3_sec     mild_pain   \n",
       "3           normal   dark_cyanotic            more_3_sec     depressed   \n",
       "4           normal   dark_cyanotic            more_3_sec     mild_pain   \n",
       "\n",
       "  peristalsis abdominal_distention  packed_cell_volume  total_protein  \\\n",
       "0      absent               severe                45.0            8.4   \n",
       "1      absent               slight                50.0           85.0   \n",
       "2  hypomotile                 none                33.0            6.7   \n",
       "3      absent               severe                48.0            7.2   \n",
       "4  hypomotile                 none                74.0            7.4   \n",
       "\n",
       "      outcome surgical_lesion  lesion_1  lesion_2  lesion_3 cp_data  \n",
       "0        died              no     11300         0         0      no  \n",
       "1  euthanized              no      2208         0         0      no  \n",
       "2       lived              no         0         0         0     yes  \n",
       "3        died             yes      2208         0         0     yes  \n",
       "4        died              no      4300         0         0      no  "
      ]
     },
     "execution_count": 87,
     "metadata": {},
     "output_type": "execute_result"
    }
   ],
   "source": [
    "df.head()"
   ]
  },
  {
   "cell_type": "code",
   "execution_count": 88,
   "metadata": {},
   "outputs": [
    {
     "data": {
      "text/plain": [
       "surgery                   object\n",
       "age                       object\n",
       "rectal_temp              float64\n",
       "pulse                    float64\n",
       "respiratory_rate         float64\n",
       "temp_of_extremities       object\n",
       "peripheral_pulse          object\n",
       "mucous_membrane           object\n",
       "capillary_refill_time     object\n",
       "pain                      object\n",
       "peristalsis               object\n",
       "abdominal_distention      object\n",
       "packed_cell_volume       float64\n",
       "total_protein            float64\n",
       "outcome                   object\n",
       "surgical_lesion           object\n",
       "lesion_1                   int64\n",
       "lesion_2                   int64\n",
       "lesion_3                   int64\n",
       "cp_data                   object\n",
       "dtype: object"
      ]
     },
     "execution_count": 88,
     "metadata": {},
     "output_type": "execute_result"
    }
   ],
   "source": [
    "df.dtypes"
   ]
  },
  {
   "cell_type": "code",
   "execution_count": 89,
   "metadata": {},
   "outputs": [
    {
     "data": {
      "text/plain": [
       "0       292\n",
       "3111      3\n",
       "6112      1\n",
       "7111      1\n",
       "1400      1\n",
       "3112      1\n",
       "Name: lesion_2, dtype: int64"
      ]
     },
     "execution_count": 89,
     "metadata": {},
     "output_type": "execute_result"
    }
   ],
   "source": [
    "df[\"lesion_2\"].value_counts()"
   ]
  },
  {
   "cell_type": "code",
   "execution_count": 90,
   "metadata": {},
   "outputs": [
    {
     "data": {
      "text/plain": [
       "0       298\n",
       "2209      1\n",
       "Name: lesion_3, dtype: int64"
      ]
     },
     "execution_count": 90,
     "metadata": {},
     "output_type": "execute_result"
    }
   ],
   "source": [
    "df[\"lesion_3\"].value_counts()"
   ]
  },
  {
   "cell_type": "code",
   "execution_count": 91,
   "metadata": {},
   "outputs": [
    {
     "data": {
      "text/plain": [
       "0        56\n",
       "3111     32\n",
       "3205     29\n",
       "2208     20\n",
       "2205     13\n",
       "         ..\n",
       "11400     1\n",
       "7400      1\n",
       "3113      1\n",
       "3300      1\n",
       "41110     1\n",
       "Name: lesion_1, Length: 61, dtype: int64"
      ]
     },
     "execution_count": 91,
     "metadata": {},
     "output_type": "execute_result"
    }
   ],
   "source": [
    "df[\"lesion_1\"].value_counts()"
   ]
  },
  {
   "cell_type": "code",
   "execution_count": 92,
   "metadata": {},
   "outputs": [],
   "source": [
    "df[\"lesion_3\"] = df[\"lesion_3\"].astype(\"category\")\n",
    "df[\"lesion_2\"] = df[\"lesion_2\"].astype(\"category\")"
   ]
  },
  {
   "cell_type": "code",
   "execution_count": 93,
   "metadata": {},
   "outputs": [],
   "source": [
    "df_cat = df.select_dtypes(include=[\"category\", \"object\"])\n",
    "df_num = df.select_dtypes(exclude=[\"category\", \"object\"])"
   ]
  },
  {
   "cell_type": "code",
   "execution_count": 94,
   "metadata": {},
   "outputs": [],
   "source": [
    "df_cat = df_cat.drop(\"outcome\",axis=1)"
   ]
  },
  {
   "cell_type": "code",
   "execution_count": 95,
   "metadata": {},
   "outputs": [],
   "source": [
    "df[\"outcome\"] = df[\"outcome\"].map({\"died\":1, \"euthanized\":2, \"lived\":3})"
   ]
  },
  {
   "cell_type": "code",
   "execution_count": 96,
   "metadata": {},
   "outputs": [],
   "source": [
    "# log transform\n",
    "\n",
    "df_num_log  = df_num.apply(np.log1p)"
   ]
  },
  {
   "cell_type": "code",
   "execution_count": 97,
   "metadata": {},
   "outputs": [
    {
     "data": {
      "text/html": [
       "<div>\n",
       "<style scoped>\n",
       "    .dataframe tbody tr th:only-of-type {\n",
       "        vertical-align: middle;\n",
       "    }\n",
       "\n",
       "    .dataframe tbody tr th {\n",
       "        vertical-align: top;\n",
       "    }\n",
       "\n",
       "    .dataframe thead th {\n",
       "        text-align: right;\n",
       "    }\n",
       "</style>\n",
       "<table border=\"1\" class=\"dataframe\">\n",
       "  <thead>\n",
       "    <tr style=\"text-align: right;\">\n",
       "      <th></th>\n",
       "      <th>rectal_temp</th>\n",
       "      <th>pulse</th>\n",
       "      <th>respiratory_rate</th>\n",
       "      <th>packed_cell_volume</th>\n",
       "      <th>total_protein</th>\n",
       "      <th>lesion_1</th>\n",
       "    </tr>\n",
       "  </thead>\n",
       "  <tbody>\n",
       "    <tr>\n",
       "      <th>0</th>\n",
       "      <td>3.676301</td>\n",
       "      <td>4.204693</td>\n",
       "      <td>3.367296</td>\n",
       "      <td>3.828641</td>\n",
       "      <td>2.240710</td>\n",
       "      <td>9.332646</td>\n",
       "    </tr>\n",
       "    <tr>\n",
       "      <th>1</th>\n",
       "      <td>3.693867</td>\n",
       "      <td>4.488636</td>\n",
       "      <td>3.044522</td>\n",
       "      <td>3.931826</td>\n",
       "      <td>4.454347</td>\n",
       "      <td>7.700295</td>\n",
       "    </tr>\n",
       "    <tr>\n",
       "      <th>2</th>\n",
       "      <td>3.671225</td>\n",
       "      <td>3.713572</td>\n",
       "      <td>3.218876</td>\n",
       "      <td>3.526361</td>\n",
       "      <td>2.041220</td>\n",
       "      <td>0.000000</td>\n",
       "    </tr>\n",
       "    <tr>\n",
       "      <th>3</th>\n",
       "      <td>3.691376</td>\n",
       "      <td>5.105945</td>\n",
       "      <td>4.442651</td>\n",
       "      <td>3.891820</td>\n",
       "      <td>2.104134</td>\n",
       "      <td>7.700295</td>\n",
       "    </tr>\n",
       "    <tr>\n",
       "      <th>4</th>\n",
       "      <td>3.645450</td>\n",
       "      <td>4.653960</td>\n",
       "      <td>3.583519</td>\n",
       "      <td>4.317488</td>\n",
       "      <td>2.128232</td>\n",
       "      <td>8.366603</td>\n",
       "    </tr>\n",
       "  </tbody>\n",
       "</table>\n",
       "</div>"
      ],
      "text/plain": [
       "   rectal_temp     pulse  respiratory_rate  packed_cell_volume  total_protein  \\\n",
       "0     3.676301  4.204693          3.367296            3.828641       2.240710   \n",
       "1     3.693867  4.488636          3.044522            3.931826       4.454347   \n",
       "2     3.671225  3.713572          3.218876            3.526361       2.041220   \n",
       "3     3.691376  5.105945          4.442651            3.891820       2.104134   \n",
       "4     3.645450  4.653960          3.583519            4.317488       2.128232   \n",
       "\n",
       "   lesion_1  \n",
       "0  9.332646  \n",
       "1  7.700295  \n",
       "2  0.000000  \n",
       "3  7.700295  \n",
       "4  8.366603  "
      ]
     },
     "execution_count": 97,
     "metadata": {},
     "output_type": "execute_result"
    }
   ],
   "source": [
    "df_num_log.head()"
   ]
  },
  {
   "cell_type": "code",
   "execution_count": 98,
   "metadata": {},
   "outputs": [
    {
     "data": {
      "text/html": [
       "<div>\n",
       "<style scoped>\n",
       "    .dataframe tbody tr th:only-of-type {\n",
       "        vertical-align: middle;\n",
       "    }\n",
       "\n",
       "    .dataframe tbody tr th {\n",
       "        vertical-align: top;\n",
       "    }\n",
       "\n",
       "    .dataframe thead th {\n",
       "        text-align: right;\n",
       "    }\n",
       "</style>\n",
       "<table border=\"1\" class=\"dataframe\">\n",
       "  <thead>\n",
       "    <tr style=\"text-align: right;\">\n",
       "      <th></th>\n",
       "      <th>rectal_temp</th>\n",
       "      <th>pulse</th>\n",
       "      <th>respiratory_rate</th>\n",
       "      <th>packed_cell_volume</th>\n",
       "      <th>total_protein</th>\n",
       "      <th>lesion_1</th>\n",
       "    </tr>\n",
       "  </thead>\n",
       "  <tbody>\n",
       "    <tr>\n",
       "      <th>count</th>\n",
       "      <td>299.000000</td>\n",
       "      <td>299.000000</td>\n",
       "      <td>299.000000</td>\n",
       "      <td>299.000000</td>\n",
       "      <td>299.000000</td>\n",
       "      <td>299.000000</td>\n",
       "    </tr>\n",
       "    <tr>\n",
       "      <th>mean</th>\n",
       "      <td>3.667897</td>\n",
       "      <td>4.216514</td>\n",
       "      <td>3.306299</td>\n",
       "      <td>3.835579</td>\n",
       "      <td>2.628527</td>\n",
       "      <td>6.577290</td>\n",
       "    </tr>\n",
       "    <tr>\n",
       "      <th>std</th>\n",
       "      <td>0.016753</td>\n",
       "      <td>0.355200</td>\n",
       "      <td>0.450647</td>\n",
       "      <td>0.204732</td>\n",
       "      <td>0.942747</td>\n",
       "      <td>3.226354</td>\n",
       "    </tr>\n",
       "    <tr>\n",
       "      <th>min</th>\n",
       "      <td>3.594569</td>\n",
       "      <td>3.433987</td>\n",
       "      <td>2.197225</td>\n",
       "      <td>3.178054</td>\n",
       "      <td>1.458615</td>\n",
       "      <td>0.000000</td>\n",
       "    </tr>\n",
       "    <tr>\n",
       "      <th>25%</th>\n",
       "      <td>3.660994</td>\n",
       "      <td>3.901922</td>\n",
       "      <td>3.044522</td>\n",
       "      <td>3.688879</td>\n",
       "      <td>2.028148</td>\n",
       "      <td>7.655627</td>\n",
       "    </tr>\n",
       "    <tr>\n",
       "      <th>50%</th>\n",
       "      <td>3.668677</td>\n",
       "      <td>4.174387</td>\n",
       "      <td>3.258097</td>\n",
       "      <td>3.850148</td>\n",
       "      <td>2.140066</td>\n",
       "      <td>7.750615</td>\n",
       "    </tr>\n",
       "    <tr>\n",
       "      <th>75%</th>\n",
       "      <td>3.676301</td>\n",
       "      <td>4.488636</td>\n",
       "      <td>3.569433</td>\n",
       "      <td>3.931826</td>\n",
       "      <td>3.970114</td>\n",
       "      <td>8.074026</td>\n",
       "    </tr>\n",
       "    <tr>\n",
       "      <th>max</th>\n",
       "      <td>3.732896</td>\n",
       "      <td>5.220356</td>\n",
       "      <td>4.574711</td>\n",
       "      <td>4.330733</td>\n",
       "      <td>4.499810</td>\n",
       "      <td>10.624031</td>\n",
       "    </tr>\n",
       "  </tbody>\n",
       "</table>\n",
       "</div>"
      ],
      "text/plain": [
       "       rectal_temp       pulse  respiratory_rate  packed_cell_volume  \\\n",
       "count   299.000000  299.000000        299.000000          299.000000   \n",
       "mean      3.667897    4.216514          3.306299            3.835579   \n",
       "std       0.016753    0.355200          0.450647            0.204732   \n",
       "min       3.594569    3.433987          2.197225            3.178054   \n",
       "25%       3.660994    3.901922          3.044522            3.688879   \n",
       "50%       3.668677    4.174387          3.258097            3.850148   \n",
       "75%       3.676301    4.488636          3.569433            3.931826   \n",
       "max       3.732896    5.220356          4.574711            4.330733   \n",
       "\n",
       "       total_protein    lesion_1  \n",
       "count     299.000000  299.000000  \n",
       "mean        2.628527    6.577290  \n",
       "std         0.942747    3.226354  \n",
       "min         1.458615    0.000000  \n",
       "25%         2.028148    7.655627  \n",
       "50%         2.140066    7.750615  \n",
       "75%         3.970114    8.074026  \n",
       "max         4.499810   10.624031  "
      ]
     },
     "execution_count": 98,
     "metadata": {},
     "output_type": "execute_result"
    }
   ],
   "source": [
    "df_num_log.describe()"
   ]
  },
  {
   "cell_type": "code",
   "execution_count": 99,
   "metadata": {},
   "outputs": [],
   "source": [
    "from sklearn.preprocessing import StandardScaler, MinMaxScaler"
   ]
  },
  {
   "cell_type": "code",
   "execution_count": 100,
   "metadata": {},
   "outputs": [],
   "source": [
    "sc= MinMaxScaler()\n",
    "df_num_sc = sc.fit_transform(df_num_log)"
   ]
  },
  {
   "cell_type": "code",
   "execution_count": 101,
   "metadata": {},
   "outputs": [],
   "source": [
    "df_num_df = pd.DataFrame(df_num_sc, index = df_num_log.index, columns=df_num_log.columns)"
   ]
  },
  {
   "cell_type": "code",
   "execution_count": 102,
   "metadata": {},
   "outputs": [],
   "source": [
    "df_cat_dum = pd.get_dummies(df_cat)"
   ]
  },
  {
   "cell_type": "code",
   "execution_count": 103,
   "metadata": {},
   "outputs": [],
   "source": [
    "df_final = pd.concat([df_cat_dum, df_num_df],axis=1)"
   ]
  },
  {
   "cell_type": "code",
   "execution_count": 104,
   "metadata": {},
   "outputs": [
    {
     "data": {
      "text/html": [
       "<div>\n",
       "<style scoped>\n",
       "    .dataframe tbody tr th:only-of-type {\n",
       "        vertical-align: middle;\n",
       "    }\n",
       "\n",
       "    .dataframe tbody tr th {\n",
       "        vertical-align: top;\n",
       "    }\n",
       "\n",
       "    .dataframe thead th {\n",
       "        text-align: right;\n",
       "    }\n",
       "</style>\n",
       "<table border=\"1\" class=\"dataframe\">\n",
       "  <thead>\n",
       "    <tr style=\"text-align: right;\">\n",
       "      <th></th>\n",
       "      <th>surgery_no</th>\n",
       "      <th>surgery_yes</th>\n",
       "      <th>age_adult</th>\n",
       "      <th>age_young</th>\n",
       "      <th>temp_of_extremities_cold</th>\n",
       "      <th>temp_of_extremities_cool</th>\n",
       "      <th>temp_of_extremities_normal</th>\n",
       "      <th>temp_of_extremities_warm</th>\n",
       "      <th>peripheral_pulse_absent</th>\n",
       "      <th>peripheral_pulse_increased</th>\n",
       "      <th>...</th>\n",
       "      <th>lesion_3_0</th>\n",
       "      <th>lesion_3_2209</th>\n",
       "      <th>cp_data_no</th>\n",
       "      <th>cp_data_yes</th>\n",
       "      <th>rectal_temp</th>\n",
       "      <th>pulse</th>\n",
       "      <th>respiratory_rate</th>\n",
       "      <th>packed_cell_volume</th>\n",
       "      <th>total_protein</th>\n",
       "      <th>lesion_1</th>\n",
       "    </tr>\n",
       "  </thead>\n",
       "  <tbody>\n",
       "    <tr>\n",
       "      <th>0</th>\n",
       "      <td>1</td>\n",
       "      <td>0</td>\n",
       "      <td>1</td>\n",
       "      <td>0</td>\n",
       "      <td>0</td>\n",
       "      <td>1</td>\n",
       "      <td>0</td>\n",
       "      <td>0</td>\n",
       "      <td>0</td>\n",
       "      <td>0</td>\n",
       "      <td>...</td>\n",
       "      <td>1</td>\n",
       "      <td>0</td>\n",
       "      <td>1</td>\n",
       "      <td>0</td>\n",
       "      <td>0.590858</td>\n",
       "      <td>0.431437</td>\n",
       "      <td>0.492146</td>\n",
       "      <td>0.564413</td>\n",
       "      <td>0.257167</td>\n",
       "      <td>0.878447</td>\n",
       "    </tr>\n",
       "    <tr>\n",
       "      <th>1</th>\n",
       "      <td>0</td>\n",
       "      <td>1</td>\n",
       "      <td>1</td>\n",
       "      <td>0</td>\n",
       "      <td>0</td>\n",
       "      <td>1</td>\n",
       "      <td>0</td>\n",
       "      <td>0</td>\n",
       "      <td>0</td>\n",
       "      <td>0</td>\n",
       "      <td>...</td>\n",
       "      <td>1</td>\n",
       "      <td>0</td>\n",
       "      <td>1</td>\n",
       "      <td>0</td>\n",
       "      <td>0.717848</td>\n",
       "      <td>0.590387</td>\n",
       "      <td>0.356384</td>\n",
       "      <td>0.653930</td>\n",
       "      <td>0.985051</td>\n",
       "      <td>0.724800</td>\n",
       "    </tr>\n",
       "    <tr>\n",
       "      <th>2</th>\n",
       "      <td>1</td>\n",
       "      <td>0</td>\n",
       "      <td>1</td>\n",
       "      <td>0</td>\n",
       "      <td>0</td>\n",
       "      <td>0</td>\n",
       "      <td>1</td>\n",
       "      <td>0</td>\n",
       "      <td>0</td>\n",
       "      <td>0</td>\n",
       "      <td>...</td>\n",
       "      <td>1</td>\n",
       "      <td>0</td>\n",
       "      <td>0</td>\n",
       "      <td>1</td>\n",
       "      <td>0.554161</td>\n",
       "      <td>0.156510</td>\n",
       "      <td>0.429719</td>\n",
       "      <td>0.302171</td>\n",
       "      <td>0.191571</td>\n",
       "      <td>0.000000</td>\n",
       "    </tr>\n",
       "    <tr>\n",
       "      <th>3</th>\n",
       "      <td>0</td>\n",
       "      <td>1</td>\n",
       "      <td>0</td>\n",
       "      <td>1</td>\n",
       "      <td>1</td>\n",
       "      <td>0</td>\n",
       "      <td>0</td>\n",
       "      <td>0</td>\n",
       "      <td>0</td>\n",
       "      <td>0</td>\n",
       "      <td>...</td>\n",
       "      <td>1</td>\n",
       "      <td>0</td>\n",
       "      <td>0</td>\n",
       "      <td>1</td>\n",
       "      <td>0.699843</td>\n",
       "      <td>0.935954</td>\n",
       "      <td>0.944454</td>\n",
       "      <td>0.619224</td>\n",
       "      <td>0.212258</td>\n",
       "      <td>0.724800</td>\n",
       "    </tr>\n",
       "    <tr>\n",
       "      <th>4</th>\n",
       "      <td>1</td>\n",
       "      <td>0</td>\n",
       "      <td>1</td>\n",
       "      <td>0</td>\n",
       "      <td>0</td>\n",
       "      <td>1</td>\n",
       "      <td>0</td>\n",
       "      <td>0</td>\n",
       "      <td>0</td>\n",
       "      <td>0</td>\n",
       "      <td>...</td>\n",
       "      <td>1</td>\n",
       "      <td>0</td>\n",
       "      <td>1</td>\n",
       "      <td>0</td>\n",
       "      <td>0.367831</td>\n",
       "      <td>0.682935</td>\n",
       "      <td>0.583092</td>\n",
       "      <td>0.988509</td>\n",
       "      <td>0.220182</td>\n",
       "      <td>0.787517</td>\n",
       "    </tr>\n",
       "  </tbody>\n",
       "</table>\n",
       "<p>5 rows × 52 columns</p>\n",
       "</div>"
      ],
      "text/plain": [
       "   surgery_no  surgery_yes  age_adult  age_young  temp_of_extremities_cold  \\\n",
       "0           1            0          1          0                         0   \n",
       "1           0            1          1          0                         0   \n",
       "2           1            0          1          0                         0   \n",
       "3           0            1          0          1                         1   \n",
       "4           1            0          1          0                         0   \n",
       "\n",
       "   temp_of_extremities_cool  temp_of_extremities_normal  \\\n",
       "0                         1                           0   \n",
       "1                         1                           0   \n",
       "2                         0                           1   \n",
       "3                         0                           0   \n",
       "4                         1                           0   \n",
       "\n",
       "   temp_of_extremities_warm  peripheral_pulse_absent  \\\n",
       "0                         0                        0   \n",
       "1                         0                        0   \n",
       "2                         0                        0   \n",
       "3                         0                        0   \n",
       "4                         0                        0   \n",
       "\n",
       "   peripheral_pulse_increased  ...  lesion_3_0  lesion_3_2209  cp_data_no  \\\n",
       "0                           0  ...           1              0           1   \n",
       "1                           0  ...           1              0           1   \n",
       "2                           0  ...           1              0           0   \n",
       "3                           0  ...           1              0           0   \n",
       "4                           0  ...           1              0           1   \n",
       "\n",
       "   cp_data_yes  rectal_temp     pulse  respiratory_rate  packed_cell_volume  \\\n",
       "0            0     0.590858  0.431437          0.492146            0.564413   \n",
       "1            0     0.717848  0.590387          0.356384            0.653930   \n",
       "2            1     0.554161  0.156510          0.429719            0.302171   \n",
       "3            1     0.699843  0.935954          0.944454            0.619224   \n",
       "4            0     0.367831  0.682935          0.583092            0.988509   \n",
       "\n",
       "   total_protein  lesion_1  \n",
       "0       0.257167  0.878447  \n",
       "1       0.985051  0.724800  \n",
       "2       0.191571  0.000000  \n",
       "3       0.212258  0.724800  \n",
       "4       0.220182  0.787517  \n",
       "\n",
       "[5 rows x 52 columns]"
      ]
     },
     "execution_count": 104,
     "metadata": {},
     "output_type": "execute_result"
    }
   ],
   "source": [
    "df_final.head()"
   ]
  },
  {
   "cell_type": "code",
   "execution_count": 105,
   "metadata": {},
   "outputs": [],
   "source": [
    "x = df_final\n",
    "y = df[\"outcome\"]"
   ]
  },
  {
   "cell_type": "code",
   "execution_count": 106,
   "metadata": {},
   "outputs": [],
   "source": [
    "from sklearn.model_selection import train_test_split\n",
    "x_train, x_test, y_train, y_test = train_test_split(x, y, test_size=.2, random_state = 100)"
   ]
  },
  {
   "cell_type": "code",
   "execution_count": 107,
   "metadata": {},
   "outputs": [],
   "source": [
    "from sklearn.tree import DecisionTreeClassifier"
   ]
  },
  {
   "cell_type": "code",
   "execution_count": 108,
   "metadata": {},
   "outputs": [
    {
     "data": {
      "text/plain": [
       "DecisionTreeClassifier(ccp_alpha=0.0, class_weight=None, criterion='gini',\n",
       "                       max_depth=None, max_features=None, max_leaf_nodes=None,\n",
       "                       min_impurity_decrease=0.0, min_impurity_split=None,\n",
       "                       min_samples_leaf=1, min_samples_split=2,\n",
       "                       min_weight_fraction_leaf=0.0, presort='deprecated',\n",
       "                       random_state=None, splitter='best')"
      ]
     },
     "execution_count": 108,
     "metadata": {},
     "output_type": "execute_result"
    }
   ],
   "source": [
    "dt = DecisionTreeClassifier()\n",
    "dt.fit(x_train, y_train)"
   ]
  },
  {
   "cell_type": "code",
   "execution_count": 109,
   "metadata": {},
   "outputs": [],
   "source": [
    "pred = dt.predict(x_test)"
   ]
  },
  {
   "cell_type": "code",
   "execution_count": 124,
   "metadata": {},
   "outputs": [],
   "source": [
    "from sklearn.metrics import accuracy_score, confusion_matrix, roc_auc_score, roc_curve, classification_report"
   ]
  },
  {
   "cell_type": "code",
   "execution_count": 111,
   "metadata": {},
   "outputs": [
    {
     "data": {
      "text/plain": [
       "0.5666666666666667"
      ]
     },
     "execution_count": 111,
     "metadata": {},
     "output_type": "execute_result"
    }
   ],
   "source": [
    "accuracy_score(y_test, pred)"
   ]
  },
  {
   "cell_type": "code",
   "execution_count": 112,
   "metadata": {},
   "outputs": [
    {
     "data": {
      "text/plain": [
       "1.0"
      ]
     },
     "execution_count": 112,
     "metadata": {},
     "output_type": "execute_result"
    }
   ],
   "source": [
    "accuracy_score(y_train, dt.predict(x_train))"
   ]
  },
  {
   "cell_type": "code",
   "execution_count": 113,
   "metadata": {},
   "outputs": [],
   "source": [
    "from sklearn.ensemble import RandomForestClassifier"
   ]
  },
  {
   "cell_type": "code",
   "execution_count": 114,
   "metadata": {},
   "outputs": [
    {
     "data": {
      "text/plain": [
       "RandomForestClassifier(bootstrap=True, ccp_alpha=0.0, class_weight=None,\n",
       "                       criterion='gini', max_depth=None, max_features='auto',\n",
       "                       max_leaf_nodes=None, max_samples=None,\n",
       "                       min_impurity_decrease=0.0, min_impurity_split=None,\n",
       "                       min_samples_leaf=1, min_samples_split=2,\n",
       "                       min_weight_fraction_leaf=0.0, n_estimators=100,\n",
       "                       n_jobs=None, oob_score=False, random_state=None,\n",
       "                       verbose=0, warm_start=False)"
      ]
     },
     "execution_count": 114,
     "metadata": {},
     "output_type": "execute_result"
    }
   ],
   "source": [
    "rf = RandomForestClassifier()\n",
    "rf.fit(x_train, y_train)"
   ]
  },
  {
   "cell_type": "code",
   "execution_count": 116,
   "metadata": {},
   "outputs": [],
   "source": [
    "pred = rf.predict(x_test)"
   ]
  },
  {
   "cell_type": "code",
   "execution_count": 117,
   "metadata": {},
   "outputs": [
    {
     "data": {
      "text/plain": [
       "0.65"
      ]
     },
     "execution_count": 117,
     "metadata": {},
     "output_type": "execute_result"
    }
   ],
   "source": [
    "accuracy_score(y_test, pred)"
   ]
  },
  {
   "cell_type": "code",
   "execution_count": 118,
   "metadata": {},
   "outputs": [
    {
     "data": {
      "text/plain": [
       "1.0"
      ]
     },
     "execution_count": 118,
     "metadata": {},
     "output_type": "execute_result"
    }
   ],
   "source": [
    "accuracy_score(y_train, rf.predict(x_train))"
   ]
  },
  {
   "cell_type": "code",
   "execution_count": 119,
   "metadata": {},
   "outputs": [
    {
     "data": {
      "text/plain": [
       "array([2.10214530e-02, 1.80625114e-02, 6.95415112e-03, 6.05860204e-03,\n",
       "       9.11441958e-03, 2.09805987e-02, 1.83601075e-02, 5.51969560e-03,\n",
       "       9.35425118e-03, 1.21742131e-03, 1.87694919e-02, 1.88099175e-02,\n",
       "       5.41803105e-03, 9.81450457e-03, 8.04740083e-03, 2.00557809e-02,\n",
       "       1.07622895e-02, 1.07712283e-02, 2.50366678e-04, 1.99866810e-02,\n",
       "       2.25943267e-02, 2.98868485e-03, 6.17239519e-03, 2.08020168e-02,\n",
       "       1.84924216e-02, 2.34210513e-02, 1.44546665e-02, 4.22090103e-03,\n",
       "       1.62943097e-02, 3.81999686e-03, 1.49459118e-02, 1.41195699e-02,\n",
       "       1.20744872e-02, 1.23942708e-02, 2.80713174e-02, 2.29692529e-02,\n",
       "       1.09045730e-03, 3.06168629e-04, 1.51441427e-03, 0.00000000e+00,\n",
       "       9.36179947e-05, 0.00000000e+00, 2.74335550e-04, 1.21046000e-04,\n",
       "       1.62926155e-02, 1.56345259e-02, 5.84237192e-02, 9.41328412e-02,\n",
       "       5.14988600e-02, 9.65372089e-02, 9.76293580e-02, 8.92863473e-02])"
      ]
     },
     "execution_count": 119,
     "metadata": {},
     "output_type": "execute_result"
    }
   ],
   "source": [
    "rf.feature_importances_"
   ]
  },
  {
   "cell_type": "code",
   "execution_count": 120,
   "metadata": {},
   "outputs": [
    {
     "data": {
      "text/plain": [
       "Index(['surgery_no', 'surgery_yes', 'age_adult', 'age_young',\n",
       "       'temp_of_extremities_cold', 'temp_of_extremities_cool',\n",
       "       'temp_of_extremities_normal', 'temp_of_extremities_warm',\n",
       "       'peripheral_pulse_absent', 'peripheral_pulse_increased',\n",
       "       'peripheral_pulse_normal', 'peripheral_pulse_reduced',\n",
       "       'mucous_membrane_bright_pink', 'mucous_membrane_bright_red',\n",
       "       'mucous_membrane_dark_cyanotic', 'mucous_membrane_normal_pink',\n",
       "       'mucous_membrane_pale_cyanotic', 'mucous_membrane_pale_pink',\n",
       "       'capillary_refill_time_3', 'capillary_refill_time_less_3_sec',\n",
       "       'capillary_refill_time_more_3_sec', 'pain_alert', 'pain_depressed',\n",
       "       'pain_extreme_pain', 'pain_mild_pain', 'pain_severe_pain',\n",
       "       'peristalsis_absent', 'peristalsis_hypermotile',\n",
       "       'peristalsis_hypomotile', 'peristalsis_normal',\n",
       "       'abdominal_distention_moderate', 'abdominal_distention_none',\n",
       "       'abdominal_distention_severe', 'abdominal_distention_slight',\n",
       "       'surgical_lesion_no', 'surgical_lesion_yes', 'lesion_2_0',\n",
       "       'lesion_2_1400', 'lesion_2_3111', 'lesion_2_3112', 'lesion_2_6112',\n",
       "       'lesion_2_7111', 'lesion_3_0', 'lesion_3_2209', 'cp_data_no',\n",
       "       'cp_data_yes', 'rectal_temp', 'pulse', 'respiratory_rate',\n",
       "       'packed_cell_volume', 'total_protein', 'lesion_1'],\n",
       "      dtype='object')"
      ]
     },
     "execution_count": 120,
     "metadata": {},
     "output_type": "execute_result"
    }
   ],
   "source": [
    "x_train.columns"
   ]
  },
  {
   "cell_type": "code",
   "execution_count": 121,
   "metadata": {},
   "outputs": [
    {
     "data": {
      "text/plain": [
       "[(0.021021452985999858, 'surgery_no'),\n",
       " (0.01806251144166672, 'surgery_yes'),\n",
       " (0.006954151120642895, 'age_adult'),\n",
       " (0.006058602037095116, 'age_young'),\n",
       " (0.009114419577759048, 'temp_of_extremities_cold'),\n",
       " (0.020980598680586934, 'temp_of_extremities_cool'),\n",
       " (0.01836010754560363, 'temp_of_extremities_normal'),\n",
       " (0.005519695596414695, 'temp_of_extremities_warm'),\n",
       " (0.00935425118252043, 'peripheral_pulse_absent'),\n",
       " (0.0012174213105873451, 'peripheral_pulse_increased'),\n",
       " (0.018769491931930414, 'peripheral_pulse_normal'),\n",
       " (0.018809917531518044, 'peripheral_pulse_reduced'),\n",
       " (0.005418031048672225, 'mucous_membrane_bright_pink'),\n",
       " (0.009814504569918335, 'mucous_membrane_bright_red'),\n",
       " (0.008047400827442784, 'mucous_membrane_dark_cyanotic'),\n",
       " (0.020055780876848534, 'mucous_membrane_normal_pink'),\n",
       " (0.010762289520888247, 'mucous_membrane_pale_cyanotic'),\n",
       " (0.010771228299968492, 'mucous_membrane_pale_pink'),\n",
       " (0.0002503666783714065, 'capillary_refill_time_3'),\n",
       " (0.019986681001537214, 'capillary_refill_time_less_3_sec'),\n",
       " (0.022594326663977177, 'capillary_refill_time_more_3_sec'),\n",
       " (0.0029886848545397104, 'pain_alert'),\n",
       " (0.006172395194254185, 'pain_depressed'),\n",
       " (0.02080201684218209, 'pain_extreme_pain'),\n",
       " (0.018492421624042993, 'pain_mild_pain'),\n",
       " (0.02342105130381668, 'pain_severe_pain'),\n",
       " (0.014454666470893307, 'peristalsis_absent'),\n",
       " (0.004220901034890281, 'peristalsis_hypermotile'),\n",
       " (0.016294309681667056, 'peristalsis_hypomotile'),\n",
       " (0.0038199968578716288, 'peristalsis_normal'),\n",
       " (0.014945911783271346, 'abdominal_distention_moderate'),\n",
       " (0.014119569934616088, 'abdominal_distention_none'),\n",
       " (0.012074487171450477, 'abdominal_distention_severe'),\n",
       " (0.012394270774569737, 'abdominal_distention_slight'),\n",
       " (0.02807131735128231, 'surgical_lesion_no'),\n",
       " (0.022969252938854826, 'surgical_lesion_yes'),\n",
       " (0.0010904573032017152, 'lesion_2_0'),\n",
       " (0.00030616862882684395, 'lesion_2_1400'),\n",
       " (0.0015144142653300413, 'lesion_2_3111'),\n",
       " (0.0, 'lesion_2_3112'),\n",
       " (9.361799471038743e-05, 'lesion_2_6112'),\n",
       " (0.0, 'lesion_2_7111'),\n",
       " (0.0002743355500789884, 'lesion_3_0'),\n",
       " (0.00012104599950568662, 'lesion_3_2209'),\n",
       " (0.01629261550696294, 'cp_data_no'),\n",
       " (0.01563452594957112, 'cp_data_yes'),\n",
       " (0.05842371918081143, 'rectal_temp'),\n",
       " (0.09413284119922904, 'pulse'),\n",
       " (0.05149885995611502, 'respiratory_rate'),\n",
       " (0.09653720886150227, 'packed_cell_volume'),\n",
       " (0.09762935802628801, 'total_protein'),\n",
       " (0.08928634732971429, 'lesion_1')]"
      ]
     },
     "execution_count": 121,
     "metadata": {},
     "output_type": "execute_result"
    }
   ],
   "source": [
    "list(zip(rf.feature_importances_, x_train.columns))"
   ]
  },
  {
   "cell_type": "code",
   "execution_count": 122,
   "metadata": {},
   "outputs": [
    {
     "data": {
      "text/plain": [
       "array([[ 7,  0,  3],\n",
       "       [ 2,  3,  5],\n",
       "       [ 9,  2, 29]])"
      ]
     },
     "execution_count": 122,
     "metadata": {},
     "output_type": "execute_result"
    }
   ],
   "source": [
    "confusion_matrix(y_test, pred)"
   ]
  },
  {
   "cell_type": "code",
   "execution_count": 123,
   "metadata": {},
   "outputs": [
    {
     "data": {
      "text/plain": [
       "3    178\n",
       "1     77\n",
       "2     44\n",
       "Name: outcome, dtype: int64"
      ]
     },
     "execution_count": 123,
     "metadata": {},
     "output_type": "execute_result"
    }
   ],
   "source": [
    "df[\"outcome\"].value_counts()"
   ]
  },
  {
   "cell_type": "code",
   "execution_count": 125,
   "metadata": {},
   "outputs": [
    {
     "name": "stdout",
     "output_type": "stream",
     "text": [
      "              precision    recall  f1-score   support\n",
      "\n",
      "           1       0.39      0.70      0.50        10\n",
      "           2       0.60      0.30      0.40        10\n",
      "           3       0.78      0.72      0.75        40\n",
      "\n",
      "    accuracy                           0.65        60\n",
      "   macro avg       0.59      0.58      0.55        60\n",
      "weighted avg       0.69      0.65      0.65        60\n",
      "\n"
     ]
    }
   ],
   "source": [
    "print(classification_report(y_test, pred))"
   ]
  },
  {
   "cell_type": "code",
   "execution_count": 126,
   "metadata": {},
   "outputs": [
    {
     "data": {
      "text/plain": [
       "DecisionTreeClassifier(ccp_alpha=1.0, class_weight=None, criterion='gini',\n",
       "                       max_depth=None, max_features=None, max_leaf_nodes=None,\n",
       "                       min_impurity_decrease=0.0, min_impurity_split=None,\n",
       "                       min_samples_leaf=1, min_samples_split=2,\n",
       "                       min_weight_fraction_leaf=0.0, presort='deprecated',\n",
       "                       random_state=None, splitter='best')"
      ]
     },
     "execution_count": 126,
     "metadata": {},
     "output_type": "execute_result"
    }
   ],
   "source": [
    "dt = DecisionTreeClassifier(ccp_alpha=1.0)\n",
    "dt.fit(x_train, y_train)"
   ]
  },
  {
   "cell_type": "code",
   "execution_count": 127,
   "metadata": {},
   "outputs": [],
   "source": [
    "pred = dt.predict(x_test)"
   ]
  },
  {
   "cell_type": "code",
   "execution_count": 128,
   "metadata": {},
   "outputs": [
    {
     "data": {
      "text/plain": [
       "0.6666666666666666"
      ]
     },
     "execution_count": 128,
     "metadata": {},
     "output_type": "execute_result"
    }
   ],
   "source": [
    "accuracy_score(y_test, pred)"
   ]
  },
  {
   "cell_type": "code",
   "execution_count": 131,
   "metadata": {},
   "outputs": [
    {
     "data": {
      "text/plain": [
       "0.5774058577405857"
      ]
     },
     "execution_count": 131,
     "metadata": {},
     "output_type": "execute_result"
    }
   ],
   "source": [
    "accuracy_score(y_train, dt.predict(x_train))"
   ]
  },
  {
   "cell_type": "code",
   "execution_count": null,
   "metadata": {},
   "outputs": [],
   "source": []
  }
 ],
 "metadata": {
  "kernelspec": {
   "display_name": "Python 3",
   "language": "python",
   "name": "python3"
  },
  "language_info": {
   "codemirror_mode": {
    "name": "ipython",
    "version": 3
   },
   "file_extension": ".py",
   "mimetype": "text/x-python",
   "name": "python",
   "nbconvert_exporter": "python",
   "pygments_lexer": "ipython3",
   "version": "3.8.8"
  }
 },
 "nbformat": 4,
 "nbformat_minor": 4
}
